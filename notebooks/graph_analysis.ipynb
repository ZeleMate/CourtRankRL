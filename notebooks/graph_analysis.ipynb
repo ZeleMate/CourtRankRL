{
 "cells": [
  {
   "cell_type": "markdown",
   "id": "e556e2cb",
   "metadata": {},
   "source": [
    "# Jogeset Hálózat Elemzése\n",
    "Ebben a notebookban a `graph_builder.py` szkript által létrehozott jogeset hálózatot elemezzük."
   ]
  },
  {
   "cell_type": "code",
   "execution_count": null,
   "id": "11330a34",
   "metadata": {},
   "outputs": [],
   "source": [
    "# Szükséges könyvtárak importálása\n",
    "import networkx as nx\n",
    "import pandas as pd\n",
    "import matplotlib.pyplot as plt\n",
    "import plotly.express as px\n",
    "import json\n",
    "import os\n",
    "import sys\n",
    "\n",
    "# Projekt gyökérkönyvtár hozzáadása a path-hoz a config betöltéséhez\n",
    "project_root = os.path.abspath(os.path.join(os.getcwd(), '..'))\n",
    "if project_root not in sys.path:\n",
    "    sys.path.insert(0, project_root)\n",
    "\n",
    "try:\n",
    "    from configs import config\n",
    "    GRAPH_PATH_GML = config.GRAPH_OUTPUT_GML_PATH\n",
    "    GRAPH_PATH_JSON = config.GRAPH_OUTPUT_JSON_PATH\n",
    "    METADATA_PATH = config.GRAPH_METADATA_PATH\n",
    "except ImportError:\n",
    "    print('Config file not found, using default paths.')\n",
    "    GRAPH_PATH_GML = '../processed_data/output_graph.graphml'\n",
    "    GRAPH_PATH_JSON = '../processed_data/output_graph.json'\n",
    "    METADATA_PATH = '../processed_data/output_graph_metadata.json'\n",
    "\n",
    "# Matplotlib beállítások (opcionális)\n",
    "plt.style.use('ggplot')\n",
    "plt.rcParams['figure.figsize'] = (12, 8)"
   ]
  },
  {
   "cell_type": "markdown",
   "id": "fd34f197",
   "metadata": {},
   "source": [
    "## Gráf Betöltése\n",
    "Betöltjük a gráfot a GML fájlból. A GML formátum általában jobban megőrzi az attribútumokat, mint a JSON node-link formátum."
   ]
  },
  {
   "cell_type": "code",
   "execution_count": null,
   "id": "497c0151",
   "metadata": {},
   "outputs": [],
   "source": [
    "try:\n",
    "    G = nx.read_graphml(GRAPH_PATH_GML)\n",
    "    print(f'Gráf sikeresen betöltve: {GRAPH_PATH_GML}')\n",
    "    print(f'Csomópontok száma: {G.number_of_nodes()}')\n",
    "    print(f'Élek száma: {G.number_of_edges()}')\n",
    "except FileNotFoundError:\n",
    "    print(f'Hiba: A GML fájl nem található: {GRAPH_PATH_GML}')\n",
    "    G = None # Gráf inicializálása None-ra, ha a betöltés sikertelen\n",
    "except Exception as e:\n",
    "    print(f'Hiba a GML fájl betöltése közben: {e}')\n",
    "    G = None"
   ]
  },
  {
   "cell_type": "markdown",
   "id": "98603833",
   "metadata": {},
   "source": [
    "## Metaadatok Betöltése"
   ]
  },
  {
   "cell_type": "code",
   "execution_count": null,
   "id": "02ed48bd",
   "metadata": {},
   "outputs": [],
   "source": [
    "try:\n",
    "    with open(METADATA_PATH, 'r', encoding='utf-8') as f:\n",
    "        metadata = json.load(f)\n",
    "    print('Metaadatok:')\n",
    "    for key, value in metadata.items():\n",
    "        print(f'- {key}: {value}')\n",
    "except FileNotFoundError:\n",
    "    print(f'Hiba: A metaadat fájl nem található: {METADATA_PATH}')\n",
    "    metadata = None\n",
    "except Exception as e:\n",
    "    print(f'Hiba a metaadat fájl betöltése közben: {e}')\n",
    "    metadata = None"
   ]
  },
  {
   "cell_type": "markdown",
   "id": "042ea0da",
   "metadata": {},
   "source": [
    "## Alapvető Gráf Jellemzők\n",
    "Kiírjuk a gráf alapvető jellemzőit, mint a csomópontok és élek száma, valamint az átlagos fokszám."
   ]
  },
  {
   "cell_type": "code",
   "execution_count": null,
   "id": "ebb0506f",
   "metadata": {},
   "outputs": [],
   "source": [
    "if G is not None:\n",
    "    num_nodes = G.number_of_nodes()\n",
    "    num_edges = G.number_of_edges()\n",
    "    \n",
    "    if num_nodes > 0:\n",
    "        # Fokszámok kiszámítása (be-, ki- és teljes fokszám irányított gráf esetén)\n",
    "        in_degrees = dict(G.in_degree())\n",
    "        out_degrees = dict(G.out_degree())\n",
    "        total_degrees = dict(G.degree())\n",
    "        \n",
    "        avg_in_degree = sum(in_degrees.values()) / num_nodes\n",
    "        avg_out_degree = sum(out_degrees.values()) / num_nodes\n",
    "        avg_total_degree = sum(total_degrees.values()) / num_nodes\n",
    "        \n",
    "        print(f'Átlagos bejövő fokszám: {avg_in_degree:.2f}')\n",
    "        print(f'Átlagos kimenő fokszám: {avg_out_degree:.2f}')\n",
    "        print(f'Átlagos teljes fokszám: {avg_total_degree:.2f}')\n",
    "    else:\n",
    "        print('A gráf üres, nincs csomópont.')\n",
    "        \n",
    "    # Gráf sűrűsége\n",
    "    density = nx.density(G)\n",
    "    print(f'Gráf sűrűsége: {density:.6f}')\n",
    "else:\n",
    "    print('A gráf nincs betöltve.')"
   ]
  },
  {
   "cell_type": "markdown",
   "id": "664fb239",
   "metadata": {},
   "source": [
    "## Csomópont Típusok Elemzése\n",
    "Megszámoljuk a különböző típusú csomópontokat (pl. dokumentum, bíróság, jogszabály)."
   ]
  },
  {
   "cell_type": "code",
   "execution_count": null,
   "id": "07c7a689",
   "metadata": {},
   "outputs": [],
   "source": [
    "if G is not None:\n",
    "    node_types = nx.get_node_attributes(G, 'type')\n",
    "    type_counts = pd.Series(node_types).value_counts()\n",
    "    \n",
    "    print('Csomópont típusok eloszlása:')\n",
    "    print(type_counts)\n",
    "    \n",
    "    # Oszlopdiagram a típusokról\n",
    "    fig = px.bar(type_counts, x=type_counts.index, y=type_counts.values, labels={'x':'Típus', 'y':'Darabszám'}, title='Csomópont Típusok Eloszlása')\n",
    "    fig.show()\n",
    "else:\n",
    "    print('A gráf nincs betöltve.')"
   ]
  },
  {
   "cell_type": "markdown",
   "id": "a67877fa",
   "metadata": {},
   "source": [
    "## Fokszám Eloszlás Vizualizációja\n",
    "Megvizsgáljuk a bejövő, kimenő és teljes fokszámok eloszlását."
   ]
  },
  {
   "cell_type": "code",
   "execution_count": null,
   "id": "4f8f91f8",
   "metadata": {},
   "outputs": [],
   "source": [
    "if G is not None and num_nodes > 0:\n",
    "    # Adatkeretek létrehozása a fokszámokból\n",
    "    in_degree_df = pd.DataFrame(in_degrees.items(), columns=['node', 'in_degree']).sort_values('in_degree', ascending=False)\n",
    "    out_degree_df = pd.DataFrame(out_degrees.items(), columns=['node', 'out_degree']).sort_values('out_degree', ascending=False)\n",
    "    total_degree_df = pd.DataFrame(total_degrees.items(), columns=['node', 'total_degree']).sort_values('total_degree', ascending=False)\n",
    "    \n",
    "    print('\n",
    "Legmagasabb bejövő fokszámú csomópontok:')\n",
    "    print(in_degree_df.head())\n",
    "    \n",
    "    print('\n",
    "Legmagasabb kimenő fokszámú csomópontok:')\n",
    "    print(out_degree_df.head())\n",
    "    \n",
    "    print('\n",
    "Legmagasabb teljes fokszámú csomópontok:')\n",
    "    print(total_degree_df.head())\n",
    "    \n",
    "    # Hisztogramok\n",
    "    plt.figure(figsize=(18, 5))\n",
    "    \n",
    "    plt.subplot(1, 3, 1)\n",
    "    plt.hist(in_degrees.values(), bins=range(min(in_degrees.values()), max(in_degrees.values()) + 1, 1), alpha=0.7)\n",
    "    plt.title('Bejövő Fokszám Eloszlás')\n",
    "    plt.xlabel('Bejövő Fokszám')\n",
    "    plt.ylabel('Csomópontok Száma')\n",
    "    plt.yscale('log') # Logaritmikus skála hasznos lehet\n",
    "    \n",
    "    plt.subplot(1, 3, 2)\n",
    "    plt.hist(out_degrees.values(), bins=range(min(out_degrees.values()), max(out_degrees.values()) + 1, 1), alpha=0.7, color='orange')\n",
    "    plt.title('Kimenő Fokszám Eloszlás')\n",
    "    plt.xlabel('Kimenő Fokszám')\n",
    "    plt.ylabel('Csomópontok Száma')\n",
    "    plt.yscale('log')\n",
    "    \n",
    "    plt.subplot(1, 3, 3)\n",
    "    plt.hist(total_degrees.values(), bins=range(min(total_degrees.values()), max(total_degrees.values()) + 1, 1), alpha=0.7, color='green')\n",
    "    plt.title('Teljes Fokszám Eloszlás')\n",
    "    plt.xlabel('Teljes Fokszám')\n",
    "    plt.ylabel('Csomópontok Száma')\n",
    "    plt.yscale('log')\n",
    "    \n",
    "    plt.tight_layout()\n",
    "    plt.show()\n",
    "else:\n",
    "    print('A gráf nincs betöltve vagy üres.')"
   ]
  },
  {
   "cell_type": "markdown",
   "id": "7b69749c",
   "metadata": {},
   "source": [
    "## Gráf Vizualizáció (Minta)\n",
    "Mivel a teljes gráf valószínűleg túl nagy a közvetlen vizualizációhoz, itt egy kisebb algráfot vagy egy mintát jelenítünk meg. Például a legmagasabb fokszámú csomópontok környezetét.\n",
    "**Figyelem:** Nagy gráfok esetén ez a lépés lassú lehet és a kimenet átláthatatlan."
   ]
  },
  {
   "cell_type": "code",
   "execution_count": null,
   "id": "52995ae5",
   "metadata": {},
   "outputs": [],
   "source": [
    "if G is not None and num_nodes > 0:\n",
    "    # Kiválasztunk néhány központi csomópontot (pl. a legmagasabb fokszámúak)\n",
    "    central_nodes = total_degree_df['node'].head(5).tolist() # Top 5 csomópont\n",
    "    \n",
    "    # Létrehozzuk az ego gráfokat ezekre a csomópontokra (csomópont + közvetlen szomszédok)\n",
    "    subgraph_nodes = set(central_nodes)\n",
    "    for node in central_nodes:\n",
    "        subgraph_nodes.update(G.predecessors(node))\n",
    "        subgraph_nodes.update(G.successors(node))\n",
    "        \n",
    "    # Csak a dokumentum típusú csomópontokat tartjuk meg a szomszédok közül (opcionális szűrés)\n",
    "    # subgraph_nodes = {n for n in subgraph_nodes if G.nodes[n].get('type') == 'dokumentum' or n in central_nodes}\n",
    "    \n",
    "    sub_G = G.subgraph(subgraph_nodes)\n",
    "    \n",
    "    print(f'Algráf létrehozva {sub_G.number_of_nodes()} csomóponttal és {sub_G.number_of_edges()} éllel.')\n",
    "\n",
    "    if sub_G.number_of_nodes() > 0 and sub_G.number_of_nodes() < 500: # Csak ésszerű méretű algráfot rajzolunk ki\n",
    "        plt.figure(figsize=(15, 15))\n",
    "        pos = nx.spring_layout(sub_G, k=0.3, iterations=50) # Elrendezés\n",
    "        \n",
    "        # Csomópontok színe típus szerint\n",
    "        node_colors = []\n",
    "        color_map = {'dokumentum': 'blue', 'jogszabaly': 'red', 'birosag': 'green'}\n",
    "        for node in sub_G.nodes():\n",
    "            node_type = G.nodes[node].get('type', 'unknown')\n",
    "            node_colors.append(color_map.get(node_type, 'grey'))\n",
    "            \n",
    "        nx.draw(sub_G, pos, node_color=node_colors, with_labels=False, node_size=50, alpha=0.7, edge_color='gray')\n",
    "        \n",
    "        # Címkék csak a központi csomópontokhoz (opcionális, olvashatóság miatt)\n",
    "        # labels = {n: n for n in central_nodes if n in sub_G}\n",
    "        # nx.draw_networkx_labels(sub_G, pos, labels=labels, font_size=8)\n",
    "        \n",
    "        plt.title('Algráf Vizualizáció (Központi Csomópontok Környezete)')\n",
    "        plt.show()\n",
    "    elif sub_G.number_of_nodes() >= 500:\n",
    "        print('Az algráf túl nagy a vizualizációhoz.')\n",
    "    else:\n",
    "        print('Nem sikerült algráfot létrehozni.')\n",
    "else:\n",
    "    print('A gráf nincs betöltve vagy üres.')"
   ]
  },
  {
   "cell_type": "markdown",
   "id": "08af7dc3",
   "metadata": {},
   "source": [
    "## További Elemzési Lehetőségek\n",
    "*   **Centralitás mértékek:** PageRank, Betweenness Centrality, Eigenvector Centrality kiszámítása a legbefolyásosabb csomópontok azonosítására.\n",
    "*   **Komponens analízis:** Erősen és gyengén összefüggő komponensek vizsgálata.\n",
    "*   **Közösség detektálás:** Algoritmusok (pl. Louvain) futtatása a gráfban lévő közösségek (klaszterek) feltárására.\n",
    "*   **Időbeli elemzés:** Ha az adatok tartalmaznak időbélyeget, az időbeli változások vizsgálata."
   ]
  },
  {
   "cell_type": "markdown",
   "id": "3926356b",
   "metadata": {},
   "source": [
    "## Centralitás Mértékek\n",
    "A centralitás mértékek a gráf elemzés kulcsfontosságú eszközei, amelyek segítenek azonosítani a hálózatban a legbefolyásosabb csomópontokat különböző szempontok szerint. Az alábbiakban kiszámítjuk és összehasonlítjuk a legfontosabb centralitási mértékeket."
   ]
  }
 ],
 "metadata": {
  "language_info": {
   "name": "python"
  }
 },
 "nbformat": 4,
 "nbformat_minor": 5
}
