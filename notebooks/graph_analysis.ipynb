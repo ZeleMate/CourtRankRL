{
 "cells": [
  {
   "cell_type": "markdown",
   "id": "e556e2cb",
   "metadata": {},
   "source": [
    "# Jogeset Hálózat Elemzése\n",
    "Ebben a notebookban a `graph_builder.py` szkript által létrehozott jogeset hálózatot elemezzük."
   ]
  },
  {
   "cell_type": "code",
   "execution_count": 1,
   "id": "38472d02",
   "metadata": {},
   "outputs": [
    {
     "name": "stdout",
     "output_type": "stream",
     "text": [
      "zsh:1: 4.2.0 not found\n"
     ]
    }
   ],
   "source": [
    "# Pip install parancsok futtatása\n",
    "import sys\n",
    "!{sys.executable} -m pip install nbformat>=4.2.0 community networkx matplotlib plotly pandas seaborn numpy"
   ]
  },
  {
   "cell_type": "code",
   "execution_count": 2,
   "id": "11330a34",
   "metadata": {},
   "outputs": [
    {
     "name": "stdout",
     "output_type": "stream",
     "text": [
      "OpenAI API Key loaded successfully from environment.\n",
      "Konfiguráció betöltve. Projekt gyökér: /Users/zelenyianszkimate/Documents/Szakdolgozat\n",
      "Adat könyvtár: /Users/zelenyianszkimate/Documents/Szakdolgozat/data\n",
      "Kimeneti könyvtár: /Users/zelenyianszkimate/Documents/Szakdolgozat/processed_data\n",
      "Nyers adat CSV: /Users/zelenyianszkimate/Documents/Szakdolgozat/processed_data/raw_data_for_eda.csv\n",
      "Tisztított adat CSV: /Users/zelenyianszkimate/Documents/Szakdolgozat/processed_data/cleaned_data_for_embedding.csv\n",
      "Feldolgozott Parquet: /Users/zelenyianszkimate/Documents/Szakdolgozat/processed_data/processed_documents_with_embeddings.parquet\n",
      "OpenAI Embedding modell: text-embedding-3-small\n",
      "Config file loaded successfully.\n",
      "Using GraphML path: /Users/zelenyianszkimate/Documents/Szakdolgozat/processed_data/graph_data/graph.graphml\n",
      "Using JSON path: /Users/zelenyianszkimate/Documents/Szakdolgozat/processed_data/graph_data/graph.json\n",
      "Using metadata path: /Users/zelenyianszkimate/Documents/Szakdolgozat/processed_data/graph_data/graph_metadata.json\n"
     ]
    }
   ],
   "source": [
    "# Szükséges könyvtárak importálása\n",
    "import networkx as nx\n",
    "import pandas as pd\n",
    "import matplotlib.pyplot as plt\n",
    "import plotly.express as px\n",
    "import plotly.graph_objects as go\n",
    "import numpy as np\n",
    "import json\n",
    "import os\n",
    "import sys\n",
    "import collections\n",
    "from collections import Counter, defaultdict\n",
    "from matplotlib.colors import LinearSegmentedColormap\n",
    "from matplotlib.lines import Line2D  # Correct import for Line2D\n",
    "import seaborn as sns\n",
    "from community import community_louvain\n",
    "import time\n",
    "import nbformat\n",
    "\n",
    "# Figyelmeztetések kikapcsolása\n",
    "import warnings\n",
    "warnings.filterwarnings('ignore')\n",
    "\n",
    "# Projekt gyökérkönyvtár hozzáadása a path-hoz a config betöltéséhez\n",
    "project_root = os.path.abspath(os.path.join(os.getcwd(), '..'))\n",
    "if project_root not in sys.path:\n",
    "    sys.path.insert(0, project_root)\n",
    "\n",
    "# Alapértelmezett elérési útvonalak\n",
    "DEFAULT_GRAPH_PATH_GRAPHML = os.path.join(project_root, 'processed_data/graph_data/graph.graphml')\n",
    "DEFAULT_GRAPH_PATH_JSON = os.path.join(project_root, 'processed_data/graph_data/graph.json')\n",
    "DEFAULT_METADATA_PATH = os.path.join(project_root, 'processed_data/graph_data/graph_metadata.json')\n",
    "\n",
    "GRAPH_PATH_GRAPHML = DEFAULT_GRAPH_PATH_GRAPHML\n",
    "GRAPH_PATH_JSON = DEFAULT_GRAPH_PATH_JSON\n",
    "METADATA_PATH = DEFAULT_METADATA_PATH\n",
    "\n",
    "try:\n",
    "    from configs import config\n",
    "    # Biztonságos attribútum elérés getattr segítségével, alapértelmezett értékekkel\n",
    "    GRAPH_PATH_GRAPHML = os.path.join(project_root, getattr(config, 'GRAPH_OUTPUT_GRAPHML_PATH', 'processed_data/graph_data/graph.graphml'))\n",
    "    GRAPH_PATH_JSON = os.path.join(project_root, getattr(config, 'GRAPH_OUTPUT_JSON_PATH', 'processed_data/graph_data/graph.json'))\n",
    "    METADATA_PATH = os.path.join(project_root, getattr(config, 'GRAPH_METADATA_PATH', 'processed_data/graph_data/graph_metadata.json'))\n",
    "    print('Config file loaded successfully.')\n",
    "except ImportError:\n",
    "    print('Config file not found, using default paths.')\n",
    "except Exception as e:\n",
    "    print(f'Error loading config: {e}, using default paths.')\n",
    "\n",
    "# Print actual paths being used\n",
    "print(f\"Using GraphML path: {GRAPH_PATH_GRAPHML}\")\n",
    "print(f\"Using JSON path: {GRAPH_PATH_JSON}\")\n",
    "print(f\"Using metadata path: {METADATA_PATH}\")\n",
    "\n",
    "# Matplotlib beállítások (opcionális)\n",
    "plt.style.use('ggplot')\n",
    "plt.rcParams['figure.figsize'] = (12, 8)"
   ]
  },
  {
   "cell_type": "markdown",
   "id": "fd34f197",
   "metadata": {},
   "source": [
    "## Gráf Betöltése\n",
    "Először megpróbáljuk betölteni a GraphML formátumú gráfot, amely kompaktabb és gyorsabb. Ha ez nem sikerül, akkor visszatérünk a JSON formátumhoz."
   ]
  },
  {
   "cell_type": "code",
   "execution_count": 3,
   "id": "497c0151",
   "metadata": {},
   "outputs": [
    {
     "name": "stdout",
     "output_type": "stream",
     "text": [
      "GraphML gráf sikeresen betöltve: /Users/zelenyianszkimate/Documents/Szakdolgozat/processed_data/graph_data/graph.graphml\n",
      "Csomópontok száma: 1601344\n",
      "Élek száma: 4097870\n",
      "Élek száma: 4097870\n"
     ]
    }
   ],
   "source": [
    "# Megpróbáljuk a GraphML formátumot betölteni, ha nem sikerül, akkor JSON-t használunk\n",
    "try:\n",
    "    # GraphML formátumú gráf betöltése\n",
    "    G = nx.read_graphml(GRAPH_PATH_GRAPHML)\n",
    "    print(f'GraphML gráf sikeresen betöltve: {GRAPH_PATH_GRAPHML}')\n",
    "    print(f'Csomópontok száma: {G.number_of_nodes()}')\n",
    "    print(f'Élek száma: {G.number_of_edges()}')\n",
    "except Exception as e:\n",
    "    print(f'Hiba a GraphML fájl betöltése közben: {e}')\n",
    "    print('Megpróbáljuk a JSON formátumot betölteni...')\n",
    "    \n",
    "    try:\n",
    "        # JSON formátumú gráf betöltése\n",
    "        with open(GRAPH_PATH_JSON, 'r', encoding='utf-8') as f:\n",
    "            graph_data = json.load(f)\n",
    "        G = nx.node_link_graph(graph_data)\n",
    "        print(f'JSON gráf sikeresen betöltve: {GRAPH_PATH_JSON}')\n",
    "        print(f'Csomópontok száma: {G.number_of_nodes()}')\n",
    "        print(f'Élek száma: {G.number_of_edges()}')\n",
    "    except FileNotFoundError:\n",
    "        print(f'Hiba: A JSON fájl nem található: {GRAPH_PATH_JSON}')\n",
    "        G = None # Gráf inicializálása None-ra, ha a betöltés sikertelen\n",
    "    except Exception as e:\n",
    "        print(f'Hiba a JSON fájl betöltése közben: {e}')\n",
    "        G = None"
   ]
  },
  {
   "cell_type": "markdown",
   "id": "98603833",
   "metadata": {},
   "source": [
    "## Metaadatok Betöltése"
   ]
  },
  {
   "cell_type": "code",
   "execution_count": 4,
   "id": "02ed48bd",
   "metadata": {},
   "outputs": [
    {
     "name": "stdout",
     "output_type": "stream",
     "text": [
      "Metaadat betöltése: /Users/zelenyianszkimate/Documents/Szakdolgozat/processed_data/graph_data/graph_metadata.json\n",
      "Metaadatok sikeresen betöltve: /Users/zelenyianszkimate/Documents/Szakdolgozat/processed_data/graph_data/graph_metadata.json\n",
      "\n",
      "Betöltött Metaadatok:\n",
      "- generation_timestamp_utc: 2025-05-02T16:27:44.061976+00:00\n",
      "- node_count: 1601344\n",
      "- edge_count: 4097870\n",
      "- stop_jogszabalyok_count: 484\n",
      "- relation_types: ['hivatkozik', 'hivatkozik_jogszabalyra', 'targyalta']\n"
     ]
    }
   ],
   "source": [
    "try:\n",
    "    # Metaadatok betöltése a konfigurációból\n",
    "    print(f\"Metaadat betöltése: {METADATA_PATH}\")\n",
    "    with open(METADATA_PATH, 'r', encoding='utf-8') as f:\n",
    "        metadata = json.load(f)\n",
    "    print(f'Metaadatok sikeresen betöltve: {METADATA_PATH}')\n",
    "\n",
    "    # Betöltött metaadatok megjelenítése\n",
    "    print('\\nBetöltött Metaadatok:')\n",
    "    for key, value in metadata.items():\n",
    "        print(f'- {key}: {value}')\n",
    "except Exception as e:\n",
    "    print(f'Hiba a metaadat fájl betöltése közben: {e}')\n",
    "    metadata = None"
   ]
  },
  {
   "cell_type": "markdown",
   "id": "042ea0da",
   "metadata": {},
   "source": [
    "## Alapvető Gráf Jellemzők\n",
    "Kiírjuk a gráf alapvető jellemzőit, mint a csomópontok és élek száma, valamint az átlagos fokszám."
   ]
  },
  {
   "cell_type": "code",
   "execution_count": 5,
   "id": "ebb0506f",
   "metadata": {},
   "outputs": [
    {
     "name": "stdout",
     "output_type": "stream",
     "text": [
      "Átlagos bejövő fokszám: 2.56\n",
      "Átlagos kimenő fokszám: 2.56\n",
      "Átlagos teljes fokszám: 5.12\n",
      "Gráf sűrűsége: 0.000002\n",
      "Gráf sűrűsége: 0.000002\n"
     ]
    }
   ],
   "source": [
    "if G is not None:\n",
    "    num_nodes = G.number_of_nodes()\n",
    "    num_edges = G.number_of_edges()\n",
    "    \n",
    "    if num_nodes > 0:\n",
    "        # Fokszámok kiszámítása (be-, ki- és teljes fokszám irányított gráf esetén)\n",
    "        in_degrees = dict(G.in_degree())\n",
    "        out_degrees = dict(G.out_degree())\n",
    "        total_degrees = dict(G.degree())\n",
    "        \n",
    "        avg_in_degree = sum(in_degrees.values()) / num_nodes\n",
    "        avg_out_degree = sum(out_degrees.values()) / num_nodes\n",
    "        avg_total_degree = sum(total_degrees.values()) / num_nodes\n",
    "        \n",
    "        print(f'Átlagos bejövő fokszám: {avg_in_degree:.2f}')\n",
    "        print(f'Átlagos kimenő fokszám: {avg_out_degree:.2f}')\n",
    "        print(f'Átlagos teljes fokszám: {avg_total_degree:.2f}')\n",
    "    else:\n",
    "        print('A gráf üres, nincs csomópont.')\n",
    "        \n",
    "    # Gráf sűrűsége\n",
    "    density = nx.density(G)\n",
    "    print(f'Gráf sűrűsége: {density:.6f}')\n",
    "else:\n",
    "    print('A gráf nincs betöltve.')"
   ]
  },
  {
   "cell_type": "markdown",
   "id": "664fb239",
   "metadata": {},
   "source": [
    "## Csomópont Típusok Elemzése\n",
    "Megszámoljuk a különböző típusú csomópontokat (pl. dokumentum, bíróság, jogszabály)."
   ]
  },
  {
   "cell_type": "code",
   "execution_count": 6,
   "id": "07c7a689",
   "metadata": {},
   "outputs": [
    {
     "name": "stdout",
     "output_type": "stream",
     "text": [
      "Csomópont típusok eloszlása:\n",
      "jogszabaly    1211494\n",
      "dokumentum     389687\n",
      "birosag           163\n",
      "Name: count, dtype: int64\n"
     ]
    },
    {
     "data": {
      "application/vnd.plotly.v1+json": {
       "config": {
        "plotlyServerURL": "https://plot.ly"
       },
       "data": [
        {
         "hovertemplate": "Típus=%{x}<br>Darabszám=%{y}<extra></extra>",
         "legendgroup": "",
         "marker": {
          "color": "#636efa",
          "pattern": {
           "shape": ""
          }
         },
         "name": "",
         "orientation": "v",
         "showlegend": false,
         "textposition": "auto",
         "type": "bar",
         "x": [
          "jogszabaly",
          "dokumentum",
          "birosag"
         ],
         "xaxis": "x",
         "y": {
          "bdata": "ZnwSADfyBQCjAAAA",
          "dtype": "i4"
         },
         "yaxis": "y"
        }
       ],
       "layout": {
        "barmode": "relative",
        "legend": {
         "tracegroupgap": 0
        },
        "template": {
         "data": {
          "bar": [
           {
            "error_x": {
             "color": "#2a3f5f"
            },
            "error_y": {
             "color": "#2a3f5f"
            },
            "marker": {
             "line": {
              "color": "#E5ECF6",
              "width": 0.5
             },
             "pattern": {
              "fillmode": "overlay",
              "size": 10,
              "solidity": 0.2
             }
            },
            "type": "bar"
           }
          ],
          "barpolar": [
           {
            "marker": {
             "line": {
              "color": "#E5ECF6",
              "width": 0.5
             },
             "pattern": {
              "fillmode": "overlay",
              "size": 10,
              "solidity": 0.2
             }
            },
            "type": "barpolar"
           }
          ],
          "carpet": [
           {
            "aaxis": {
             "endlinecolor": "#2a3f5f",
             "gridcolor": "white",
             "linecolor": "white",
             "minorgridcolor": "white",
             "startlinecolor": "#2a3f5f"
            },
            "baxis": {
             "endlinecolor": "#2a3f5f",
             "gridcolor": "white",
             "linecolor": "white",
             "minorgridcolor": "white",
             "startlinecolor": "#2a3f5f"
            },
            "type": "carpet"
           }
          ],
          "choropleth": [
           {
            "colorbar": {
             "outlinewidth": 0,
             "ticks": ""
            },
            "type": "choropleth"
           }
          ],
          "contour": [
           {
            "colorbar": {
             "outlinewidth": 0,
             "ticks": ""
            },
            "colorscale": [
             [
              0,
              "#0d0887"
             ],
             [
              0.1111111111111111,
              "#46039f"
             ],
             [
              0.2222222222222222,
              "#7201a8"
             ],
             [
              0.3333333333333333,
              "#9c179e"
             ],
             [
              0.4444444444444444,
              "#bd3786"
             ],
             [
              0.5555555555555556,
              "#d8576b"
             ],
             [
              0.6666666666666666,
              "#ed7953"
             ],
             [
              0.7777777777777778,
              "#fb9f3a"
             ],
             [
              0.8888888888888888,
              "#fdca26"
             ],
             [
              1,
              "#f0f921"
             ]
            ],
            "type": "contour"
           }
          ],
          "contourcarpet": [
           {
            "colorbar": {
             "outlinewidth": 0,
             "ticks": ""
            },
            "type": "contourcarpet"
           }
          ],
          "heatmap": [
           {
            "colorbar": {
             "outlinewidth": 0,
             "ticks": ""
            },
            "colorscale": [
             [
              0,
              "#0d0887"
             ],
             [
              0.1111111111111111,
              "#46039f"
             ],
             [
              0.2222222222222222,
              "#7201a8"
             ],
             [
              0.3333333333333333,
              "#9c179e"
             ],
             [
              0.4444444444444444,
              "#bd3786"
             ],
             [
              0.5555555555555556,
              "#d8576b"
             ],
             [
              0.6666666666666666,
              "#ed7953"
             ],
             [
              0.7777777777777778,
              "#fb9f3a"
             ],
             [
              0.8888888888888888,
              "#fdca26"
             ],
             [
              1,
              "#f0f921"
             ]
            ],
            "type": "heatmap"
           }
          ],
          "histogram": [
           {
            "marker": {
             "pattern": {
              "fillmode": "overlay",
              "size": 10,
              "solidity": 0.2
             }
            },
            "type": "histogram"
           }
          ],
          "histogram2d": [
           {
            "colorbar": {
             "outlinewidth": 0,
             "ticks": ""
            },
            "colorscale": [
             [
              0,
              "#0d0887"
             ],
             [
              0.1111111111111111,
              "#46039f"
             ],
             [
              0.2222222222222222,
              "#7201a8"
             ],
             [
              0.3333333333333333,
              "#9c179e"
             ],
             [
              0.4444444444444444,
              "#bd3786"
             ],
             [
              0.5555555555555556,
              "#d8576b"
             ],
             [
              0.6666666666666666,
              "#ed7953"
             ],
             [
              0.7777777777777778,
              "#fb9f3a"
             ],
             [
              0.8888888888888888,
              "#fdca26"
             ],
             [
              1,
              "#f0f921"
             ]
            ],
            "type": "histogram2d"
           }
          ],
          "histogram2dcontour": [
           {
            "colorbar": {
             "outlinewidth": 0,
             "ticks": ""
            },
            "colorscale": [
             [
              0,
              "#0d0887"
             ],
             [
              0.1111111111111111,
              "#46039f"
             ],
             [
              0.2222222222222222,
              "#7201a8"
             ],
             [
              0.3333333333333333,
              "#9c179e"
             ],
             [
              0.4444444444444444,
              "#bd3786"
             ],
             [
              0.5555555555555556,
              "#d8576b"
             ],
             [
              0.6666666666666666,
              "#ed7953"
             ],
             [
              0.7777777777777778,
              "#fb9f3a"
             ],
             [
              0.8888888888888888,
              "#fdca26"
             ],
             [
              1,
              "#f0f921"
             ]
            ],
            "type": "histogram2dcontour"
           }
          ],
          "mesh3d": [
           {
            "colorbar": {
             "outlinewidth": 0,
             "ticks": ""
            },
            "type": "mesh3d"
           }
          ],
          "parcoords": [
           {
            "line": {
             "colorbar": {
              "outlinewidth": 0,
              "ticks": ""
             }
            },
            "type": "parcoords"
           }
          ],
          "pie": [
           {
            "automargin": true,
            "type": "pie"
           }
          ],
          "scatter": [
           {
            "fillpattern": {
             "fillmode": "overlay",
             "size": 10,
             "solidity": 0.2
            },
            "type": "scatter"
           }
          ],
          "scatter3d": [
           {
            "line": {
             "colorbar": {
              "outlinewidth": 0,
              "ticks": ""
             }
            },
            "marker": {
             "colorbar": {
              "outlinewidth": 0,
              "ticks": ""
             }
            },
            "type": "scatter3d"
           }
          ],
          "scattercarpet": [
           {
            "marker": {
             "colorbar": {
              "outlinewidth": 0,
              "ticks": ""
             }
            },
            "type": "scattercarpet"
           }
          ],
          "scattergeo": [
           {
            "marker": {
             "colorbar": {
              "outlinewidth": 0,
              "ticks": ""
             }
            },
            "type": "scattergeo"
           }
          ],
          "scattergl": [
           {
            "marker": {
             "colorbar": {
              "outlinewidth": 0,
              "ticks": ""
             }
            },
            "type": "scattergl"
           }
          ],
          "scattermap": [
           {
            "marker": {
             "colorbar": {
              "outlinewidth": 0,
              "ticks": ""
             }
            },
            "type": "scattermap"
           }
          ],
          "scattermapbox": [
           {
            "marker": {
             "colorbar": {
              "outlinewidth": 0,
              "ticks": ""
             }
            },
            "type": "scattermapbox"
           }
          ],
          "scatterpolar": [
           {
            "marker": {
             "colorbar": {
              "outlinewidth": 0,
              "ticks": ""
             }
            },
            "type": "scatterpolar"
           }
          ],
          "scatterpolargl": [
           {
            "marker": {
             "colorbar": {
              "outlinewidth": 0,
              "ticks": ""
             }
            },
            "type": "scatterpolargl"
           }
          ],
          "scatterternary": [
           {
            "marker": {
             "colorbar": {
              "outlinewidth": 0,
              "ticks": ""
             }
            },
            "type": "scatterternary"
           }
          ],
          "surface": [
           {
            "colorbar": {
             "outlinewidth": 0,
             "ticks": ""
            },
            "colorscale": [
             [
              0,
              "#0d0887"
             ],
             [
              0.1111111111111111,
              "#46039f"
             ],
             [
              0.2222222222222222,
              "#7201a8"
             ],
             [
              0.3333333333333333,
              "#9c179e"
             ],
             [
              0.4444444444444444,
              "#bd3786"
             ],
             [
              0.5555555555555556,
              "#d8576b"
             ],
             [
              0.6666666666666666,
              "#ed7953"
             ],
             [
              0.7777777777777778,
              "#fb9f3a"
             ],
             [
              0.8888888888888888,
              "#fdca26"
             ],
             [
              1,
              "#f0f921"
             ]
            ],
            "type": "surface"
           }
          ],
          "table": [
           {
            "cells": {
             "fill": {
              "color": "#EBF0F8"
             },
             "line": {
              "color": "white"
             }
            },
            "header": {
             "fill": {
              "color": "#C8D4E3"
             },
             "line": {
              "color": "white"
             }
            },
            "type": "table"
           }
          ]
         },
         "layout": {
          "annotationdefaults": {
           "arrowcolor": "#2a3f5f",
           "arrowhead": 0,
           "arrowwidth": 1
          },
          "autotypenumbers": "strict",
          "coloraxis": {
           "colorbar": {
            "outlinewidth": 0,
            "ticks": ""
           }
          },
          "colorscale": {
           "diverging": [
            [
             0,
             "#8e0152"
            ],
            [
             0.1,
             "#c51b7d"
            ],
            [
             0.2,
             "#de77ae"
            ],
            [
             0.3,
             "#f1b6da"
            ],
            [
             0.4,
             "#fde0ef"
            ],
            [
             0.5,
             "#f7f7f7"
            ],
            [
             0.6,
             "#e6f5d0"
            ],
            [
             0.7,
             "#b8e186"
            ],
            [
             0.8,
             "#7fbc41"
            ],
            [
             0.9,
             "#4d9221"
            ],
            [
             1,
             "#276419"
            ]
           ],
           "sequential": [
            [
             0,
             "#0d0887"
            ],
            [
             0.1111111111111111,
             "#46039f"
            ],
            [
             0.2222222222222222,
             "#7201a8"
            ],
            [
             0.3333333333333333,
             "#9c179e"
            ],
            [
             0.4444444444444444,
             "#bd3786"
            ],
            [
             0.5555555555555556,
             "#d8576b"
            ],
            [
             0.6666666666666666,
             "#ed7953"
            ],
            [
             0.7777777777777778,
             "#fb9f3a"
            ],
            [
             0.8888888888888888,
             "#fdca26"
            ],
            [
             1,
             "#f0f921"
            ]
           ],
           "sequentialminus": [
            [
             0,
             "#0d0887"
            ],
            [
             0.1111111111111111,
             "#46039f"
            ],
            [
             0.2222222222222222,
             "#7201a8"
            ],
            [
             0.3333333333333333,
             "#9c179e"
            ],
            [
             0.4444444444444444,
             "#bd3786"
            ],
            [
             0.5555555555555556,
             "#d8576b"
            ],
            [
             0.6666666666666666,
             "#ed7953"
            ],
            [
             0.7777777777777778,
             "#fb9f3a"
            ],
            [
             0.8888888888888888,
             "#fdca26"
            ],
            [
             1,
             "#f0f921"
            ]
           ]
          },
          "colorway": [
           "#636efa",
           "#EF553B",
           "#00cc96",
           "#ab63fa",
           "#FFA15A",
           "#19d3f3",
           "#FF6692",
           "#B6E880",
           "#FF97FF",
           "#FECB52"
          ],
          "font": {
           "color": "#2a3f5f"
          },
          "geo": {
           "bgcolor": "white",
           "lakecolor": "white",
           "landcolor": "#E5ECF6",
           "showlakes": true,
           "showland": true,
           "subunitcolor": "white"
          },
          "hoverlabel": {
           "align": "left"
          },
          "hovermode": "closest",
          "mapbox": {
           "style": "light"
          },
          "paper_bgcolor": "white",
          "plot_bgcolor": "#E5ECF6",
          "polar": {
           "angularaxis": {
            "gridcolor": "white",
            "linecolor": "white",
            "ticks": ""
           },
           "bgcolor": "#E5ECF6",
           "radialaxis": {
            "gridcolor": "white",
            "linecolor": "white",
            "ticks": ""
           }
          },
          "scene": {
           "xaxis": {
            "backgroundcolor": "#E5ECF6",
            "gridcolor": "white",
            "gridwidth": 2,
            "linecolor": "white",
            "showbackground": true,
            "ticks": "",
            "zerolinecolor": "white"
           },
           "yaxis": {
            "backgroundcolor": "#E5ECF6",
            "gridcolor": "white",
            "gridwidth": 2,
            "linecolor": "white",
            "showbackground": true,
            "ticks": "",
            "zerolinecolor": "white"
           },
           "zaxis": {
            "backgroundcolor": "#E5ECF6",
            "gridcolor": "white",
            "gridwidth": 2,
            "linecolor": "white",
            "showbackground": true,
            "ticks": "",
            "zerolinecolor": "white"
           }
          },
          "shapedefaults": {
           "line": {
            "color": "#2a3f5f"
           }
          },
          "ternary": {
           "aaxis": {
            "gridcolor": "white",
            "linecolor": "white",
            "ticks": ""
           },
           "baxis": {
            "gridcolor": "white",
            "linecolor": "white",
            "ticks": ""
           },
           "bgcolor": "#E5ECF6",
           "caxis": {
            "gridcolor": "white",
            "linecolor": "white",
            "ticks": ""
           }
          },
          "title": {
           "x": 0.05
          },
          "xaxis": {
           "automargin": true,
           "gridcolor": "white",
           "linecolor": "white",
           "ticks": "",
           "title": {
            "standoff": 15
           },
           "zerolinecolor": "white",
           "zerolinewidth": 2
          },
          "yaxis": {
           "automargin": true,
           "gridcolor": "white",
           "linecolor": "white",
           "ticks": "",
           "title": {
            "standoff": 15
           },
           "zerolinecolor": "white",
           "zerolinewidth": 2
          }
         }
        },
        "title": {
         "text": "Csomópont Típusok Eloszlása"
        },
        "xaxis": {
         "anchor": "y",
         "domain": [
          0,
          1
         ],
         "title": {
          "text": "Típus"
         }
        },
        "yaxis": {
         "anchor": "x",
         "domain": [
          0,
          1
         ],
         "title": {
          "text": "Darabszám"
         }
        }
       }
      }
     },
     "metadata": {},
     "output_type": "display_data"
    }
   ],
   "source": [
    "if G is not None:\n",
    "    node_types = nx.get_node_attributes(G, 'type')\n",
    "    type_counts = pd.Series(node_types).value_counts()\n",
    "    \n",
    "    print('Csomópont típusok eloszlása:')\n",
    "    print(type_counts)\n",
    "    \n",
    "    # Oszlopdiagram a típusokról - dict_values helyett listát használunk\n",
    "    fig = px.bar(type_counts, x=type_counts.index.tolist(), y=type_counts.values.tolist(), labels={'x':'Típus', 'y':'Darabszám'}, title='Csomópont Típusok Eloszlása')\n",
    "    \n",
    "    fig.show()\n",
    "else:\n",
    "    print('A gráf nincs betöltve.')"
   ]
  },
  {
   "cell_type": "markdown",
   "id": "a67877fa",
   "metadata": {},
   "source": [
    "## Fokszám Eloszlás Vizualizációja\n",
    "Megvizsgáljuk a bejövő, kimenő és teljes fokszámok eloszlását."
   ]
  },
  {
   "cell_type": "code",
   "execution_count": 7,
   "id": "4f8f91f8",
   "metadata": {},
   "outputs": [
    {
     "name": "stdout",
     "output_type": "stream",
     "text": [
      "Legmagasabb bejövő fokszámú csomópontok:\n",
      "                                        node  in_degree\n",
      "61                             birosag_kúria      52590\n",
      "35              birosag_fővárosi_törvényszék      38262\n",
      "32873            birosag_fővárosi_ítélőtábla      32762\n",
      "587    birosag_budapest_környéki_törvényszék       8844\n",
      "3407            birosag_debreceni_ítélőtábla       6448\n",
      "Legmagasabb kimenő fokszámú csomópontok:\n",
      "                     node  out_degree\n",
      "654223   Mfv.10540/2018/7        3635\n",
      "859221    Pf.20688/2021/6        2736\n",
      "171179    Pf.20320/2017/6        1872\n",
      "1467426    K.27366/2017/8         680\n",
      "1467388    K.27028/2018/3         667\n",
      "Legmagasabb teljes fokszámú csomópontok:\n",
      "                                        node  total_degree\n",
      "61                             birosag_kúria         52590\n",
      "35              birosag_fővárosi_törvényszék         38262\n",
      "32873            birosag_fővárosi_ítélőtábla         32762\n",
      "587    birosag_budapest_környéki_törvényszék          8844\n",
      "3407            birosag_debreceni_ítélőtábla          6448\n"
     ]
    },
    {
     "data": {
      "image/png": "[encoded data removed]",
      "text/plain": [
       "<Figure size 1800x500 with 3 Axes>"
      ]
     },
     "metadata": {},
     "output_type": "display_data"
    }
   ],
   "source": [
    "if G is not None and num_nodes > 0:\n",
    "    # Adatkeretek létrehozása a fokszámokból\n",
    "    in_degree_df = pd.DataFrame(in_degrees.items(), columns=['node', 'in_degree']).sort_values('in_degree', ascending=False)\n",
    "    out_degree_df = pd.DataFrame(out_degrees.items(), columns=['node', 'out_degree']).sort_values('out_degree', ascending=False)\n",
    "    total_degree_df = pd.DataFrame(total_degrees.items(), columns=['node', 'total_degree']).sort_values('total_degree', ascending=False)\n",
    "    \n",
    "    print('Legmagasabb bejövő fokszámú csomópontok:')\n",
    "    print(in_degree_df.head())\n",
    "    \n",
    "    print('Legmagasabb kimenő fokszámú csomópontok:')\n",
    "    print(out_degree_df.head())\n",
    "    \n",
    "    print('Legmagasabb teljes fokszámú csomópontok:')\n",
    "    print(total_degree_df.head())\n",
    "    \n",
    "    # Hisztogramok\n",
    "    plt.figure(figsize=(18, 5))\n",
    "    \n",
    "    plt.subplot(1, 3, 1)\n",
    "    plt.hist(list(in_degrees.values()), bins=range(min(in_degrees.values()), max(in_degrees.values()) + 1, 1), alpha=0.7)\n",
    "    plt.title('Bejövő Fokszám Eloszlás')\n",
    "    plt.xlabel('Bejövő Fokszám')\n",
    "    plt.ylabel('Csomópontok Száma')\n",
    "    plt.yscale('log') # Logaritmikus skála hasznos lehet\n",
    "    \n",
    "    plt.subplot(1, 3, 2)\n",
    "    plt.hist(list(out_degrees.values()), bins=range(min(out_degrees.values()), max(out_degrees.values()) + 1, 1), alpha=0.7, color='orange')\n",
    "    plt.title('Kimenő Fokszám Eloszlás')\n",
    "    plt.xlabel('Kimenő Fokszám')\n",
    "    plt.ylabel('Csomópontok Száma')\n",
    "    plt.yscale('log')\n",
    "    \n",
    "    plt.subplot(1, 3, 3)\n",
    "    plt.hist(list(total_degrees.values()), bins=range(min(total_degrees.values()), max(total_degrees.values()) + 1, 1), alpha=0.7, color='green')\n",
    "    plt.title('Teljes Fokszám Eloszlás')\n",
    "    plt.xlabel('Teljes Fokszám')\n",
    "    plt.ylabel('Csomópontok Száma')\n",
    "    plt.yscale('log')\n",
    "    \n",
    "    plt.tight_layout()\n",
    "    plt.show()\n",
    "else:\n",
    "    print('A gráf nincs betöltve vagy üres.')"
   ]
  },
  {
   "cell_type": "markdown",
   "id": "7b69749c",
   "metadata": {},
   "source": [
    "## Gráf Vizualizáció (Minta)\n",
    "Mivel a teljes gráf valószínűleg túl nagy a közvetlen vizualizációhoz, itt egy kisebb algráfot vagy egy mintát jelenítünk meg. Például a legmagasabb fokszámú csomópontok környezetét.\n",
    "**Figyelem:** Nagy gráfok esetén ez a lépés lassú lehet és a kimenet átláthatatlan."
   ]
  },
  {
   "cell_type": "code",
   "execution_count": 8,
   "id": "52995ae5",
   "metadata": {},
   "outputs": [
    {
     "name": "stdout",
     "output_type": "stream",
     "text": [
      "Algráf létrehozva 118384 csomóponttal és 138906 éllel.\n",
      "Az algráf túl nagy a vizualizációhoz.\n"
     ]
    }
   ],
   "source": [
    "if G is not None and num_nodes > 0:\n",
    "    # Kiválasztunk néhány központi csomópontot (pl. a legmagasabb fokszámúak)\n",
    "    central_nodes = total_degree_df['node'].head(5).tolist() # Top 5 csomópont\n",
    "    \n",
    "    # Létrehozzuk az ego gráfokat ezekre a csomópontokra (csomópont + közvetlen szomszédok)\n",
    "    subgraph_nodes = set(central_nodes)\n",
    "    for node in central_nodes:\n",
    "        subgraph_nodes.update(G.predecessors(node))\n",
    "        subgraph_nodes.update(G.successors(node))\n",
    "        \n",
    "    # Csak a dokumentum típusú csomópontokat tartjuk meg a szomszédok közül (opcionális szűrés)\n",
    "    # subgraph_nodes = {n for n in subgraph_nodes if G.nodes[n].get('type') == 'dokumentum' or n in central_nodes}\n",
    "    \n",
    "    sub_G = G.subgraph(subgraph_nodes)\n",
    "    \n",
    "    print(f'Algráf létrehozva {sub_G.number_of_nodes()} csomóponttal és {sub_G.number_of_edges()} éllel.')\n",
    "\n",
    "    if sub_G.number_of_nodes() > 0 and sub_G.number_of_nodes() < 500: # Csak ésszerű méretű algráfot rajzolunk ki\n",
    "        plt.figure(figsize=(15, 15))\n",
    "        pos = nx.spring_layout(sub_G, k=0.3, iterations=50) # Elrendezés\n",
    "        \n",
    "        # Csomópontok színe típus szerint\n",
    "        node_colors = []\n",
    "        color_map = {'dokumentum': 'blue', 'jogszabaly': 'red', 'birosag': 'green'}\n",
    "        for node in sub_G.nodes():\n",
    "            node_type = G.nodes[node].get('type', 'unknown')\n",
    "            node_colors.append(color_map.get(node_type, 'grey'))\n",
    "            \n",
    "        nx.draw(sub_G, pos, node_color=node_colors, with_labels=False, node_size=50, alpha=0.7, edge_color='gray')\n",
    "        \n",
    "        # Címkék csak a központi csomópontokhoz (opcionális, olvashatóság miatt)\n",
    "        # labels = {n: n for n in central_nodes if n in sub_G}\n",
    "        # nx.draw_networkx_labels(sub_G, pos, labels=labels, font_size=8)\n",
    "        \n",
    "        plt.title('Algráf Vizualizáció (Központi Csomópontok Környezete)')\n",
    "        plt.show()\n",
    "    elif sub_G.number_of_nodes() >= 500:\n",
    "        print('Az algráf túl nagy a vizualizációhoz.')\n",
    "    else:\n",
    "        print('Nem sikerült algráfot létrehozni.')\n",
    "else:\n",
    "    print('A gráf nincs betöltve vagy üres.')"
   ]
  },
  {
   "cell_type": "markdown",
   "id": "08af7dc3",
   "metadata": {},
   "source": [
    "## További Elemzési Lehetőségek\n",
    "*   **Centralitás mértékek:** PageRank, Betweenness Centrality, Eigenvector Centrality kiszámítása a legbefolyásosabb csomópontok azonosítására.\n",
    "*   **Komponens analízis:** Erősen és gyengén összefüggő komponensek vizsgálata.\n",
    "*   **Közösség detektálás:** Algoritmusok (pl. Louvain) futtatása a gráfban lévő közösségek (klaszterek) feltárására.\n",
    "*   **Időbeli elemzés:** Ha az adatok tartalmaznak időbélyeget, az időbeli változások vizsgálata."
   ]
  },
  {
   "cell_type": "markdown",
   "id": "0eb48cc7",
   "metadata": {},
   "source": [
    "## Élek Típus Szerinti Elemzése\n",
    "\n",
    "A `graph_builder.py` script különböző típusú kapcsolatokat definiál a csomópontok között, mint például \"hivatkozik\", \"hivatkozik_jogszabalyra\" és \"targyalta\". Itt részletesen elemezzük ezeket a kapcsolattípusokat."
   ]
  },
  {
   "cell_type": "code",
   "execution_count": 9,
   "id": "5eb255fc",
   "metadata": {},
   "outputs": [
    {
     "name": "stdout",
     "output_type": "stream",
     "text": [
      "\n",
      "--- Él típusok eloszlása ---\n",
      "hivatkozik_jogszabalyra    3615689\n",
      "hivatkozik                  241683\n",
      "targyalta                   240498\n",
      "Name: count, dtype: int64\n"
     ]
    },
    {
     "data": {
      "image/png": "[encoded data removed]",
      "text/plain": [
       "<Figure size 1200x600 with 1 Axes>"
      ]
     },
     "metadata": {},
     "output_type": "display_data"
    },
    {
     "name": "stdout",
     "output_type": "stream",
     "text": [
      "\n",
      "--- Él típusok csomópont típusok szerint ---\n"
     ]
    },
    {
     "data": {
      "text/html": [
       "<div>\n",
       "<style scoped>\n",
       "    .dataframe tbody tr th:only-of-type {\n",
       "        vertical-align: middle;\n",
       "    }\n",
       "\n",
       "    .dataframe tbody tr th {\n",
       "        vertical-align: top;\n",
       "    }\n",
       "\n",
       "    .dataframe thead th {\n",
       "        text-align: right;\n",
       "    }\n",
       "</style>\n",
       "<table border=\"1\" class=\"dataframe\">\n",
       "  <thead>\n",
       "    <tr style=\"text-align: right;\">\n",
       "      <th></th>\n",
       "      <th>relation_type</th>\n",
       "      <th>source_type</th>\n",
       "      <th>target_type</th>\n",
       "      <th>count</th>\n",
       "    </tr>\n",
       "  </thead>\n",
       "  <tbody>\n",
       "    <tr>\n",
       "      <th>1</th>\n",
       "      <td>hivatkozik_jogszabalyra</td>\n",
       "      <td>dokumentum</td>\n",
       "      <td>jogszabaly</td>\n",
       "      <td>3615689</td>\n",
       "    </tr>\n",
       "    <tr>\n",
       "      <th>0</th>\n",
       "      <td>hivatkozik</td>\n",
       "      <td>dokumentum</td>\n",
       "      <td>dokumentum</td>\n",
       "      <td>241683</td>\n",
       "    </tr>\n",
       "    <tr>\n",
       "      <th>2</th>\n",
       "      <td>targyalta</td>\n",
       "      <td>dokumentum</td>\n",
       "      <td>birosag</td>\n",
       "      <td>240498</td>\n",
       "    </tr>\n",
       "  </tbody>\n",
       "</table>\n",
       "</div>"
      ],
      "text/plain": [
       "             relation_type source_type target_type    count\n",
       "1  hivatkozik_jogszabalyra  dokumentum  jogszabaly  3615689\n",
       "0               hivatkozik  dokumentum  dokumentum   241683\n",
       "2                targyalta  dokumentum     birosag   240498"
      ]
     },
     "metadata": {},
     "output_type": "display_data"
    },
    {
     "name": "stdout",
     "output_type": "stream",
     "text": [
      "\n",
      "--- Él súlyok eloszlása ---\n",
      "Átlagos súly: 1.22\n",
      "Medián súly: 1.00\n",
      "Maximum súly: 192\n",
      "Minimum súly: 1\n"
     ]
    },
    {
     "data": {
      "image/png": "[encoded data removed]",
      "text/plain": [
       "<Figure size 1200x600 with 1 Axes>"
      ]
     },
     "metadata": {},
     "output_type": "display_data"
    },
    {
     "name": "stdout",
     "output_type": "stream",
     "text": [
      "\n",
      "--- Él súlyok típusonként ---\n"
     ]
    },
    {
     "data": {
      "text/html": [
       "<div>\n",
       "<style scoped>\n",
       "    .dataframe tbody tr th:only-of-type {\n",
       "        vertical-align: middle;\n",
       "    }\n",
       "\n",
       "    .dataframe tbody tr th {\n",
       "        vertical-align: top;\n",
       "    }\n",
       "\n",
       "    .dataframe thead th {\n",
       "        text-align: right;\n",
       "    }\n",
       "</style>\n",
       "<table border=\"1\" class=\"dataframe\">\n",
       "  <thead>\n",
       "    <tr style=\"text-align: right;\">\n",
       "      <th></th>\n",
       "      <th>relation_type</th>\n",
       "      <th>avg_weight</th>\n",
       "      <th>median_weight</th>\n",
       "      <th>max_weight</th>\n",
       "      <th>count</th>\n",
       "    </tr>\n",
       "  </thead>\n",
       "  <tbody>\n",
       "    <tr>\n",
       "      <th>2</th>\n",
       "      <td>hivatkozik_jogszabalyra</td>\n",
       "      <td>1.218219</td>\n",
       "      <td>1.0</td>\n",
       "      <td>192</td>\n",
       "      <td>3615689</td>\n",
       "    </tr>\n",
       "    <tr>\n",
       "      <th>0</th>\n",
       "      <td>hivatkozik</td>\n",
       "      <td>1.253311</td>\n",
       "      <td>1.0</td>\n",
       "      <td>64</td>\n",
       "      <td>241683</td>\n",
       "    </tr>\n",
       "    <tr>\n",
       "      <th>1</th>\n",
       "      <td>targyalta</td>\n",
       "      <td>1.259487</td>\n",
       "      <td>1.0</td>\n",
       "      <td>192</td>\n",
       "      <td>240498</td>\n",
       "    </tr>\n",
       "  </tbody>\n",
       "</table>\n",
       "</div>"
      ],
      "text/plain": [
       "             relation_type  avg_weight  median_weight  max_weight    count\n",
       "2  hivatkozik_jogszabalyra    1.218219            1.0         192  3615689\n",
       "0               hivatkozik    1.253311            1.0          64   241683\n",
       "1                targyalta    1.259487            1.0         192   240498"
      ]
     },
     "metadata": {},
     "output_type": "display_data"
    }
   ],
   "source": [
    "if G is not None and G.number_of_nodes() > 0:\n",
    "    # Él típusok kinyerése\n",
    "    edge_relation_types = nx.get_edge_attributes(G, 'relation_type')\n",
    "    \n",
    "    if edge_relation_types:\n",
    "        # Él típusok számlálása\n",
    "        relation_type_counts = pd.Series(edge_relation_types.values()).value_counts()\n",
    "        \n",
    "        print(f\"\\n--- Él típusok eloszlása ---\")\n",
    "        print(relation_type_counts)\n",
    "        \n",
    "        # Vizualizáció: él típusok eloszlása\n",
    "        plt.figure(figsize=(12, 6))\n",
    "        relation_type_counts.plot(kind='bar', alpha=0.7)\n",
    "        plt.title('Él Típusok Eloszlása')\n",
    "        plt.xlabel('Él típus')\n",
    "        plt.ylabel('Élek száma')\n",
    "        plt.grid(True, alpha=0.3)\n",
    "        plt.tight_layout()\n",
    "        plt.show()\n",
    "        \n",
    "        # Él típusok vizsgálata csomópont típusok szerint\n",
    "        edge_type_node_type = []\n",
    "        for (u, v), rel_type in edge_relation_types.items():\n",
    "            u_type = node_types.get(u, 'unknown')\n",
    "            v_type = node_types.get(v, 'unknown')\n",
    "            edge_type_node_type.append((rel_type, u_type, v_type))\n",
    "        \n",
    "        # Élek csoportosítása\n",
    "        edge_type_df = pd.DataFrame(edge_type_node_type, columns=['relation_type', 'source_type', 'target_type'])\n",
    "        edge_type_summary = edge_type_df.groupby(['relation_type', 'source_type', 'target_type']).size().reset_index(name='count')\n",
    "        edge_type_summary = edge_type_summary.sort_values('count', ascending=False)\n",
    "        \n",
    "        print(\"\\n--- Él típusok csomópont típusok szerint ---\")\n",
    "        display(edge_type_summary.head(20))  # Top 20 leggyakoribb kategória\n",
    "        \n",
    "        # Él súlyok elemzése, ha vannak\n",
    "        edge_weights = nx.get_edge_attributes(G, 'weight')\n",
    "        if edge_weights:\n",
    "            weights = list(edge_weights.values())\n",
    "            \n",
    "            print(f\"\\n--- Él súlyok eloszlása ---\")\n",
    "            print(f\"Átlagos súly: {np.mean(weights):.2f}\")\n",
    "            print(f\"Medián súly: {np.median(weights):.2f}\")\n",
    "            print(f\"Maximum súly: {max(weights)}\")\n",
    "            print(f\"Minimum súly: {min(weights)}\")\n",
    "            \n",
    "            plt.figure(figsize=(12, 6))\n",
    "            plt.hist(weights, bins=30, alpha=0.7)\n",
    "            plt.title('Él Súlyok Eloszlása')\n",
    "            plt.xlabel('Súly')\n",
    "            plt.ylabel('Élek száma')\n",
    "            plt.grid(True, alpha=0.3)\n",
    "            plt.tight_layout()\n",
    "            plt.show()\n",
    "            \n",
    "            # Él súlyok típusonként\n",
    "            edge_weights_by_type = defaultdict(list)\n",
    "            for (u, v), weight in edge_weights.items():\n",
    "                if (u, v) in edge_relation_types:\n",
    "                    rel_type = edge_relation_types[(u, v)]\n",
    "                    edge_weights_by_type[rel_type].append(weight)\n",
    "            \n",
    "            # Él súlyok összesítése típusonként\n",
    "            weight_summary = {}\n",
    "            for rel_type, weights_list in edge_weights_by_type.items():\n",
    "                if weights_list:  # Ellenőrizzük, hogy a lista nem üres\n",
    "                    weight_summary[rel_type] = {\n",
    "                        'avg': np.mean(weights_list),\n",
    "                        'med': np.median(weights_list),\n",
    "                        'max': max(weights_list),\n",
    "                        'count': len(weights_list)\n",
    "                    }\n",
    "            \n",
    "            weight_df = pd.DataFrame([\n",
    "                {'relation_type': rel_type, \n",
    "                 'avg_weight': stats['avg'],\n",
    "                 'median_weight': stats['med'],\n",
    "                 'max_weight': stats['max'],\n",
    "                 'count': stats['count']}\n",
    "                for rel_type, stats in weight_summary.items()\n",
    "            ])\n",
    "            \n",
    "            print(\"\\n--- Él súlyok típusonként ---\")\n",
    "            display(weight_df.sort_values('count', ascending=False))\n",
    "    else:\n",
    "        print(\"A gráfban nem találhatóak él típus attribútumok (relation_type).\")\n",
    "else:\n",
    "    print('A gráf nincs betöltve vagy üres.')"
   ]
  },
  {
   "cell_type": "markdown",
   "id": "a3183c3b",
   "metadata": {},
   "source": [
    "## Többrétegű Hálózatelemzés és Motívumok Vizsgálata\n",
    "\n",
    "A többrétegű hálózatelemzés segítségével külön vizsgálhatjuk a különböző típusú kapcsolatokat (rétegeket) a gráfban. Jogeset hálózatoknál különösen fontos lehet a különböző típusú hivatkozások vagy kapcsolatok vizsgálata. Emellett a motívum detektálás segítségével gyakori kapcsolati mintákat azonosítunk a gráf struktúrában."
   ]
  },
  {
   "cell_type": "code",
   "execution_count": 10,
   "id": "84f4897e",
   "metadata": {},
   "outputs": [
    {
     "name": "stdout",
     "output_type": "stream",
     "text": [
      "Többrétegű hálózatelemzés...\n",
      "Összesen 3 különböző kapcsolattípus található:\n",
      "- hivatkozik\n",
      "- hivatkozik_jogszabalyra\n",
      "- targyalta\n",
      "\n",
      "--- Rétegenkénti alapstatisztikák ---\n",
      "\n",
      "--- Rétegenkénti alapstatisztikák ---\n"
     ]
    },
    {
     "data": {
      "text/html": [
       "<div>\n",
       "<style scoped>\n",
       "    .dataframe tbody tr th:only-of-type {\n",
       "        vertical-align: middle;\n",
       "    }\n",
       "\n",
       "    .dataframe tbody tr th {\n",
       "        vertical-align: top;\n",
       "    }\n",
       "\n",
       "    .dataframe thead th {\n",
       "        text-align: right;\n",
       "    }\n",
       "</style>\n",
       "<table border=\"1\" class=\"dataframe\">\n",
       "  <thead>\n",
       "    <tr style=\"text-align: right;\">\n",
       "      <th></th>\n",
       "      <th>nodes</th>\n",
       "      <th>edges</th>\n",
       "      <th>density</th>\n",
       "      <th>components</th>\n",
       "      <th>largest_component_size</th>\n",
       "      <th>largest_component_ratio</th>\n",
       "    </tr>\n",
       "  </thead>\n",
       "  <tbody>\n",
       "    <tr>\n",
       "      <th>hivatkozik_jogszabalyra</th>\n",
       "      <td>1424430</td>\n",
       "      <td>3615689</td>\n",
       "      <td>0.000002</td>\n",
       "      <td>4227</td>\n",
       "      <td>1396800</td>\n",
       "      <td>98.06%</td>\n",
       "    </tr>\n",
       "    <tr>\n",
       "      <th>targyalta</th>\n",
       "      <td>174474</td>\n",
       "      <td>240498</td>\n",
       "      <td>0.000008</td>\n",
       "      <td>1</td>\n",
       "      <td>174474</td>\n",
       "      <td>100.00%</td>\n",
       "    </tr>\n",
       "    <tr>\n",
       "      <th>hivatkozik</th>\n",
       "      <td>350579</td>\n",
       "      <td>241683</td>\n",
       "      <td>0.000002</td>\n",
       "      <td>130188</td>\n",
       "      <td>17</td>\n",
       "      <td>0.00%</td>\n",
       "    </tr>\n",
       "  </tbody>\n",
       "</table>\n",
       "</div>"
      ],
      "text/plain": [
       "                           nodes    edges   density  components  \\\n",
       "hivatkozik_jogszabalyra  1424430  3615689  0.000002        4227   \n",
       "targyalta                 174474   240498  0.000008           1   \n",
       "hivatkozik                350579   241683  0.000002      130188   \n",
       "\n",
       "                         largest_component_size largest_component_ratio  \n",
       "hivatkozik_jogszabalyra                 1396800                  98.06%  \n",
       "targyalta                                174474                 100.00%  \n",
       "hivatkozik                                   17                   0.00%  "
      ]
     },
     "metadata": {},
     "output_type": "display_data"
    },
    {
     "data": {
      "image/png": "[encoded data removed]",
      "text/plain": [
       "<Figure size 1800x600 with 6 Axes>"
      ]
     },
     "metadata": {},
     "output_type": "display_data"
    },
    {
     "name": "stdout",
     "output_type": "stream",
     "text": [
      "\n",
      "--- Gyakori gráf motívumok detektálása ---\n",
      "A motívumok kis, ismétlődő kapcsolati minták a hálózatban.\n",
      "Mintavétel a gráfból (200 csomópontra)...\n",
      "Létrehozott minta: 200 csomópont, 225 él\n",
      "\n",
      "3-csomópontú motívumok (triádok) száma a mintában:\n",
      "Létrehozott minta: 200 csomópont, 225 él\n",
      "\n",
      "3-csomópontú motívumok (triádok) száma a mintában:\n"
     ]
    },
    {
     "data": {
      "text/html": [
       "<div>\n",
       "<style scoped>\n",
       "    .dataframe tbody tr th:only-of-type {\n",
       "        vertical-align: middle;\n",
       "    }\n",
       "\n",
       "    .dataframe tbody tr th {\n",
       "        vertical-align: top;\n",
       "    }\n",
       "\n",
       "    .dataframe thead th {\n",
       "        text-align: right;\n",
       "    }\n",
       "</style>\n",
       "<table border=\"1\" class=\"dataframe\">\n",
       "  <thead>\n",
       "    <tr style=\"text-align: right;\">\n",
       "      <th></th>\n",
       "      <th>Motívum</th>\n",
       "      <th>Darabszám</th>\n",
       "    </tr>\n",
       "  </thead>\n",
       "  <tbody>\n",
       "    <tr>\n",
       "      <th>0</th>\n",
       "      <td>003</td>\n",
       "      <td>1270726</td>\n",
       "    </tr>\n",
       "    <tr>\n",
       "      <th>1</th>\n",
       "      <td>012</td>\n",
       "      <td>40798</td>\n",
       "    </tr>\n",
       "    <tr>\n",
       "      <th>4</th>\n",
       "      <td>021U</td>\n",
       "      <td>1772</td>\n",
       "    </tr>\n",
       "    <tr>\n",
       "      <th>3</th>\n",
       "      <td>021D</td>\n",
       "      <td>104</td>\n",
       "    </tr>\n",
       "    <tr>\n",
       "      <th>2</th>\n",
       "      <td>102</td>\n",
       "      <td>0</td>\n",
       "    </tr>\n",
       "    <tr>\n",
       "      <th>5</th>\n",
       "      <td>021C</td>\n",
       "      <td>0</td>\n",
       "    </tr>\n",
       "    <tr>\n",
       "      <th>6</th>\n",
       "      <td>111D</td>\n",
       "      <td>0</td>\n",
       "    </tr>\n",
       "    <tr>\n",
       "      <th>7</th>\n",
       "      <td>111U</td>\n",
       "      <td>0</td>\n",
       "    </tr>\n",
       "    <tr>\n",
       "      <th>8</th>\n",
       "      <td>030T</td>\n",
       "      <td>0</td>\n",
       "    </tr>\n",
       "    <tr>\n",
       "      <th>9</th>\n",
       "      <td>030C</td>\n",
       "      <td>0</td>\n",
       "    </tr>\n",
       "    <tr>\n",
       "      <th>10</th>\n",
       "      <td>201</td>\n",
       "      <td>0</td>\n",
       "    </tr>\n",
       "    <tr>\n",
       "      <th>11</th>\n",
       "      <td>120D</td>\n",
       "      <td>0</td>\n",
       "    </tr>\n",
       "    <tr>\n",
       "      <th>12</th>\n",
       "      <td>120U</td>\n",
       "      <td>0</td>\n",
       "    </tr>\n",
       "    <tr>\n",
       "      <th>13</th>\n",
       "      <td>120C</td>\n",
       "      <td>0</td>\n",
       "    </tr>\n",
       "    <tr>\n",
       "      <th>14</th>\n",
       "      <td>210</td>\n",
       "      <td>0</td>\n",
       "    </tr>\n",
       "    <tr>\n",
       "      <th>15</th>\n",
       "      <td>300</td>\n",
       "      <td>0</td>\n",
       "    </tr>\n",
       "  </tbody>\n",
       "</table>\n",
       "</div>"
      ],
      "text/plain": [
       "   Motívum  Darabszám\n",
       "0      003    1270726\n",
       "1      012      40798\n",
       "4     021U       1772\n",
       "3     021D        104\n",
       "2      102          0\n",
       "5     021C          0\n",
       "6     111D          0\n",
       "7     111U          0\n",
       "8     030T          0\n",
       "9     030C          0\n",
       "10     201          0\n",
       "11    120D          0\n",
       "12    120U          0\n",
       "13    120C          0\n",
       "14     210          0\n",
       "15     300          0"
      ]
     },
     "metadata": {},
     "output_type": "display_data"
    },
    {
     "data": {
      "image/png": "[encoded data removed]",
      "text/plain": [
       "<Figure size 1200x600 with 1 Axes>"
      ]
     },
     "metadata": {},
     "output_type": "display_data"
    },
    {
     "name": "stdout",
     "output_type": "stream",
     "text": [
      "\n",
      "Tranzitivitás a mintában: 0.0000\n",
      "(0: nincs tranzitivitás, 1: teljes tranzitivitás)\n",
      "\n",
      "Átlagos clustering coefficient: 0.0000\n",
      "\n",
      "Top 5 legmagasabb clustering együtthatóval rendelkező csomópont:\n",
      "- K.30327/2013/27 (dokumentum): 0.0000 clustering együttható\n",
      "- P.21137/2009/98 (dokumentum): 0.0000 clustering együttható\n",
      "- M.2234/2012/16 (dokumentum): 0.0000 clustering együttható\n",
      "- Pkf.25585/2020/7 (dokumentum): 0.0000 clustering együttható\n",
      "- Pf.21037/2016/4 (dokumentum): 0.0000 clustering együttható\n"
     ]
    },
    {
     "data": {
      "image/png": "[encoded data removed]",
      "text/plain": [
       "<Figure size 1000x1000 with 1 Axes>"
      ]
     },
     "metadata": {},
     "output_type": "display_data"
    }
   ],
   "source": [
    "if G is not None and G.number_of_nodes() > 0:\n",
    "    # Él típusok kinyerése és rétegekre bontás\n",
    "    edge_types = nx.get_edge_attributes(G, 'relation_type')\n",
    "    \n",
    "    if edge_types:\n",
    "        print(\"Többrétegű hálózatelemzés...\")\n",
    "        unique_edge_types = set(edge_types.values())\n",
    "        print(f\"Összesen {len(unique_edge_types)} különböző kapcsolattípus található:\")\n",
    "        for et in sorted(unique_edge_types):\n",
    "            print(f\"- {et}\")\n",
    "        \n",
    "        # Létrehozzuk a különböző rétegeket képviselő algráfokat\n",
    "        layer_graphs = {}\n",
    "        layer_stats = {}\n",
    "        \n",
    "        for edge_type in unique_edge_types:\n",
    "            # Az adott típusú éleket tartalmazó algráf\n",
    "            layer_edges = [(u, v) for (u, v), rel_type in edge_types.items() if rel_type == edge_type]\n",
    "            if layer_edges:\n",
    "                layer_G = G.edge_subgraph(layer_edges).copy()\n",
    "                layer_graphs[edge_type] = layer_G\n",
    "                \n",
    "                # Alapvető statisztikák az algráfról\n",
    "                n_nodes = layer_G.number_of_nodes()\n",
    "                n_edges = layer_G.number_of_edges()\n",
    "                density = nx.density(layer_G)\n",
    "                \n",
    "                # Gyengén összefüggő komponensek\n",
    "                wcc = list(nx.weakly_connected_components(layer_G)) if layer_G.is_directed() else list(nx.connected_components(layer_G))\n",
    "                largest_wcc_size = len(max(wcc, key=len)) if wcc else 0\n",
    "                \n",
    "                layer_stats[edge_type] = {\n",
    "                    'nodes': n_nodes,\n",
    "                    'edges': n_edges,\n",
    "                    'density': density,\n",
    "                    'components': len(wcc),\n",
    "                    'largest_component_size': largest_wcc_size,\n",
    "                    'largest_component_ratio': largest_wcc_size / n_nodes if n_nodes > 0 else 0\n",
    "                }\n",
    "        \n",
    "        # Statisztikák megjelenítése\n",
    "        stats_df = pd.DataFrame.from_dict(layer_stats, orient='index')\n",
    "        stats_df['density'] = stats_df['density'].apply(lambda x: f\"{x:.6f}\")\n",
    "        stats_df['largest_component_ratio'] = stats_df['largest_component_ratio'].apply(lambda x: f\"{x:.2%}\")\n",
    "        \n",
    "        print(\"\\n--- Rétegenkénti alapstatisztikák ---\")\n",
    "        display(stats_df)\n",
    "        \n",
    "        # Vizualizáljuk a rétegek közötti átfedéseket heatmap-en\n",
    "        # Edge overlap: Két réteg közötti él-átfedés mértéke\n",
    "        edge_overlap = np.zeros((len(unique_edge_types), len(unique_edge_types)))\n",
    "        edge_type_list = sorted(unique_edge_types)\n",
    "        \n",
    "        for i, type1 in enumerate(edge_type_list):\n",
    "            for j, type2 in enumerate(edge_type_list):\n",
    "                if i == j:  # Átló: saját méret\n",
    "                    edge_overlap[i, j] = layer_graphs[type1].number_of_edges()\n",
    "                else:  # Átfedés\n",
    "                    edges1 = set(layer_graphs[type1].edges())\n",
    "                    edges2 = set(layer_graphs[type2].edges())\n",
    "                    intersection = edges1.intersection(edges2)\n",
    "                    edge_overlap[i, j] = len(intersection)\n",
    "        \n",
    "        # Node overlap: Csomópontok átfedése két réteg között\n",
    "        node_overlap = np.zeros((len(unique_edge_types), len(unique_edge_types)))\n",
    "        \n",
    "        for i, type1 in enumerate(edge_type_list):\n",
    "            for j, type2 in enumerate(edge_type_list):\n",
    "                if i == j:  # Átló: saját méret\n",
    "                    node_overlap[i, j] = layer_graphs[type1].number_of_nodes()\n",
    "                else:  # Átfedés\n",
    "                    nodes1 = set(layer_graphs[type1].nodes())\n",
    "                    nodes2 = set(layer_graphs[type2].nodes())\n",
    "                    intersection = nodes1.intersection(nodes2)\n",
    "                    node_overlap[i, j] = len(intersection)\n",
    "        \n",
    "        # Jaccard hasonlóság számítása a rétegek között\n",
    "        jaccard_similarity = np.zeros((len(unique_edge_types), len(unique_edge_types)))\n",
    "        \n",
    "        for i, type1 in enumerate(edge_type_list):\n",
    "            for j, type2 in enumerate(edge_type_list):\n",
    "                if i == j:\n",
    "                    jaccard_similarity[i, j] = 1.0  # Saját magával való hasonlóság: 1\n",
    "                else:\n",
    "                    edges1 = set(layer_graphs[type1].edges())\n",
    "                    edges2 = set(layer_graphs[type2].edges())\n",
    "                    intersection = len(edges1.intersection(edges2))\n",
    "                    union = len(edges1.union(edges2))\n",
    "                    jaccard_similarity[i, j] = intersection / union if union > 0 else 0\n",
    "        \n",
    "        # Vizualizáció\n",
    "        plt.figure(figsize=(18, 6))\n",
    "        \n",
    "        plt.subplot(1, 3, 1)\n",
    "        sns.heatmap(edge_overlap, annot=True, fmt=\".0f\", cmap=\"YlGnBu\",\n",
    "                   xticklabels=edge_type_list, yticklabels=edge_type_list)\n",
    "        plt.title('Él átfedések száma a rétegek között')\n",
    "        \n",
    "        plt.subplot(1, 3, 2)\n",
    "        sns.heatmap(node_overlap, annot=True, fmt=\".0f\", cmap=\"YlGnBu\",\n",
    "                   xticklabels=edge_type_list, yticklabels=edge_type_list)\n",
    "        plt.title('Csomópont átfedések száma a rétegek között')\n",
    "        \n",
    "        plt.subplot(1, 3, 3)\n",
    "        sns.heatmap(jaccard_similarity, annot=True, fmt=\".2f\", cmap=\"YlGnBu\", vmin=0, vmax=1,\n",
    "                   xticklabels=edge_type_list, yticklabels=edge_type_list)\n",
    "        plt.title('Jaccard hasonlóság a rétegek között')\n",
    "        \n",
    "        plt.tight_layout()\n",
    "        plt.show()\n",
    "        \n",
    "        # Motívumok detektálása egy kisebb mintán\n",
    "        print(\"\\n--- Gyakori gráf motívumok detektálása ---\")\n",
    "        print(\"A motívumok kis, ismétlődő kapcsolati minták a hálózatban.\")\n",
    "        \n",
    "        # Minta létrehozása a motívum kereséshez (nagy gráfra ez exponenciálisan skálázódik)\n",
    "        max_sample_size = 200  # Motívum kereséshez kisebb méret kell\n",
    "        \n",
    "        if G.number_of_nodes() > max_sample_size:\n",
    "            # Mintavétel: fokszám szerint legfontosabb csomópontok és környezetük\n",
    "            print(f\"Mintavétel a gráfból ({max_sample_size} csomópontra)...\")\n",
    "            deg_centrality = nx.degree_centrality(G)\n",
    "            sorted_nodes = sorted(deg_centrality.items(), key=lambda x: x[1], reverse=True)\n",
    "            # Top 10% csomópont kiválasztása\n",
    "            top_nodes = [node for node, _ in sorted_nodes[:max_sample_size//10]]\n",
    "            \n",
    "            # Ego gráfok létrehozása a kiválasztott csomópontokra\n",
    "            sample_nodes = set(top_nodes)\n",
    "            for node in top_nodes:\n",
    "                neighbors = set(G.successors(node)).union(set(G.predecessors(node)))\n",
    "                sample_nodes.update(list(neighbors)[:10])  # Maximum 10 szomszéd per csomópont\n",
    "                if len(sample_nodes) >= max_sample_size:\n",
    "                    break\n",
    "            \n",
    "            sample_nodes = list(sample_nodes)[:max_sample_size]\n",
    "            G_sample = G.subgraph(sample_nodes)\n",
    "            print(f\"Létrehozott minta: {G_sample.number_of_nodes()} csomópont, {G_sample.number_of_edges()} él\")\n",
    "        else:\n",
    "            G_sample = G\n",
    "            print(f\"A teljes gráf használata: {G_sample.number_of_nodes()} csomópont, {G_sample.number_of_edges()} él\")\n",
    "        \n",
    "        # Irányított 3-csomópontú motívumok keresése\n",
    "        try:\n",
    "            from networkx.algorithms import triads\n",
    "            triad_census = triads.triadic_census(G_sample)\n",
    "            \n",
    "            # Triad típusokról bővebben: https://networkx.org/documentation/stable/reference/algorithms/generated/networkx.algorithms.triads.triadic_census.html\n",
    "            print(\"\\n3-csomópontú motívumok (triádok) száma a mintában:\")\n",
    "            triad_df = pd.DataFrame({\n",
    "                'Motívum': list(triad_census.keys()),\n",
    "                'Darabszám': list(triad_census.values())\n",
    "            }).sort_values('Darabszám', ascending=False)\n",
    "            display(triad_df)\n",
    "            \n",
    "            # Triádok vizualizálása\n",
    "            plt.figure(figsize=(12, 6))\n",
    "            plt.bar(triad_df['Motívum'], triad_df['Darabszám'], alpha=0.7)\n",
    "            plt.yscale('log')\n",
    "            plt.title('Triád motívumok gyakoriságeloszlása (log skála)')\n",
    "            plt.xlabel('Triád típus')\n",
    "            plt.ylabel('Előfordulások száma (log skála)')\n",
    "            plt.grid(True, alpha=0.3)\n",
    "            plt.xticks(rotation=90)\n",
    "            plt.tight_layout()\n",
    "            plt.show()\n",
    "            \n",
    "            # Tranzitivitás számítása - egy mérőszám arra, hogy a gráf kapcsolatai mennyire tranzitívak \n",
    "            # (ha A -> B és B -> C, akkor A -> C)\n",
    "            G_undirected = G_sample.to_undirected()\n",
    "            transitivity = nx.transitivity(G_undirected)\n",
    "            print(f\"\\nTranzitivitás a mintában: {transitivity:.4f}\")\n",
    "            print(\"(0: nincs tranzitivitás, 1: teljes tranzitivitás)\")\n",
    "            \n",
    "            # Magas clustering együtthatójú csomópontok és környezetük vizsgálata\n",
    "            clustering = nx.clustering(G_undirected)\n",
    "            avg_clustering = sum(clustering.values()) / len(clustering) if len(clustering) > 0 else 0\n",
    "            print(f\"\\nÁtlagos clustering coefficient: {avg_clustering:.4f}\")\n",
    "            \n",
    "            # Top 5 magas clustering értékű csomópont és környezetének vizualizálása\n",
    "            high_clustering_nodes = sorted(clustering.items(), key=lambda x: x[1], reverse=True)[:5]\n",
    "            print(\"\\nTop 5 legmagasabb clustering együtthatóval rendelkező csomópont:\")\n",
    "            for node, value in high_clustering_nodes:\n",
    "                node_type = node_types.get(node, \"ismeretlen\")\n",
    "                print(f\"- {node} ({node_type}): {value:.4f} clustering együttható\")\n",
    "                \n",
    "            # Az első magas clustering értékű csomópont és közvetlen környezetének vizualizálása\n",
    "            if high_clustering_nodes:\n",
    "                central_node = high_clustering_nodes[0][0]\n",
    "                neighbors = set(G_sample.successors(central_node)).union(set(G_sample.predecessors(central_node)))\n",
    "                neighbors.add(central_node)\n",
    "                \n",
    "                # Kirajzoljuk a magas clustering értékű csomópontot és szomszédjait\n",
    "                if len(neighbors) > 1 and len(neighbors) < 50:\n",
    "                    small_g = G_sample.subgraph(neighbors)\n",
    "                    plt.figure(figsize=(10, 10))\n",
    "                    pos = nx.spring_layout(small_g, seed=42)\n",
    "                    \n",
    "                    # Csomópontok színe típus szerint\n",
    "                    node_colors = []\n",
    "                    color_map = {'dokumentum': 'blue', 'jogszabaly': 'red', 'birosag': 'green'}\n",
    "                    \n",
    "                    for node in small_g.nodes():\n",
    "                        node_type = G.nodes[node].get('type', 'unknown')\n",
    "                        node_colors.append(color_map.get(node_type, 'grey'))\n",
    "                    \n",
    "                    nx.draw(small_g, pos, node_color=node_colors, with_labels=False, node_size=50, alpha=0.7, edge_color='gray')\n",
    "                    \n",
    "                    # Címkék csak a központi csomópontokhoz (opcionális, olvashatóság miatt)\n",
    "                    # labels = {n: n for n in central_nodes if n in sub_G}\n",
    "                    # nx.draw_networkx_labels(sub_G, pos, labels=labels, font_size=8)\n",
    "                    \n",
    "                    plt.title('Magas clustering értékű csomópont ({}) és környezete'.format(central_node))\n",
    "                    \n",
    "                    # Legenda az élek típusaihoz - Javítás: cmap és edge_type_map hiba\n",
    "                    # Egyszerű színkiosztás az él típusokhoz a hiányzó cmap és edge_type_map helyett\n",
    "                    edge_colors = ['red', 'blue', 'green', 'purple', 'orange', 'brown', 'pink', 'gray', 'olive', 'cyan']\n",
    "                    # Csak annyi színt használunk, ahány él típus van\n",
    "                    edge_type_colors = {et: edge_colors[i % len(edge_colors)] for i, et in enumerate(unique_edge_types)}\n",
    "                    \n",
    "                    # Legenda hozzáadása a megfelelő színekkel\n",
    "                    legend_lines = [Line2D([0], [0], color=edge_type_colors[et], lw=2) for et in unique_edge_types]\n",
    "                    plt.legend(legend_lines, unique_edge_types, title=\"Él típusok\", loc='best', fontsize=8)\n",
    "                    \n",
    "                    plt.tight_layout()\n",
    "                    plt.show()\n",
    "        except Exception as e:\n",
    "            print(f\"Hiba a motívumok keresése közben: {e}\")\n",
    "    else:\n",
    "        print(\"Nem találhatóak él típusok a gráfban.\")\n",
    "else:\n",
    "    print('A gráf nincs betöltve vagy üres.')"
   ]
  },
  {
   "cell_type": "code",
   "execution_count": 11,
   "id": "5af363f9",
   "metadata": {},
   "outputs": [
    {
     "name": "stdout",
     "output_type": "stream",
     "text": [
      "Közösségdetektálás Louvain módszerrel...\n"
     ]
    },
    {
     "ename": "KeyboardInterrupt",
     "evalue": "",
     "output_type": "error",
     "traceback": [
      "\u001b[31m---------------------------------------------------------------------------\u001b[39m",
      "\u001b[31mKeyboardInterrupt\u001b[39m                         Traceback (most recent call last)",
      "\u001b[36mCell\u001b[39m\u001b[36m \u001b[39m\u001b[32mIn[11]\u001b[39m\u001b[32m, line 10\u001b[39m\n\u001b[32m      8\u001b[39m \u001b[38;5;66;03m# Közösségek detektálása Louvain módszerrel\u001b[39;00m\n\u001b[32m      9\u001b[39m start_time = time.time()\n\u001b[32m---> \u001b[39m\u001b[32m10\u001b[39m communities = \u001b[43mcommunity_louvain\u001b[49m\u001b[43m.\u001b[49m\u001b[43mbest_partition\u001b[49m\u001b[43m(\u001b[49m\u001b[43mG_undirected\u001b[49m\u001b[43m)\u001b[49m\n\u001b[32m     11\u001b[39m end_time = time.time()\n\u001b[32m     13\u001b[39m \u001b[38;5;28mprint\u001b[39m(\u001b[33mf\u001b[39m\u001b[33m\"\u001b[39m\u001b[33mLouvain közösségdetektálás futásideje: \u001b[39m\u001b[38;5;132;01m{\u001b[39;00mend_time\u001b[38;5;250m \u001b[39m-\u001b[38;5;250m \u001b[39mstart_time\u001b[38;5;132;01m:\u001b[39;00m\u001b[33m.2f\u001b[39m\u001b[38;5;132;01m}\u001b[39;00m\u001b[33m másodperc\u001b[39m\u001b[33m\"\u001b[39m)\n",
      "\u001b[36mFile \u001b[39m\u001b[32m~/Documents/Szakdolgozat/.venv/lib/python3.12/site-packages/community/community_louvain.py:249\u001b[39m, in \u001b[36mbest_partition\u001b[39m\u001b[34m(graph, partition, weight, resolution, randomize, random_state)\u001b[39m\n\u001b[32m    163\u001b[39m \u001b[38;5;28;01mdef\u001b[39;00m\u001b[38;5;250m \u001b[39m\u001b[34mbest_partition\u001b[39m(graph,\n\u001b[32m    164\u001b[39m                    partition=\u001b[38;5;28;01mNone\u001b[39;00m,\n\u001b[32m    165\u001b[39m                    weight=\u001b[33m'\u001b[39m\u001b[33mweight\u001b[39m\u001b[33m'\u001b[39m,\n\u001b[32m    166\u001b[39m                    resolution=\u001b[32m1.\u001b[39m,\n\u001b[32m    167\u001b[39m                    randomize=\u001b[38;5;28;01mNone\u001b[39;00m,\n\u001b[32m    168\u001b[39m                    random_state=\u001b[38;5;28;01mNone\u001b[39;00m):\n\u001b[32m    169\u001b[39m \u001b[38;5;250m    \u001b[39m\u001b[33;03m\"\"\"Compute the partition of the graph nodes which maximises the modularity\u001b[39;00m\n\u001b[32m    170\u001b[39m \u001b[33;03m    (or try..) using the Louvain heuristices\u001b[39;00m\n\u001b[32m    171\u001b[39m \n\u001b[32m   (...)\u001b[39m\u001b[32m    247\u001b[39m \u001b[33;03m    >>> plt.show()\u001b[39;00m\n\u001b[32m    248\u001b[39m \u001b[33;03m    \"\"\"\u001b[39;00m\n\u001b[32m--> \u001b[39m\u001b[32m249\u001b[39m     dendo = \u001b[43mgenerate_dendrogram\u001b[49m\u001b[43m(\u001b[49m\u001b[43mgraph\u001b[49m\u001b[43m,\u001b[49m\n\u001b[32m    250\u001b[39m \u001b[43m                                \u001b[49m\u001b[43mpartition\u001b[49m\u001b[43m,\u001b[49m\n\u001b[32m    251\u001b[39m \u001b[43m                                \u001b[49m\u001b[43mweight\u001b[49m\u001b[43m,\u001b[49m\n\u001b[32m    252\u001b[39m \u001b[43m                                \u001b[49m\u001b[43mresolution\u001b[49m\u001b[43m,\u001b[49m\n\u001b[32m    253\u001b[39m \u001b[43m                                \u001b[49m\u001b[43mrandomize\u001b[49m\u001b[43m,\u001b[49m\n\u001b[32m    254\u001b[39m \u001b[43m                                \u001b[49m\u001b[43mrandom_state\u001b[49m\u001b[43m)\u001b[49m\n\u001b[32m    255\u001b[39m     \u001b[38;5;28;01mreturn\u001b[39;00m partition_at_level(dendo, \u001b[38;5;28mlen\u001b[39m(dendo) - \u001b[32m1\u001b[39m)\n",
      "\u001b[36mFile \u001b[39m\u001b[32m~/Documents/Szakdolgozat/.venv/lib/python3.12/site-packages/community/community_louvain.py:352\u001b[39m, in \u001b[36mgenerate_dendrogram\u001b[39m\u001b[34m(graph, part_init, weight, resolution, randomize, random_state)\u001b[39m\n\u001b[32m    350\u001b[39m status.init(current_graph, weight, part_init)\n\u001b[32m    351\u001b[39m status_list = \u001b[38;5;28mlist\u001b[39m()\n\u001b[32m--> \u001b[39m\u001b[32m352\u001b[39m \u001b[43m__one_level\u001b[49m\u001b[43m(\u001b[49m\u001b[43mcurrent_graph\u001b[49m\u001b[43m,\u001b[49m\u001b[43m \u001b[49m\u001b[43mstatus\u001b[49m\u001b[43m,\u001b[49m\u001b[43m \u001b[49m\u001b[43mweight\u001b[49m\u001b[43m,\u001b[49m\u001b[43m \u001b[49m\u001b[43mresolution\u001b[49m\u001b[43m,\u001b[49m\u001b[43m \u001b[49m\u001b[43mrandom_state\u001b[49m\u001b[43m)\u001b[49m\n\u001b[32m    353\u001b[39m new_mod = __modularity(status, resolution)\n\u001b[32m    354\u001b[39m partition = __renumber(status.node2com)\n",
      "\u001b[36mFile \u001b[39m\u001b[32m~/Documents/Szakdolgozat/.venv/lib/python3.12/site-packages/community/community_louvain.py:486\u001b[39m, in \u001b[36m__one_level\u001b[39m\u001b[34m(graph, status, weight_key, resolution, random_state)\u001b[39m\n\u001b[32m    484\u001b[39m com_node = status.node2com[node]\n\u001b[32m    485\u001b[39m degc_totw = status.gdegrees.get(node, \u001b[32m0.\u001b[39m) / (status.total_weight * \u001b[32m2.\u001b[39m)  \u001b[38;5;66;03m# NOQA\u001b[39;00m\n\u001b[32m--> \u001b[39m\u001b[32m486\u001b[39m neigh_communities = \u001b[43m__neighcom\u001b[49m\u001b[43m(\u001b[49m\u001b[43mnode\u001b[49m\u001b[43m,\u001b[49m\u001b[43m \u001b[49m\u001b[43mgraph\u001b[49m\u001b[43m,\u001b[49m\u001b[43m \u001b[49m\u001b[43mstatus\u001b[49m\u001b[43m,\u001b[49m\u001b[43m \u001b[49m\u001b[43mweight_key\u001b[49m\u001b[43m)\u001b[49m\n\u001b[32m    487\u001b[39m remove_cost = - neigh_communities.get(com_node,\u001b[32m0\u001b[39m) + \\\n\u001b[32m    488\u001b[39m     resolution * (status.degrees.get(com_node, \u001b[32m0.\u001b[39m) - status.gdegrees.get(node, \u001b[32m0.\u001b[39m)) * degc_totw\n\u001b[32m    489\u001b[39m __remove(node, com_node,\n\u001b[32m    490\u001b[39m          neigh_communities.get(com_node, \u001b[32m0.\u001b[39m), status)\n",
      "\u001b[36mFile \u001b[39m\u001b[32m~/Documents/Szakdolgozat/.venv/lib/python3.12/site-packages/community/community_louvain.py:518\u001b[39m, in \u001b[36m__neighcom\u001b[39m\u001b[34m(node, graph, status, weight_key)\u001b[39m\n\u001b[32m    516\u001b[39m         edge_weight = datas.get(weight_key, \u001b[32m1\u001b[39m)\n\u001b[32m    517\u001b[39m         neighborcom = status.node2com[neighbor]\n\u001b[32m--> \u001b[39m\u001b[32m518\u001b[39m         weights[neighborcom] = \u001b[43mweights\u001b[49m\u001b[43m.\u001b[49m\u001b[43mget\u001b[49m\u001b[43m(\u001b[49m\u001b[43mneighborcom\u001b[49m\u001b[43m,\u001b[49m\u001b[43m \u001b[49m\u001b[32;43m0\u001b[39;49m\u001b[43m)\u001b[49m + edge_weight\n\u001b[32m    520\u001b[39m \u001b[38;5;28;01mreturn\u001b[39;00m weights\n",
      "\u001b[31mKeyboardInterrupt\u001b[39m: "
     ]
    }
   ],
   "source": [
    "if G is not None and G.number_of_nodes() > 0:\n",
    "    print(\"Közösségdetektálás Louvain módszerrel...\")\n",
    "    \n",
    "    try:\n",
    "        # Louvain közösségdetektálás csak irányítatlan gráfokon működik\n",
    "        G_undirected = G.to_undirected()\n",
    "        \n",
    "        # Közösségek detektálása Louvain módszerrel\n",
    "        start_time = time.time()\n",
    "        communities = community_louvain.best_partition(G_undirected)\n",
    "        end_time = time.time()\n",
    "        \n",
    "        print(f\"Louvain közösségdetektálás futásideje: {end_time - start_time:.2f} másodperc\")\n",
    "        \n",
    "        # Közösségek száma és méreteloszlása\n",
    "        comm_sizes = {}\n",
    "        for node, comm_id in communities.items():\n",
    "            if comm_id not in comm_sizes:\n",
    "                comm_sizes[comm_id] = 0\n",
    "            comm_sizes[comm_id] += 1\n",
    "        \n",
    "        num_communities = len(comm_sizes)\n",
    "        community_sizes = list(comm_sizes.values())\n",
    "        \n",
    "        print(f\"Detektált közösségek száma: {num_communities}\")\n",
    "        print(f\"Átlagos közösségméret: {np.mean(community_sizes):.2f} csomópont\")\n",
    "        print(f\"Legnagyobb közösség mérete: {max(community_sizes)} csomópont\")\n",
    "        \n",
    "        # Közösségméretek eloszlása\n",
    "        plt.figure(figsize=(12, 6))\n",
    "        plt.subplot(1, 2, 1)\n",
    "        plt.hist(community_sizes, bins=30, alpha=0.7)\n",
    "        plt.title('Közösségméretek eloszlása')\n",
    "        plt.xlabel('Közösség mérete')\n",
    "        plt.ylabel('Közösségek száma')\n",
    "        plt.grid(True, alpha=0.3)\n",
    "        \n",
    "        plt.subplot(1, 2, 2)\n",
    "        plt.hist(community_sizes, bins=30, alpha=0.7, cumulative=True, density=True)\n",
    "        plt.title('Közösségméretek kumulatív eloszlása')\n",
    "        plt.xlabel('Közösség mérete')\n",
    "        plt.ylabel('Kumulatív arány')\n",
    "        plt.grid(True, alpha=0.3)\n",
    "        \n",
    "        plt.tight_layout()\n",
    "        plt.show()\n",
    "        \n",
    "        # Közösségek csomópont típus szerinti összetétele\n",
    "        comm_composition = defaultdict(lambda: defaultdict(int))\n",
    "        for node, comm_id in communities.items():\n",
    "            node_type = node_types.get(node, 'ismeretlen')\n",
    "            comm_composition[comm_id][node_type] += 1\n",
    "        \n",
    "        # Top 10 legnagyobb közösség összetétele\n",
    "        top_communities = sorted(comm_sizes.items(), key=lambda x: x[1], reverse=True)[:10]\n",
    "        \n",
    "        print(\"\\n--- Top 10 legnagyobb közösség összetétele ---\")\n",
    "        comp_data = []\n",
    "        for comm_id, size in top_communities:\n",
    "            # Biztonságosabb hozzáférés és típusellenőrzés\n",
    "            types_in_comm = comm_composition.get(comm_id)\n",
    "            if isinstance(types_in_comm, dict):\n",
    "                type_percentages = {typ: (count / size * 100) for typ, count in types_in_comm.items()}\n",
    "                comp_data.append({\n",
    "                    'Közösség ID': comm_id,\n",
    "                    'Méret': size,\n",
    "                    'Dokumentum %': type_percentages.get('dokumentum', 0),\n",
    "                    'Jogszabály %': type_percentages.get('jogszabaly', 0),\n",
    "                    'Bíróság %': type_percentages.get('birosag', 0),\n",
    "                    'Egyéb %': sum([v for k, v in type_percentages.items() if k not in ['dokumentum', 'jogszabaly', 'birosag']])\n",
    "                })\n",
    "            else:\n",
    "                print(f\"Figyelmeztetés: Váratlan típus a comm_composition[{comm_id}] kulcsnál: {type(types_in_comm)}. Összetétel kihagyva.\")\n",
    "                comp_data.append({\n",
    "                    'Közösség ID': comm_id,\n",
    "                    'Méret': size,\n",
    "                    'Dokumentum %': 0,\n",
    "                    'Jogszabály %': 0,\n",
    "                    'Bíróság %': 0,\n",
    "                    'Egyéb %': 0\n",
    "                })\n",
    "        \n",
    "        comp_df = pd.DataFrame(comp_data)\n",
    "        display(comp_df)\n",
    "        \n",
    "        # Közösségek megjelenítése a gráfban\n",
    "        # Csak egy kis mintát jelenítünk meg a jobb láthatóságért\n",
    "        sample_size = min(500, G.number_of_nodes())\n",
    "        \n",
    "        if G.number_of_nodes() > sample_size:\n",
    "            # Válasszunk néhány nagy közösséget és azokból mintavételezzünk\n",
    "            selected_comms = [comm_id for comm_id, _ in top_communities[:3]]\n",
    "            sample_nodes = []\n",
    "            \n",
    "            for comm_id in selected_comms:\n",
    "                # Csak a kiválasztott közösségekből veszünk csomópontokat\n",
    "                comm_nodes = [node for node, c_id in communities.items() if c_id == comm_id]\n",
    "                sample_size_per_comm = min(sample_size // len(selected_comms), len(comm_nodes))\n",
    "                selected_nodes = np.random.choice(comm_nodes, size=sample_size_per_comm, replace=False)\n",
    "                sample_nodes.extend(selected_nodes)\n",
    "                \n",
    "                if len(sample_nodes) >= sample_size:\n",
    "                    break\n",
    "            \n",
    "            if len(sample_nodes) < sample_size:\n",
    "                # Ha még nem értük el a kívánt mintaméretet, vegyünk fel random csomópontokat\n",
    "                remaining_nodes = list(set(G.nodes()) - set(sample_nodes))\n",
    "                additional_nodes = np.random.choice(remaining_nodes, size=min(sample_size - len(sample_nodes), len(remaining_nodes)), replace=False)\n",
    "                sample_nodes.extend(additional_nodes)\n",
    "                \n",
    "            sample_G = G.subgraph(sample_nodes)\n",
    "            print(f\"Mintavételezett gráf mérete: {sample_G.number_of_nodes()} csomópont, {sample_G.number_of_edges()} él\")\n",
    "        else:\n",
    "            sample_G = G\n",
    "        \n",
    "        # Közösségek vizualizálása\n",
    "        plt.figure(figsize=(15, 15))\n",
    "        \n",
    "        # Csomópontok színezése közösség szerint\n",
    "        pos = nx.spring_layout(sample_G, k=0.3, seed=42)\n",
    "        \n",
    "        # Színpaletta létrehozása a közösségekhez\n",
    "        n_communities_to_show = len(set(communities.values()))\n",
    "        color_palette = plt.cm.get_cmap('tab20', n_communities_to_show)\n",
    "        \n",
    "        # Csomópontok színezése közösség szerint - típushiba javítása\n",
    "        # A node_colors listát explicit módon átalakítjuk, hogy számokat tartalmazzon\n",
    "        node_colors = [int(communities.get(node, 0)) for node in sample_G.nodes()]\n",
    "        \n",
    "        # Közösségek megjelenítése\n",
    "        ec = nx.draw_networkx_edges(sample_G, pos, alpha=0.2)\n",
    "        nc = nx.draw_networkx_nodes(sample_G, pos, node_color=node_colors, \n",
    "                                  cmap=color_palette, node_size=50)\n",
    "        \n",
    "        plt.title('Közösségek Louvain módszerrel')\n",
    "        plt.colorbar(nc, label='Közösség azonosító')\n",
    "        plt.axis('off')\n",
    "        plt.tight_layout()\n",
    "        plt.show()\n",
    "        \n",
    "        # Közösségeken belüli és közötti kapcsolatok elemzése\n",
    "        internal_edges = 0\n",
    "        external_edges = 0\n",
    "        \n",
    "        for u, v in G_undirected.edges():\n",
    "            if communities.get(u) == communities.get(v):\n",
    "                internal_edges += 1\n",
    "            else:\n",
    "                external_edges += 1\n",
    "                \n",
    "        total_edges = internal_edges + external_edges\n",
    "        internal_ratio = internal_edges / total_edges if total_edges > 0 else 0\n",
    "        \n",
    "        print(f\"\\nKözösségeken belüli élek: {internal_edges} ({internal_ratio:.2%})\")\n",
    "        print(f\"Közösségek közötti élek: {external_edges} ({1-internal_ratio:.2%})\")\n",
    "        print(f\"Modularitás együttható: {community_louvain.modularity(communities, G_undirected):.4f}\")\n",
    "        \n",
    "        # Élek színezése közösségen belüli és közötti kategóriákra\n",
    "        if sample_G.number_of_nodes() <= 500:\n",
    "            plt.figure(figsize=(15, 15))\n",
    "            pos = nx.spring_layout(sample_G, k=0.3, seed=42)\n",
    "            \n",
    "            # Élek szétválogatása belső és külső élekre\n",
    "            internal_edges_list = [(u, v) for (u, v) in sample_G.edges() if communities.get(u) == communities.get(v)]\n",
    "            external_edges_list = [(u, v) for (u, v) in sample_G.edges() if communities.get(u) != communities.get(v)]\n",
    "            \n",
    "            # Csomópontok színezése közösség szerint - típushiba javítása\n",
    "            node_colors = [int(communities.get(node, 0)) for node in sample_G.nodes()]\n",
    "            \n",
    "            # Rajzolás\n",
    "            # 1. Először csomópontok\n",
    "            nc = nx.draw_networkx_nodes(sample_G, pos, node_color=node_colors, \n",
    "                                     cmap=color_palette, node_size=50)\n",
    "            \n",
    "            # 2. Belső élek\n",
    "            nx.draw_networkx_edges(sample_G, pos, edgelist=internal_edges_list, \n",
    "                                 edge_color='blue', alpha=0.3, width=0.5)\n",
    "            \n",
    "            # 3. Külső élek\n",
    "            nx.draw_networkx_edges(sample_G, pos, edgelist=external_edges_list, \n",
    "                                 edge_color='red', alpha=0.3, width=0.5)\n",
    "            \n",
    "            plt.title('Közösségek közötti (piros) és közösségeken belüli (kék) kapcsolatok')\n",
    "            plt.colorbar(nc, label='Közösség azonosító')\n",
    "            \n",
    "            # Legenda az élekhez\n",
    "            from matplotlib.lines import Line2D\n",
    "            legend_elements = [\n",
    "                Line2D([0], [0], color='blue', lw=2, label='Közösségen belüli él'),\n",
    "                Line2D([0], [0], color='red', lw=2, label='Közösségek közötti él')\n",
    "            ]\n",
    "            \n",
    "            plt.legend(handles=legend_elements, loc='upper right')\n",
    "            plt.axis('off')\n",
    "            plt.tight_layout()\n",
    "            plt.show()\n",
    "            \n",
    "    except Exception as e:\n",
    "        print(f\"Hiba a közösségdetektálás során: {e}\")\n",
    "else:\n",
    "    print('A gráf nincs betöltve vagy üres.')"
   ]
  },
  {
   "cell_type": "code",
   "execution_count": 12,
   "id": "c998c9e1",
   "metadata": {},
   "outputs": [
    {
     "name": "stdout",
     "output_type": "stream",
     "text": [
      "Gráf robusztusság elemzés...\n",
      "Minta létrehozása a robusztusság teszteléshez (1000 csomópont)...\n",
      "Létrehozott minta mérete: 1 csomópont, 0 él\n",
      "Eredeti gráf: 1 csomópont, 0 él\n",
      "Legnagyobb komponens mérete: 1 csomópont (100.0%)\n",
      "Komponensek száma: 1\n",
      "Átlagos legrövidebb úthossz: 0.0000\n"
     ]
    },
    {
     "data": {
      "image/png": "[encoded data removed]",
      "text/plain": [
       "<Figure size 1400x600 with 2 Axes>"
      ]
     },
     "metadata": {},
     "output_type": "display_data"
    },
    {
     "name": "stdout",
     "output_type": "stream",
     "text": [
      "\n",
      "Gráf robusztusság elemzés értelmezése:\n",
      "1. Minél gyorsabban csökken a legnagyobb komponens mérete, annál sebezhetőbb a gráf\n",
      "2. A fokszám vagy betweenness szerinti célzott támadás általában hatékonyabb a gráf szétdarabolásában\n",
      "3. A komponensek száma először nő (a gráf fragmentálódik), majd csökken (az izolált csomópontok eltűnnek)\n"
     ]
    }
   ],
   "source": [
    "if G is not None and G.number_of_nodes() > 0:\n",
    "    print(\"Gráf robusztusság elemzés...\")\n",
    "    \n",
    "    # Kisebb gráf létrehozása a vizualizációhoz\n",
    "    # Ha a gráf nagy, akkor mintát veszünk vagy a legnagyobb komponenst használjuk\n",
    "    use_sample = False\n",
    "    sample_size = 1000\n",
    "    \n",
    "    if G.number_of_nodes() > sample_size:\n",
    "        use_sample = True\n",
    "        print(f\"Minta létrehozása a robusztusság teszteléshez ({sample_size} csomópont)...\")\n",
    "        \n",
    "        # Irányítatlan gráfot használunk az egyszerűbb komponens analízishez\n",
    "        UG = G.to_undirected()\n",
    "        \n",
    "        # Legnagyobb összefüggő komponens azonosítása\n",
    "        largest_cc = max(nx.connected_components(UG), key=len)\n",
    "        \n",
    "        # Ha a legnagyobb komponens még mindig túl nagy, mintát veszünk belőle\n",
    "        if len(largest_cc) > sample_size:\n",
    "            sample_nodes = np.random.choice(list(largest_cc), sample_size, replace=False)\n",
    "            UG_sample = UG.subgraph(sample_nodes)\n",
    "        else:\n",
    "            UG_sample = UG.subgraph(largest_cc)\n",
    "            \n",
    "        # Győződjünk meg, hogy a mintavétel után is összefüggő maradt\n",
    "        if not nx.is_connected(UG_sample):\n",
    "            # Vegyük a legnagyobb összefüggő komponenst\n",
    "            largest_cc_sample = max(nx.connected_components(UG_sample), key=len)\n",
    "            UG_sample = UG_sample.subgraph(largest_cc_sample)\n",
    "        \n",
    "        print(f\"Létrehozott minta mérete: {UG_sample.number_of_nodes()} csomópont, {UG_sample.number_of_edges()} él\")\n",
    "    else:\n",
    "        UG = G.to_undirected()\n",
    "        # Nem mintavételezünk, de vegyük a legnagyobb összefüggő komponenst\n",
    "        if not nx.is_connected(UG):\n",
    "            largest_cc = max(nx.connected_components(UG), key=len)\n",
    "            UG_sample = UG.subgraph(largest_cc)\n",
    "            print(f\"Legnagyobb összefüggő komponens használata: {UG_sample.number_of_nodes()} csomópont\")\n",
    "        else:\n",
    "            UG_sample = UG\n",
    "            print(f\"Az eredeti gráf összefüggő, mérete: {UG_sample.number_of_nodes()} csomópont\")\n",
    "    \n",
    "    # Robusztusság tesztelése csomópontok eltávolításával\n",
    "    # Három stratégiát hasonlítunk össze:\n",
    "    # 1. Véletlen csomópontok eltávolítása\n",
    "    # 2. Magas fokszámú csomópontok eltávolítása (célzott támadás)\n",
    "    # 3. Magas betweenness centralitású csomópontok eltávolítása\n",
    "    \n",
    "    try:\n",
    "        # Eredeti gráf tulajdonságai\n",
    "        n_nodes_orig = UG_sample.number_of_nodes()\n",
    "        n_edges_orig = UG_sample.number_of_edges()\n",
    "        largest_cc_size_orig = len(max(nx.connected_components(UG_sample), key=len))\n",
    "        cc_sizes_orig = [len(cc) for cc in nx.connected_components(UG_sample)]\n",
    "        avg_path_length_orig = nx.average_shortest_path_length(UG_sample) if nx.is_connected(UG_sample) else float('inf')\n",
    "        \n",
    "        print(f\"Eredeti gráf: {n_nodes_orig} csomópont, {n_edges_orig} él\")\n",
    "        print(f\"Legnagyobb komponens mérete: {largest_cc_size_orig} csomópont ({largest_cc_size_orig/n_nodes_orig:.1%})\")\n",
    "        print(f\"Komponensek száma: {len(cc_sizes_orig)}\")\n",
    "        print(f\"Átlagos legrövidebb úthossz: {avg_path_length_orig:.4f}\")\n",
    "        \n",
    "        # Csomópontok eltávolításának lépései (a gráf hány százalékát távolítjuk el)\n",
    "        removal_steps = np.linspace(0, 0.5, 11)  # 0% - 50% között 11 lépésben\n",
    "        nodes_to_remove_count = [int(step * n_nodes_orig) for step in removal_steps]\n",
    "        \n",
    "        # Különböző eltávolítási stratégiák\n",
    "        # 1. Véletlen csomópontok\n",
    "        all_nodes = list(UG_sample.nodes())\n",
    "        random_nodes = np.random.choice(all_nodes, size=int(removal_steps[-1] * n_nodes_orig), replace=False)\n",
    "        \n",
    "        # 2. Magas fokszámú csomópontok\n",
    "        degree_nodes = sorted(UG_sample.degree(), key=lambda x: x[1], reverse=True)\n",
    "        high_degree_nodes = [node for node, _ in degree_nodes[:int(removal_steps[-1] * n_nodes_orig)]]\n",
    "        \n",
    "        # 3. Magas betweenness csomópontok\n",
    "        # Nagy gráfoknál ez sokáig tarthat, ezért mintavételezünk a betweenness számításnál\n",
    "        k_sample = min(500, UG_sample.number_of_nodes() // 2) if UG_sample.number_of_nodes() > 1000 else None\n",
    "        betweenness = nx.betweenness_centrality(UG_sample, k=k_sample)\n",
    "        high_betweenness_nodes = sorted(betweenness.items(), key=lambda x: x[1], reverse=True)\n",
    "        high_betweenness_nodes = [node for node, _ in high_betweenness_nodes[:int(removal_steps[-1] * n_nodes_orig)]]\n",
    "        \n",
    "        # Eredmények tárolása\n",
    "        results = {\n",
    "            'removal_percentage': removal_steps * 100,  # Százalék\n",
    "            'random_lcc': [],  # Legnagyobb komponens relatív mérete\n",
    "            'high_degree_lcc': [],\n",
    "            'high_betweenness_lcc': [],\n",
    "            'random_cc_count': [],  # Komponensek száma\n",
    "            'high_degree_cc_count': [],\n",
    "            'high_betweenness_cc_count': []\n",
    "        }\n",
    "        \n",
    "        # Minden eltávolítási lépésre kiszámoljuk a metrikákat\n",
    "        for i, num_removed in enumerate(nodes_to_remove_count):\n",
    "            # Véletlen eltávolítás\n",
    "            if num_removed > 0:\n",
    "                G_random = UG_sample.copy()\n",
    "                G_random.remove_nodes_from(random_nodes[:num_removed])\n",
    "                \n",
    "                if G_random.number_of_nodes() > 0:\n",
    "                    cc_sizes = [len(cc) for cc in nx.connected_components(G_random)]\n",
    "                    largest_cc_size = max(cc_sizes) if cc_sizes else 0\n",
    "                    results['random_lcc'].append(largest_cc_size / n_nodes_orig)\n",
    "                    results['random_cc_count'].append(len(cc_sizes))\n",
    "                else:\n",
    "                    results['random_lcc'].append(0)\n",
    "                    results['random_cc_count'].append(0)\n",
    "            else:\n",
    "                # Kezdeti, eredeti érték\n",
    "                results['random_lcc'].append(largest_cc_size_orig / n_nodes_orig)\n",
    "                results['random_cc_count'].append(len(cc_sizes_orig))\n",
    "            \n",
    "            # Magas fokszám szerinti eltávolítás\n",
    "            if num_removed > 0:\n",
    "                G_degree = UG_sample.copy()\n",
    "                G_degree.remove_nodes_from(high_degree_nodes[:num_removed])\n",
    "                \n",
    "                if G_degree.number_of_nodes() > 0:\n",
    "                    cc_sizes = [len(cc) for cc in nx.connected_components(G_degree)]\n",
    "                    largest_cc_size = max(cc_sizes) if cc_sizes else 0\n",
    "                    results['high_degree_lcc'].append(largest_cc_size / n_nodes_orig)\n",
    "                    results['high_degree_cc_count'].append(len(cc_sizes))\n",
    "                else:\n",
    "                    results['high_degree_lcc'].append(0)\n",
    "                    results['high_degree_cc_count'].append(0)\n",
    "            else:\n",
    "                results['high_degree_lcc'].append(largest_cc_size_orig / n_nodes_orig)\n",
    "                results['high_degree_cc_count'].append(len(cc_sizes_orig))\n",
    "            \n",
    "            # Magas betweenness szerinti eltávolítás\n",
    "            if num_removed > 0:\n",
    "                G_betweenness = UG_sample.copy()\n",
    "                G_betweenness.remove_nodes_from(high_betweenness_nodes[:num_removed])\n",
    "                \n",
    "                if G_betweenness.number_of_nodes() > 0:\n",
    "                    cc_sizes = [len(cc) for cc in nx.connected_components(G_betweenness)]\n",
    "                    largest_cc_size = max(cc_sizes) if cc_sizes else 0\n",
    "                    results['high_betweenness_lcc'].append(largest_cc_size / n_nodes_orig)\n",
    "                    results['high_betweenness_cc_count'].append(len(cc_sizes))\n",
    "                else:\n",
    "                    results['high_betweenness_lcc'].append(0)\n",
    "                    results['high_betweenness_cc_count'].append(0)\n",
    "            else:\n",
    "                results['high_betweenness_lcc'].append(largest_cc_size_orig / n_nodes_orig)\n",
    "                results['high_betweenness_cc_count'].append(len(cc_sizes_orig))\n",
    "        \n",
    "        # Eredmények vizualizálása\n",
    "        plt.figure(figsize=(14, 6))\n",
    "        \n",
    "        plt.subplot(1, 2, 1)\n",
    "        plt.plot(results['removal_percentage'], results['random_lcc'], 'bo-', label='Véletlen eltávolítás')\n",
    "        plt.plot(results['removal_percentage'], results['high_degree_lcc'], 'ro-', label='Fokszám szerinti eltávolítás')\n",
    "        plt.plot(results['removal_percentage'], results['high_betweenness_lcc'], 'go-', label='Betweenness szerinti eltávolítás')\n",
    "        plt.grid(True, alpha=0.3)\n",
    "        plt.xlabel('Eltávolított csomópontok (%)')\n",
    "        plt.ylabel('Legnagyobb komponens relatív mérete')\n",
    "        plt.title('Gráf robusztusság: Legnagyobb komponens mérete')\n",
    "        plt.legend()\n",
    "        \n",
    "        plt.subplot(1, 2, 2)\n",
    "        plt.plot(results['removal_percentage'], results['random_cc_count'], 'bo-', label='Véletlen eltávolítás')\n",
    "        plt.plot(results['removal_percentage'], results['high_degree_cc_count'], 'ro-', label='Fokszám szerinti eltávolítás')\n",
    "        plt.plot(results['removal_percentage'], results['high_betweenness_cc_count'], 'go-', label='Betweenness szerinti eltávolítás')\n",
    "        plt.grid(True, alpha=0.3)\n",
    "        plt.xlabel('Eltávolított csomópontok (%)')\n",
    "        plt.ylabel('Komponensek száma')\n",
    "        plt.title('Gráf robusztusság: Komponensek száma')\n",
    "        plt.legend()\n",
    "        \n",
    "        plt.tight_layout()\n",
    "        plt.show()\n",
    "        \n",
    "        # Értelmezés\n",
    "        print(\"\\nGráf robusztusság elemzés értelmezése:\")\n",
    "        print(\"1. Minél gyorsabban csökken a legnagyobb komponens mérete, annál sebezhetőbb a gráf\")\n",
    "        print(\"2. A fokszám vagy betweenness szerinti célzott támadás általában hatékonyabb a gráf szétdarabolásában\")\n",
    "        print(\"3. A komponensek száma először nő (a gráf fragmentálódik), majd csökken (az izolált csomópontok eltűnnek)\")\n",
    "        \n",
    "    except Exception as e:\n",
    "        print(f\"Hiba a robusztusság elemzés során: {e}\")\n",
    "        \n",
    "else:\n",
    "    print('A gráf nincs betöltve vagy üres.')"
   ]
  }
 ],
 "metadata": {
  "kernelspec": {
   "display_name": ".venv",
   "language": "python",
   "name": "python3"
  },
  "language_info": {
   "codemirror_mode": {
    "name": "ipython",
    "version": 3
   },
   "file_extension": ".py",
   "mimetype": "text/x-python",
   "name": "python",
   "nbconvert_exporter": "python",
   "pygments_lexer": "ipython3",
   "version": "3.12.7"
  }
 },
 "nbformat": 4,
 "nbformat_minor": 5
}
