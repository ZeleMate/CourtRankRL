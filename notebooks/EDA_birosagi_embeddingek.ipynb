{
 "cells": [
  {
   "cell_type": "code",
   "execution_count": 1,
   "id": "1d4801bb",
   "metadata": {},
   "outputs": [],
   "source": [
    "# --- Bevezetés: Könyvtárak importálása\n",
    "import pandas as pd\n",
    "import numpy as np\n",
    "import matplotlib.pyplot as plt\n",
    "import seaborn as sns\n",
    "from sklearn.decomposition import PCA"
   ]
  },
  {
   "cell_type": "code",
   "execution_count": null,
   "id": "48b0984a",
   "metadata": {},
   "outputs": [],
   "source": [
    "# --- 1. Lépés: Embeddingek betöltése\n",
    "\n",
    "# Fájl elérési út (módosítsd saját elérésed szerint)\n",
    "embedding_file = '/Users/zelenyianszkimate/Documents/Szakdolgozat/processed_data/processed_documents_with_embeddings.parquet'\n",
    "\n",
    "# Betöltés\n",
    "embedding_df = pd.read_parquet(embedding_file)\n",
    "print(f\"Betöltött dokumentumok száma: {len(embedding_df)}\")\n",
    "\n",
    "# --- 2. Lépés: Embeddingek alapellenőrzése\n",
    "\n",
    "# Ellenőrizzük az embeddingek típusát és dimenzióját\n",
    "print(f\"Első embedding típusa: {type(embedding_df['embedding'].iloc[0])}\")\n",
    "print(f\"Első embedding dimenziója: {len(embedding_df['embedding'].iloc[0])}\")\n",
    "\n",
    "# Hiányzó embeddingek számának ellenőrzése\n",
    "missing_embeddings = embedding_df['embedding'].isna().sum()\n",
    "print(f\"Hiányzó embeddingek száma: {missing_embeddings}\")\n",
    "\n",
    "# --- 3. Lépés: PCA dimenziócsökkentés\n",
    "\n",
    "# Embeddingek NumPy tömbbé alakítása\n",
    "# Először távolítsuk el a hiányzó embeddingeket tartalmazó sorokat a DataFrame-ből\n",
    "valid_embeddings_df = embedding_df.dropna(subset=['embedding'])\n",
    "# Majd alakítsuk a Series-t listává a vstack számára\n",
    "X = np.vstack(valid_embeddings_df['embedding'].tolist())\n",
    "\n",
    "\n",
    "# PCA futtatása\n",
    "pca = PCA(n_components=2)\n",
    "X_reduced = pca.fit_transform(X)\n",
    "\n",
    "print(f\"PCA első két komponens magyázott varianciája: {pca.explained_variance_ratio_}\")\n",
    "\n",
    "# --- 4. Lépés: PCA eredmény vizualizáció\n",
    "\n",
    "plt.figure(figsize=(10,7))\n",
    "plt.scatter(X_reduced[:, 0], X_reduced[:, 1], s=2, alpha=0.6)\n",
    "plt.title(\"Embeddingek PCA 2D leképezése\")\n",
    "plt.xlabel(\"Főkomponens 1\")\n",
    "# --- 5. Lépés (opcionális): Jogterületi színezés, ha van ilyen mező\n",
    "\n",
    "if 'JogTerulet' in embedding_df.columns:\n",
    "    # Használjuk a már szűrt DataFrame-et, hogy a címkék száma megegyezzen a redukált pontok számával\n",
    "    jogterulet_labels = valid_embeddings_df['JogTerulet'].fillna('ismeretlen').values\n",
    "\n",
    "    plt.figure(figsize=(12,8))\n",
    "    sns.scatterplot(x=X_reduced[:,0], y=X_reduced[:,1], hue=jogterulet_labels, s=8, palette='tab10')\n",
    "    plt.title(\"Embeddingek jogterület szerint színezve\")\n",
    "    plt.xlabel(\"Főkomponens 1\")\n",
    "    plt.ylabel(\"Főkomponens 2\")\n",
    "    plt.legend(bbox_to_anchor=(1.05, 1), loc='upper left')\n",
    "    plt.grid(True)\n",
    "    plt.show()\n",
    "else:\n",
    "    print(\"Jogterület mező nem található a DataFrame-ben.\")\n",
    "\n",
    "# --- Vége: Kiértékelés\n",
    "\n",
    "print(\"EDA lépések befejezve. Ellenőrizd az ábrákat és a szóródást.\")\n"
   ]
  }
 ],
 "metadata": {
  "kernelspec": {
   "display_name": ".venv",
   "language": "python",
   "name": "python3"
  },
  "language_info": {
   "codemirror_mode": {
    "name": "ipython",
    "version": 3
   },
   "file_extension": ".py",
   "mimetype": "text/x-python",
   "name": "python",
   "nbconvert_exporter": "python",
   "pygments_lexer": "ipython3",
   "version": "3.13.1"
  }
 },
 "nbformat": 4,
 "nbformat_minor": 5
}
