{
  "cells": [
    {
      "cell_type": "markdown",
      "metadata": {},
      "source": [
        "# Baseline Retrieval Teljesítmény Kiértékelése\n",
        "\n",
        "Ez a notebook a hybrid search (BM25 + FAISS + RRF fusion) baseline teljesítményét értékeli ki.\n",
        "\n",
        "**Célok:**\n",
        "- Qrels alapú kiértékelés (nDCG@10, MAP, Recall@K, MRR)\n",
        "- Baseline score meghatározása GRPO összehasonlításhoz\n",
        "- Részletes analitika query-szinten és aggregált szinten\n",
        "- Eredmények mentése későbbi felhasználásra\n",
        "\n",
        "**Fusion módszer:** RRF (Reciprocal Rank Fusion) - robusztus, skála-független\n"
      ]
    },
    {
      "cell_type": "code",
      "execution_count": 1,
      "metadata": {},
      "outputs": [
        {
          "name": "stdout",
          "output_type": "stream",
          "text": [
            "📂 Project root: /Users/zelenyianszkimate/Documents/CourtRankRL\n",
            "✅ Importok betöltve\n"
          ]
        }
      ],
      "source": [
        "import json\n",
        "import sys\n",
        "from pathlib import Path\n",
        "from collections import defaultdict\n",
        "from typing import Dict, List, Set, Tuple\n",
        "\n",
        "import numpy as np\n",
        "import pandas as pd\n",
        "import matplotlib.pyplot as plt\n",
        "import seaborn as sns\n",
        "\n",
        "# Project root setup\n",
        "project_root = Path(\"/workspace\") if Path(\"/workspace\").exists() else Path.cwd().parent\n",
        "if str(project_root) not in sys.path:\n",
        "    sys.path.insert(0, str(project_root))\n",
        "\n",
        "from configs import config\n",
        "from src.search.hybrid_search import HybridRetriever\n",
        "\n",
        "print(f\"📂 Project root: {project_root}\")\n",
        "print(f\"✅ Importok betöltve\")\n"
      ]
    },
    {
      "cell_type": "markdown",
      "metadata": {},
      "source": [
        "## 1. Qrels Betöltése\n",
        "\n",
        "A relevancia判定 (qrels) fájl betöltése, amely a ground truth annotációkat tartalmazza.\n"
      ]
    },
    {
      "cell_type": "code",
      "execution_count": 2,
      "metadata": {},
      "outputs": [
        {
          "name": "stdout",
          "output_type": "stream",
          "text": [
            "✅ Qrels betöltve: 98 query, 1950 relevancia判定\n",
            "\n",
            "📊 Relevancia eloszlás:\n",
            "  Grade 0: 1950 dokumentum\n"
          ]
        }
      ],
      "source": [
        "def load_qrels(qrels_path: Path) -> Dict[str, Dict[str, int]]:\n",
        "    \"\"\"\n",
        "    Qrels betöltése TSV formátumból.\n",
        "    \n",
        "    Formátum: query_id\\tdoc_id\\trelevance\n",
        "    \n",
        "    Returns:\n",
        "        Dict[query_id, Dict[doc_id, relevance_grade]]\n",
        "    \"\"\"\n",
        "    qrels = defaultdict(dict)\n",
        "    \n",
        "    with open(qrels_path, 'r', encoding='utf-8') as f:\n",
        "        lines = f.readlines()\n",
        "        \n",
        "    # Skip header\n",
        "    for line in lines[1:]:\n",
        "        line = line.strip()\n",
        "        if not line:\n",
        "            continue\n",
        "        parts = line.split('\\t')\n",
        "        if len(parts) != 3:\n",
        "            continue\n",
        "        query_id, doc_id, relevance = parts\n",
        "        qrels[query_id][doc_id] = int(relevance)\n",
        "    \n",
        "    return dict(qrels)\n",
        "\n",
        "# Qrels betöltése\n",
        "qrels_path = project_root / \"data\" / \"qrels\" / \"baseline_qrels.tsv\"\n",
        "\n",
        "if not qrels_path.exists():\n",
        "    print(f\"❌ Qrels fájl nem található: {qrels_path}\")\n",
        "    print(\"⚠️  Hozz létre egy qrels fájlt a kiértékeléshez!\")\n",
        "    qrels = {}\n",
        "else:\n",
        "    qrels = load_qrels(qrels_path)\n",
        "    print(f\"✅ Qrels betöltve: {len(qrels)} query, {sum(len(docs) for docs in qrels.values())} relevancia判定\")\n",
        "    \n",
        "    # Statisztikák\n",
        "    relevance_counts = defaultdict(int)\n",
        "    for query_rels in qrels.values():\n",
        "        for rel_grade in query_rels.values():\n",
        "            relevance_counts[rel_grade] += 1\n",
        "    \n",
        "    print(\"\\n📊 Relevancia eloszlás:\")\n",
        "    for grade in sorted(relevance_counts.keys()):\n",
        "        print(f\"  Grade {grade}: {relevance_counts[grade]} dokumentum\")\n"
      ]
    },
    {
      "cell_type": "markdown",
      "metadata": {},
      "source": [
        "## 2. Hybrid Retriever Inicializálása\n"
      ]
    },
    {
      "cell_type": "code",
      "execution_count": 3,
      "metadata": {},
      "outputs": [
        {
          "name": "stdout",
          "output_type": "stream",
          "text": [
            "🔧 Hybrid Retriever inicializálása...\n",
            "🔧 Modell betöltése (mps) – google/embeddinggemma-300m\n",
            "✅ EmbeddingGemma modell betöltve\n",
            "✅ BM25S modell betöltve\n",
            "✅ BM25 index betöltve (2964527 dokumentum)\n",
            "ℹ️  FAISS index készenléten (lazy loading)\n",
            "🔗 Chunk ID mapping betöltve (2964527 elem)\n",
            "📋 Chunk metadata készenléten (lazy loading): /Users/zelenyianszkimate/Documents/CourtRankRL/data/processed/chunks.jsonl\n",
            "✅ Retriever kész\n"
          ]
        }
      ],
      "source": [
        "print(\"🔧 Hybrid Retriever inicializálása...\")\n",
        "retriever = HybridRetriever()\n",
        "print(\"✅ Retriever kész\")\n"
      ]
    },
    {
      "cell_type": "markdown",
      "metadata": {},
      "source": [
        "## 3. Baseline Találati Listák Generálása\n"
      ]
    },
    {
      "cell_type": "code",
      "execution_count": 4,
      "metadata": {},
      "outputs": [
        {
          "name": "stdout",
          "output_type": "stream",
          "text": [
            "\n",
            "🔍 98 query feldolgozása...\n",
            "⏳ Query feldolgozás: 1/98"
          ]
        },
        {
          "data": {
            "application/vnd.jupyter.widget-view+json": {
              "model_id": "8b916cd1bfa0449b9df03c63358caf1d",
              "version_major": 2,
              "version_minor": 0
            },
            "text/plain": [
              "Split strings:   0%|          | 0/1 [00:00<?, ?it/s]"
            ]
          },
          "metadata": {},
          "output_type": "display_data"
        },
        {
          "name": "stdout",
          "output_type": "stream",
          "text": [
            "🔄 FAISS index betöltése...\n",
            "ℹ️  FAISS CPU/MPS módban fut\n",
            "✅ FAISS index betöltve (2964527 vektor)\n",
            "⏳ Query feldolgozás: 2/98"
          ]
        },
        {
          "data": {
            "application/vnd.jupyter.widget-view+json": {
              "model_id": "6718fcba15a9418884b279ad55cfec11",
              "version_major": 2,
              "version_minor": 0
            },
            "text/plain": [
              "Split strings:   0%|          | 0/1 [00:00<?, ?it/s]"
            ]
          },
          "metadata": {},
          "output_type": "display_data"
        },
        {
          "name": "stdout",
          "output_type": "stream",
          "text": [
            "⏳ Query feldolgozás: 3/98"
          ]
        },
        {
          "data": {
            "application/vnd.jupyter.widget-view+json": {
              "model_id": "2df3e687a4b843ae9b94ccb564890e00",
              "version_major": 2,
              "version_minor": 0
            },
            "text/plain": [
              "Split strings:   0%|          | 0/1 [00:00<?, ?it/s]"
            ]
          },
          "metadata": {},
          "output_type": "display_data"
        },
        {
          "name": "stdout",
          "output_type": "stream",
          "text": [
            "⏳ Query feldolgozás: 4/98"
          ]
        },
        {
          "data": {
            "application/vnd.jupyter.widget-view+json": {
              "model_id": "64687eeebc5f46fd90e27d09cf53307a",
              "version_major": 2,
              "version_minor": 0
            },
            "text/plain": [
              "Split strings:   0%|          | 0/1 [00:00<?, ?it/s]"
            ]
          },
          "metadata": {},
          "output_type": "display_data"
        },
        {
          "name": "stdout",
          "output_type": "stream",
          "text": [
            "⏳ Query feldolgozás: 5/98"
          ]
        },
        {
          "data": {
            "application/vnd.jupyter.widget-view+json": {
              "model_id": "e2f56554fbcc4b6dbbc95c55be099319",
              "version_major": 2,
              "version_minor": 0
            },
            "text/plain": [
              "Split strings:   0%|          | 0/1 [00:00<?, ?it/s]"
            ]
          },
          "metadata": {},
          "output_type": "display_data"
        },
        {
          "name": "stdout",
          "output_type": "stream",
          "text": [
            "⏳ Query feldolgozás: 6/98"
          ]
        },
        {
          "data": {
            "application/vnd.jupyter.widget-view+json": {
              "model_id": "d07e9373ca3e4eb68894b55009428915",
              "version_major": 2,
              "version_minor": 0
            },
            "text/plain": [
              "Split strings:   0%|          | 0/1 [00:00<?, ?it/s]"
            ]
          },
          "metadata": {},
          "output_type": "display_data"
        },
        {
          "name": "stdout",
          "output_type": "stream",
          "text": [
            "⏳ Query feldolgozás: 7/98"
          ]
        },
        {
          "data": {
            "application/vnd.jupyter.widget-view+json": {
              "model_id": "9b5e967d6eb34ac3801359907092759c",
              "version_major": 2,
              "version_minor": 0
            },
            "text/plain": [
              "Split strings:   0%|          | 0/1 [00:00<?, ?it/s]"
            ]
          },
          "metadata": {},
          "output_type": "display_data"
        },
        {
          "name": "stdout",
          "output_type": "stream",
          "text": [
            "⏳ Query feldolgozás: 8/98"
          ]
        },
        {
          "data": {
            "application/vnd.jupyter.widget-view+json": {
              "model_id": "bd94243a24ba45d6ae128773f3621a5d",
              "version_major": 2,
              "version_minor": 0
            },
            "text/plain": [
              "Split strings:   0%|          | 0/1 [00:00<?, ?it/s]"
            ]
          },
          "metadata": {},
          "output_type": "display_data"
        },
        {
          "name": "stdout",
          "output_type": "stream",
          "text": [
            "⏳ Query feldolgozás: 9/98"
          ]
        },
        {
          "data": {
            "application/vnd.jupyter.widget-view+json": {
              "model_id": "447636fb2cd14b3c99cca12b12be29fb",
              "version_major": 2,
              "version_minor": 0
            },
            "text/plain": [
              "Split strings:   0%|          | 0/1 [00:00<?, ?it/s]"
            ]
          },
          "metadata": {},
          "output_type": "display_data"
        },
        {
          "name": "stdout",
          "output_type": "stream",
          "text": [
            "⏳ Query feldolgozás: 10/98"
          ]
        },
        {
          "data": {
            "application/vnd.jupyter.widget-view+json": {
              "model_id": "15ebbc131f9e4250a4e07077faec74c0",
              "version_major": 2,
              "version_minor": 0
            },
            "text/plain": [
              "Split strings:   0%|          | 0/1 [00:00<?, ?it/s]"
            ]
          },
          "metadata": {},
          "output_type": "display_data"
        },
        {
          "name": "stdout",
          "output_type": "stream",
          "text": [
            "⏳ Query feldolgozás: 11/98"
          ]
        },
        {
          "data": {
            "application/vnd.jupyter.widget-view+json": {
              "model_id": "4ec0ef5d393d42d7a4a39e60e6320439",
              "version_major": 2,
              "version_minor": 0
            },
            "text/plain": [
              "Split strings:   0%|          | 0/1 [00:00<?, ?it/s]"
            ]
          },
          "metadata": {},
          "output_type": "display_data"
        },
        {
          "name": "stdout",
          "output_type": "stream",
          "text": [
            "⏳ Query feldolgozás: 12/98"
          ]
        },
        {
          "data": {
            "application/vnd.jupyter.widget-view+json": {
              "model_id": "d4f0d69b3cca4587871898d5579b1829",
              "version_major": 2,
              "version_minor": 0
            },
            "text/plain": [
              "Split strings:   0%|          | 0/1 [00:00<?, ?it/s]"
            ]
          },
          "metadata": {},
          "output_type": "display_data"
        },
        {
          "name": "stdout",
          "output_type": "stream",
          "text": [
            "⏳ Query feldolgozás: 13/98"
          ]
        },
        {
          "data": {
            "application/vnd.jupyter.widget-view+json": {
              "model_id": "e39b3c6fa67f43eeb66970540a8a84a4",
              "version_major": 2,
              "version_minor": 0
            },
            "text/plain": [
              "Split strings:   0%|          | 0/1 [00:00<?, ?it/s]"
            ]
          },
          "metadata": {},
          "output_type": "display_data"
        },
        {
          "name": "stdout",
          "output_type": "stream",
          "text": [
            "⏳ Query feldolgozás: 14/98"
          ]
        },
        {
          "data": {
            "application/vnd.jupyter.widget-view+json": {
              "model_id": "64dcff9202a14cebb7ba92730a43b654",
              "version_major": 2,
              "version_minor": 0
            },
            "text/plain": [
              "Split strings:   0%|          | 0/1 [00:00<?, ?it/s]"
            ]
          },
          "metadata": {},
          "output_type": "display_data"
        },
        {
          "name": "stdout",
          "output_type": "stream",
          "text": [
            "⏳ Query feldolgozás: 15/98"
          ]
        },
        {
          "data": {
            "application/vnd.jupyter.widget-view+json": {
              "model_id": "d9959179a5484e858d21c2f62b1b77fc",
              "version_major": 2,
              "version_minor": 0
            },
            "text/plain": [
              "Split strings:   0%|          | 0/1 [00:00<?, ?it/s]"
            ]
          },
          "metadata": {},
          "output_type": "display_data"
        },
        {
          "name": "stdout",
          "output_type": "stream",
          "text": [
            "⏳ Query feldolgozás: 16/98"
          ]
        },
        {
          "data": {
            "application/vnd.jupyter.widget-view+json": {
              "model_id": "760313256a324279bdd6d8378e00df4c",
              "version_major": 2,
              "version_minor": 0
            },
            "text/plain": [
              "Split strings:   0%|          | 0/1 [00:00<?, ?it/s]"
            ]
          },
          "metadata": {},
          "output_type": "display_data"
        },
        {
          "name": "stdout",
          "output_type": "stream",
          "text": [
            "⏳ Query feldolgozás: 17/98"
          ]
        },
        {
          "data": {
            "application/vnd.jupyter.widget-view+json": {
              "model_id": "064d702edc964277b68eae1991eaab47",
              "version_major": 2,
              "version_minor": 0
            },
            "text/plain": [
              "Split strings:   0%|          | 0/1 [00:00<?, ?it/s]"
            ]
          },
          "metadata": {},
          "output_type": "display_data"
        },
        {
          "name": "stdout",
          "output_type": "stream",
          "text": [
            "⏳ Query feldolgozás: 18/98"
          ]
        },
        {
          "data": {
            "application/vnd.jupyter.widget-view+json": {
              "model_id": "949566ed04e445388d975166c0a75db4",
              "version_major": 2,
              "version_minor": 0
            },
            "text/plain": [
              "Split strings:   0%|          | 0/1 [00:00<?, ?it/s]"
            ]
          },
          "metadata": {},
          "output_type": "display_data"
        },
        {
          "name": "stdout",
          "output_type": "stream",
          "text": [
            "⏳ Query feldolgozás: 19/98"
          ]
        },
        {
          "data": {
            "application/vnd.jupyter.widget-view+json": {
              "model_id": "0faaab6999e340d5b0f4564086611205",
              "version_major": 2,
              "version_minor": 0
            },
            "text/plain": [
              "Split strings:   0%|          | 0/1 [00:00<?, ?it/s]"
            ]
          },
          "metadata": {},
          "output_type": "display_data"
        },
        {
          "name": "stdout",
          "output_type": "stream",
          "text": [
            "⏳ Query feldolgozás: 20/98"
          ]
        },
        {
          "data": {
            "application/vnd.jupyter.widget-view+json": {
              "model_id": "a4be0e5872c24a2985710740503cc148",
              "version_major": 2,
              "version_minor": 0
            },
            "text/plain": [
              "Split strings:   0%|          | 0/1 [00:00<?, ?it/s]"
            ]
          },
          "metadata": {},
          "output_type": "display_data"
        },
        {
          "name": "stdout",
          "output_type": "stream",
          "text": [
            "⏳ Query feldolgozás: 21/98"
          ]
        },
        {
          "data": {
            "application/vnd.jupyter.widget-view+json": {
              "model_id": "5b0912e3a7cd46d98534bd44a4abfeaa",
              "version_major": 2,
              "version_minor": 0
            },
            "text/plain": [
              "Split strings:   0%|          | 0/1 [00:00<?, ?it/s]"
            ]
          },
          "metadata": {},
          "output_type": "display_data"
        },
        {
          "name": "stdout",
          "output_type": "stream",
          "text": [
            "⏳ Query feldolgozás: 22/98"
          ]
        },
        {
          "data": {
            "application/vnd.jupyter.widget-view+json": {
              "model_id": "0db0fd320f794302a24c3ad7066fdd2b",
              "version_major": 2,
              "version_minor": 0
            },
            "text/plain": [
              "Split strings:   0%|          | 0/1 [00:00<?, ?it/s]"
            ]
          },
          "metadata": {},
          "output_type": "display_data"
        },
        {
          "name": "stdout",
          "output_type": "stream",
          "text": [
            "⏳ Query feldolgozás: 23/98"
          ]
        },
        {
          "data": {
            "application/vnd.jupyter.widget-view+json": {
              "model_id": "d511931ecadb4091a0def9f026ed717b",
              "version_major": 2,
              "version_minor": 0
            },
            "text/plain": [
              "Split strings:   0%|          | 0/1 [00:00<?, ?it/s]"
            ]
          },
          "metadata": {},
          "output_type": "display_data"
        },
        {
          "name": "stdout",
          "output_type": "stream",
          "text": [
            "⏳ Query feldolgozás: 24/98"
          ]
        },
        {
          "data": {
            "application/vnd.jupyter.widget-view+json": {
              "model_id": "b73f83ad435043549b386c78fab69bc3",
              "version_major": 2,
              "version_minor": 0
            },
            "text/plain": [
              "Split strings:   0%|          | 0/1 [00:00<?, ?it/s]"
            ]
          },
          "metadata": {},
          "output_type": "display_data"
        },
        {
          "name": "stdout",
          "output_type": "stream",
          "text": [
            "⏳ Query feldolgozás: 25/98"
          ]
        },
        {
          "data": {
            "application/vnd.jupyter.widget-view+json": {
              "model_id": "1d429253dd6c4aa19c5703d7549d5cf5",
              "version_major": 2,
              "version_minor": 0
            },
            "text/plain": [
              "Split strings:   0%|          | 0/1 [00:00<?, ?it/s]"
            ]
          },
          "metadata": {},
          "output_type": "display_data"
        },
        {
          "name": "stdout",
          "output_type": "stream",
          "text": [
            "⏳ Query feldolgozás: 26/98"
          ]
        },
        {
          "data": {
            "application/vnd.jupyter.widget-view+json": {
              "model_id": "fd4ed930ff4f4722aa45ee617ecf018c",
              "version_major": 2,
              "version_minor": 0
            },
            "text/plain": [
              "Split strings:   0%|          | 0/1 [00:00<?, ?it/s]"
            ]
          },
          "metadata": {},
          "output_type": "display_data"
        },
        {
          "name": "stdout",
          "output_type": "stream",
          "text": [
            "⏳ Query feldolgozás: 27/98"
          ]
        },
        {
          "data": {
            "application/vnd.jupyter.widget-view+json": {
              "model_id": "1dadde266d19450dad3ff1157a6088d0",
              "version_major": 2,
              "version_minor": 0
            },
            "text/plain": [
              "Split strings:   0%|          | 0/1 [00:00<?, ?it/s]"
            ]
          },
          "metadata": {},
          "output_type": "display_data"
        },
        {
          "name": "stdout",
          "output_type": "stream",
          "text": [
            "⏳ Query feldolgozás: 28/98"
          ]
        },
        {
          "data": {
            "application/vnd.jupyter.widget-view+json": {
              "model_id": "96595bb23e4144d49a505cfc94ec0c6d",
              "version_major": 2,
              "version_minor": 0
            },
            "text/plain": [
              "Split strings:   0%|          | 0/1 [00:00<?, ?it/s]"
            ]
          },
          "metadata": {},
          "output_type": "display_data"
        },
        {
          "name": "stdout",
          "output_type": "stream",
          "text": [
            "⏳ Query feldolgozás: 29/98"
          ]
        },
        {
          "data": {
            "application/vnd.jupyter.widget-view+json": {
              "model_id": "b0261407b3244592863b852ac700b0f2",
              "version_major": 2,
              "version_minor": 0
            },
            "text/plain": [
              "Split strings:   0%|          | 0/1 [00:00<?, ?it/s]"
            ]
          },
          "metadata": {},
          "output_type": "display_data"
        },
        {
          "name": "stdout",
          "output_type": "stream",
          "text": [
            "⏳ Query feldolgozás: 30/98"
          ]
        },
        {
          "data": {
            "application/vnd.jupyter.widget-view+json": {
              "model_id": "df450c093d864dff93ed00af6d26863d",
              "version_major": 2,
              "version_minor": 0
            },
            "text/plain": [
              "Split strings:   0%|          | 0/1 [00:00<?, ?it/s]"
            ]
          },
          "metadata": {},
          "output_type": "display_data"
        },
        {
          "name": "stdout",
          "output_type": "stream",
          "text": [
            "⏳ Query feldolgozás: 31/98"
          ]
        },
        {
          "data": {
            "application/vnd.jupyter.widget-view+json": {
              "model_id": "a081349726ff4b03af3cd76601ac13b3",
              "version_major": 2,
              "version_minor": 0
            },
            "text/plain": [
              "Split strings:   0%|          | 0/1 [00:00<?, ?it/s]"
            ]
          },
          "metadata": {},
          "output_type": "display_data"
        },
        {
          "name": "stdout",
          "output_type": "stream",
          "text": [
            "⏳ Query feldolgozás: 32/98"
          ]
        },
        {
          "data": {
            "application/vnd.jupyter.widget-view+json": {
              "model_id": "82826014addb4cedb46fe07f6db43e61",
              "version_major": 2,
              "version_minor": 0
            },
            "text/plain": [
              "Split strings:   0%|          | 0/1 [00:00<?, ?it/s]"
            ]
          },
          "metadata": {},
          "output_type": "display_data"
        },
        {
          "name": "stdout",
          "output_type": "stream",
          "text": [
            "⏳ Query feldolgozás: 33/98"
          ]
        },
        {
          "data": {
            "application/vnd.jupyter.widget-view+json": {
              "model_id": "3cd96001a0124e30a13214a6ae7e2237",
              "version_major": 2,
              "version_minor": 0
            },
            "text/plain": [
              "Split strings:   0%|          | 0/1 [00:00<?, ?it/s]"
            ]
          },
          "metadata": {},
          "output_type": "display_data"
        },
        {
          "name": "stdout",
          "output_type": "stream",
          "text": [
            "⏳ Query feldolgozás: 34/98"
          ]
        },
        {
          "data": {
            "application/vnd.jupyter.widget-view+json": {
              "model_id": "3df6683a1aee4323a9552349ae44c3ff",
              "version_major": 2,
              "version_minor": 0
            },
            "text/plain": [
              "Split strings:   0%|          | 0/1 [00:00<?, ?it/s]"
            ]
          },
          "metadata": {},
          "output_type": "display_data"
        },
        {
          "name": "stdout",
          "output_type": "stream",
          "text": [
            "⏳ Query feldolgozás: 35/98"
          ]
        },
        {
          "data": {
            "application/vnd.jupyter.widget-view+json": {
              "model_id": "87a4dfd5fc7642c8bcfb484f750dc6dd",
              "version_major": 2,
              "version_minor": 0
            },
            "text/plain": [
              "Split strings:   0%|          | 0/1 [00:00<?, ?it/s]"
            ]
          },
          "metadata": {},
          "output_type": "display_data"
        },
        {
          "name": "stdout",
          "output_type": "stream",
          "text": [
            "⏳ Query feldolgozás: 36/98"
          ]
        },
        {
          "data": {
            "application/vnd.jupyter.widget-view+json": {
              "model_id": "9ced5af6fa714a6e9ad54a89bb46e41d",
              "version_major": 2,
              "version_minor": 0
            },
            "text/plain": [
              "Split strings:   0%|          | 0/1 [00:00<?, ?it/s]"
            ]
          },
          "metadata": {},
          "output_type": "display_data"
        },
        {
          "name": "stdout",
          "output_type": "stream",
          "text": [
            "⏳ Query feldolgozás: 37/98"
          ]
        },
        {
          "data": {
            "application/vnd.jupyter.widget-view+json": {
              "model_id": "3b23ae072bae4c9283bc84a63a05bf39",
              "version_major": 2,
              "version_minor": 0
            },
            "text/plain": [
              "Split strings:   0%|          | 0/1 [00:00<?, ?it/s]"
            ]
          },
          "metadata": {},
          "output_type": "display_data"
        },
        {
          "name": "stdout",
          "output_type": "stream",
          "text": [
            "⏳ Query feldolgozás: 38/98"
          ]
        },
        {
          "data": {
            "application/vnd.jupyter.widget-view+json": {
              "model_id": "a0c4983fffc046b8b1ee22b6a4417bb6",
              "version_major": 2,
              "version_minor": 0
            },
            "text/plain": [
              "Split strings:   0%|          | 0/1 [00:00<?, ?it/s]"
            ]
          },
          "metadata": {},
          "output_type": "display_data"
        },
        {
          "name": "stdout",
          "output_type": "stream",
          "text": [
            "⏳ Query feldolgozás: 39/98"
          ]
        },
        {
          "data": {
            "application/vnd.jupyter.widget-view+json": {
              "model_id": "5e55c4417c77449c86041392d3155b33",
              "version_major": 2,
              "version_minor": 0
            },
            "text/plain": [
              "Split strings:   0%|          | 0/1 [00:00<?, ?it/s]"
            ]
          },
          "metadata": {},
          "output_type": "display_data"
        },
        {
          "name": "stdout",
          "output_type": "stream",
          "text": [
            "⏳ Query feldolgozás: 40/98"
          ]
        },
        {
          "data": {
            "application/vnd.jupyter.widget-view+json": {
              "model_id": "3d55612d5c7a4466bbe22ef84e8770b8",
              "version_major": 2,
              "version_minor": 0
            },
            "text/plain": [
              "Split strings:   0%|          | 0/1 [00:00<?, ?it/s]"
            ]
          },
          "metadata": {},
          "output_type": "display_data"
        },
        {
          "name": "stdout",
          "output_type": "stream",
          "text": [
            "⏳ Query feldolgozás: 41/98"
          ]
        },
        {
          "data": {
            "application/vnd.jupyter.widget-view+json": {
              "model_id": "1b827ef0e8fb4362a5d4d3b756ed4f4b",
              "version_major": 2,
              "version_minor": 0
            },
            "text/plain": [
              "Split strings:   0%|          | 0/1 [00:00<?, ?it/s]"
            ]
          },
          "metadata": {},
          "output_type": "display_data"
        },
        {
          "name": "stdout",
          "output_type": "stream",
          "text": [
            "⏳ Query feldolgozás: 42/98"
          ]
        },
        {
          "data": {
            "application/vnd.jupyter.widget-view+json": {
              "model_id": "2f176592b7134dba9a9de08377283d51",
              "version_major": 2,
              "version_minor": 0
            },
            "text/plain": [
              "Split strings:   0%|          | 0/1 [00:00<?, ?it/s]"
            ]
          },
          "metadata": {},
          "output_type": "display_data"
        },
        {
          "name": "stdout",
          "output_type": "stream",
          "text": [
            "⏳ Query feldolgozás: 43/98"
          ]
        },
        {
          "data": {
            "application/vnd.jupyter.widget-view+json": {
              "model_id": "7261e467cf8c4ef4abf502bbb394d35a",
              "version_major": 2,
              "version_minor": 0
            },
            "text/plain": [
              "Split strings:   0%|          | 0/1 [00:00<?, ?it/s]"
            ]
          },
          "metadata": {},
          "output_type": "display_data"
        },
        {
          "name": "stdout",
          "output_type": "stream",
          "text": [
            "⏳ Query feldolgozás: 44/98"
          ]
        },
        {
          "data": {
            "application/vnd.jupyter.widget-view+json": {
              "model_id": "cf8b467aa1004805af514097606361df",
              "version_major": 2,
              "version_minor": 0
            },
            "text/plain": [
              "Split strings:   0%|          | 0/1 [00:00<?, ?it/s]"
            ]
          },
          "metadata": {},
          "output_type": "display_data"
        },
        {
          "name": "stdout",
          "output_type": "stream",
          "text": [
            "⏳ Query feldolgozás: 45/98"
          ]
        },
        {
          "data": {
            "application/vnd.jupyter.widget-view+json": {
              "model_id": "1a066b50f9b84d85951553d90612f6ca",
              "version_major": 2,
              "version_minor": 0
            },
            "text/plain": [
              "Split strings:   0%|          | 0/1 [00:00<?, ?it/s]"
            ]
          },
          "metadata": {},
          "output_type": "display_data"
        },
        {
          "name": "stdout",
          "output_type": "stream",
          "text": [
            "⏳ Query feldolgozás: 46/98"
          ]
        },
        {
          "data": {
            "application/vnd.jupyter.widget-view+json": {
              "model_id": "02c5c70618954c6cbf37da60304dae20",
              "version_major": 2,
              "version_minor": 0
            },
            "text/plain": [
              "Split strings:   0%|          | 0/1 [00:00<?, ?it/s]"
            ]
          },
          "metadata": {},
          "output_type": "display_data"
        },
        {
          "name": "stdout",
          "output_type": "stream",
          "text": [
            "⏳ Query feldolgozás: 47/98"
          ]
        },
        {
          "data": {
            "application/vnd.jupyter.widget-view+json": {
              "model_id": "21d660c3fbd54b2c92f31fc6bed6841c",
              "version_major": 2,
              "version_minor": 0
            },
            "text/plain": [
              "Split strings:   0%|          | 0/1 [00:00<?, ?it/s]"
            ]
          },
          "metadata": {},
          "output_type": "display_data"
        },
        {
          "name": "stdout",
          "output_type": "stream",
          "text": [
            "⏳ Query feldolgozás: 48/98"
          ]
        },
        {
          "data": {
            "application/vnd.jupyter.widget-view+json": {
              "model_id": "5fb5661d6b424bb48f960fe71a038c31",
              "version_major": 2,
              "version_minor": 0
            },
            "text/plain": [
              "Split strings:   0%|          | 0/1 [00:00<?, ?it/s]"
            ]
          },
          "metadata": {},
          "output_type": "display_data"
        },
        {
          "name": "stdout",
          "output_type": "stream",
          "text": [
            "⏳ Query feldolgozás: 49/98"
          ]
        },
        {
          "data": {
            "application/vnd.jupyter.widget-view+json": {
              "model_id": "56610fb7da244d678547e6f7a8838f9f",
              "version_major": 2,
              "version_minor": 0
            },
            "text/plain": [
              "Split strings:   0%|          | 0/1 [00:00<?, ?it/s]"
            ]
          },
          "metadata": {},
          "output_type": "display_data"
        },
        {
          "name": "stdout",
          "output_type": "stream",
          "text": [
            "⏳ Query feldolgozás: 50/98"
          ]
        },
        {
          "data": {
            "application/vnd.jupyter.widget-view+json": {
              "model_id": "1319ccc9c6ca4aa98ff43cc0deb76049",
              "version_major": 2,
              "version_minor": 0
            },
            "text/plain": [
              "Split strings:   0%|          | 0/1 [00:00<?, ?it/s]"
            ]
          },
          "metadata": {},
          "output_type": "display_data"
        },
        {
          "name": "stdout",
          "output_type": "stream",
          "text": [
            "⏳ Query feldolgozás: 51/98"
          ]
        },
        {
          "data": {
            "application/vnd.jupyter.widget-view+json": {
              "model_id": "56460da1797b4add9fa716f69a4af228",
              "version_major": 2,
              "version_minor": 0
            },
            "text/plain": [
              "Split strings:   0%|          | 0/1 [00:00<?, ?it/s]"
            ]
          },
          "metadata": {},
          "output_type": "display_data"
        },
        {
          "name": "stdout",
          "output_type": "stream",
          "text": [
            "⏳ Query feldolgozás: 52/98"
          ]
        },
        {
          "data": {
            "application/vnd.jupyter.widget-view+json": {
              "model_id": "a505c0dc0ea845c9bd99522a3087d943",
              "version_major": 2,
              "version_minor": 0
            },
            "text/plain": [
              "Split strings:   0%|          | 0/1 [00:00<?, ?it/s]"
            ]
          },
          "metadata": {},
          "output_type": "display_data"
        },
        {
          "name": "stdout",
          "output_type": "stream",
          "text": [
            "⏳ Query feldolgozás: 53/98"
          ]
        },
        {
          "data": {
            "application/vnd.jupyter.widget-view+json": {
              "model_id": "10b662b1313a474187a8a2e42a34ac88",
              "version_major": 2,
              "version_minor": 0
            },
            "text/plain": [
              "Split strings:   0%|          | 0/1 [00:00<?, ?it/s]"
            ]
          },
          "metadata": {},
          "output_type": "display_data"
        },
        {
          "name": "stdout",
          "output_type": "stream",
          "text": [
            "⏳ Query feldolgozás: 54/98"
          ]
        },
        {
          "data": {
            "application/vnd.jupyter.widget-view+json": {
              "model_id": "e1bb2d3f67ae4c29a7194b9ffe149dbf",
              "version_major": 2,
              "version_minor": 0
            },
            "text/plain": [
              "Split strings:   0%|          | 0/1 [00:00<?, ?it/s]"
            ]
          },
          "metadata": {},
          "output_type": "display_data"
        },
        {
          "name": "stdout",
          "output_type": "stream",
          "text": [
            "⏳ Query feldolgozás: 55/98"
          ]
        },
        {
          "data": {
            "application/vnd.jupyter.widget-view+json": {
              "model_id": "3829730aa1c14b069438b20acc8f1d46",
              "version_major": 2,
              "version_minor": 0
            },
            "text/plain": [
              "Split strings:   0%|          | 0/1 [00:00<?, ?it/s]"
            ]
          },
          "metadata": {},
          "output_type": "display_data"
        },
        {
          "name": "stdout",
          "output_type": "stream",
          "text": [
            "⏳ Query feldolgozás: 56/98"
          ]
        },
        {
          "data": {
            "application/vnd.jupyter.widget-view+json": {
              "model_id": "cb3e8bae5deb43439d3a9ef22d598bed",
              "version_major": 2,
              "version_minor": 0
            },
            "text/plain": [
              "Split strings:   0%|          | 0/1 [00:00<?, ?it/s]"
            ]
          },
          "metadata": {},
          "output_type": "display_data"
        },
        {
          "name": "stdout",
          "output_type": "stream",
          "text": [
            "⏳ Query feldolgozás: 57/98"
          ]
        },
        {
          "data": {
            "application/vnd.jupyter.widget-view+json": {
              "model_id": "c0011d12228c472fa9e94a205d39fa35",
              "version_major": 2,
              "version_minor": 0
            },
            "text/plain": [
              "Split strings:   0%|          | 0/1 [00:00<?, ?it/s]"
            ]
          },
          "metadata": {},
          "output_type": "display_data"
        },
        {
          "name": "stdout",
          "output_type": "stream",
          "text": [
            "⏳ Query feldolgozás: 58/98"
          ]
        },
        {
          "data": {
            "application/vnd.jupyter.widget-view+json": {
              "model_id": "d40cbcc2bbff4b83899ad886aaf122dd",
              "version_major": 2,
              "version_minor": 0
            },
            "text/plain": [
              "Split strings:   0%|          | 0/1 [00:00<?, ?it/s]"
            ]
          },
          "metadata": {},
          "output_type": "display_data"
        },
        {
          "name": "stdout",
          "output_type": "stream",
          "text": [
            "⏳ Query feldolgozás: 59/98"
          ]
        },
        {
          "data": {
            "application/vnd.jupyter.widget-view+json": {
              "model_id": "113f758156664c198cc0578f4ddc4953",
              "version_major": 2,
              "version_minor": 0
            },
            "text/plain": [
              "Split strings:   0%|          | 0/1 [00:00<?, ?it/s]"
            ]
          },
          "metadata": {},
          "output_type": "display_data"
        },
        {
          "name": "stdout",
          "output_type": "stream",
          "text": [
            "⏳ Query feldolgozás: 60/98"
          ]
        },
        {
          "data": {
            "application/vnd.jupyter.widget-view+json": {
              "model_id": "104a885c4fd9466c870b373479b16444",
              "version_major": 2,
              "version_minor": 0
            },
            "text/plain": [
              "Split strings:   0%|          | 0/1 [00:00<?, ?it/s]"
            ]
          },
          "metadata": {},
          "output_type": "display_data"
        },
        {
          "name": "stdout",
          "output_type": "stream",
          "text": [
            "⏳ Query feldolgozás: 61/98"
          ]
        },
        {
          "data": {
            "application/vnd.jupyter.widget-view+json": {
              "model_id": "e49c94053cb54ff2a836bbab2aba9b23",
              "version_major": 2,
              "version_minor": 0
            },
            "text/plain": [
              "Split strings:   0%|          | 0/1 [00:00<?, ?it/s]"
            ]
          },
          "metadata": {},
          "output_type": "display_data"
        },
        {
          "name": "stdout",
          "output_type": "stream",
          "text": [
            "⏳ Query feldolgozás: 62/98"
          ]
        },
        {
          "data": {
            "application/vnd.jupyter.widget-view+json": {
              "model_id": "857884d8918b4c17a0c1c3a36110c6a8",
              "version_major": 2,
              "version_minor": 0
            },
            "text/plain": [
              "Split strings:   0%|          | 0/1 [00:00<?, ?it/s]"
            ]
          },
          "metadata": {},
          "output_type": "display_data"
        },
        {
          "name": "stdout",
          "output_type": "stream",
          "text": [
            "⏳ Query feldolgozás: 63/98"
          ]
        },
        {
          "data": {
            "application/vnd.jupyter.widget-view+json": {
              "model_id": "00066d356f894a8c943ba6b38caa685c",
              "version_major": 2,
              "version_minor": 0
            },
            "text/plain": [
              "Split strings:   0%|          | 0/1 [00:00<?, ?it/s]"
            ]
          },
          "metadata": {},
          "output_type": "display_data"
        },
        {
          "name": "stdout",
          "output_type": "stream",
          "text": [
            "⏳ Query feldolgozás: 64/98"
          ]
        },
        {
          "data": {
            "application/vnd.jupyter.widget-view+json": {
              "model_id": "49743c5db4c54f00ab6f6ac49dccdd18",
              "version_major": 2,
              "version_minor": 0
            },
            "text/plain": [
              "Split strings:   0%|          | 0/1 [00:00<?, ?it/s]"
            ]
          },
          "metadata": {},
          "output_type": "display_data"
        },
        {
          "name": "stdout",
          "output_type": "stream",
          "text": [
            "⏳ Query feldolgozás: 65/98"
          ]
        },
        {
          "data": {
            "application/vnd.jupyter.widget-view+json": {
              "model_id": "d2fde90a38964fec9e5529669731ec28",
              "version_major": 2,
              "version_minor": 0
            },
            "text/plain": [
              "Split strings:   0%|          | 0/1 [00:00<?, ?it/s]"
            ]
          },
          "metadata": {},
          "output_type": "display_data"
        },
        {
          "name": "stdout",
          "output_type": "stream",
          "text": [
            "⏳ Query feldolgozás: 66/98"
          ]
        },
        {
          "data": {
            "application/vnd.jupyter.widget-view+json": {
              "model_id": "2ce763d464434bfa8cbd0349fe8a1c95",
              "version_major": 2,
              "version_minor": 0
            },
            "text/plain": [
              "Split strings:   0%|          | 0/1 [00:00<?, ?it/s]"
            ]
          },
          "metadata": {},
          "output_type": "display_data"
        },
        {
          "name": "stdout",
          "output_type": "stream",
          "text": [
            "⏳ Query feldolgozás: 67/98"
          ]
        },
        {
          "data": {
            "application/vnd.jupyter.widget-view+json": {
              "model_id": "de17c420a62d4428b203495b46a78043",
              "version_major": 2,
              "version_minor": 0
            },
            "text/plain": [
              "Split strings:   0%|          | 0/1 [00:00<?, ?it/s]"
            ]
          },
          "metadata": {},
          "output_type": "display_data"
        },
        {
          "name": "stdout",
          "output_type": "stream",
          "text": [
            "⏳ Query feldolgozás: 68/98"
          ]
        },
        {
          "data": {
            "application/vnd.jupyter.widget-view+json": {
              "model_id": "e7dc263c34e54c0c8fb7fe3273ea15db",
              "version_major": 2,
              "version_minor": 0
            },
            "text/plain": [
              "Split strings:   0%|          | 0/1 [00:00<?, ?it/s]"
            ]
          },
          "metadata": {},
          "output_type": "display_data"
        },
        {
          "name": "stdout",
          "output_type": "stream",
          "text": [
            "⏳ Query feldolgozás: 69/98"
          ]
        },
        {
          "data": {
            "application/vnd.jupyter.widget-view+json": {
              "model_id": "d01572ab0b42470b81473d8d05610b11",
              "version_major": 2,
              "version_minor": 0
            },
            "text/plain": [
              "Split strings:   0%|          | 0/1 [00:00<?, ?it/s]"
            ]
          },
          "metadata": {},
          "output_type": "display_data"
        },
        {
          "name": "stdout",
          "output_type": "stream",
          "text": [
            "⏳ Query feldolgozás: 70/98"
          ]
        },
        {
          "data": {
            "application/vnd.jupyter.widget-view+json": {
              "model_id": "3bd0a0046ac640dfa989587762ee0b84",
              "version_major": 2,
              "version_minor": 0
            },
            "text/plain": [
              "Split strings:   0%|          | 0/1 [00:00<?, ?it/s]"
            ]
          },
          "metadata": {},
          "output_type": "display_data"
        },
        {
          "name": "stdout",
          "output_type": "stream",
          "text": [
            "⏳ Query feldolgozás: 71/98"
          ]
        },
        {
          "data": {
            "application/vnd.jupyter.widget-view+json": {
              "model_id": "f917fb1ce3d649e98227aff131c591fa",
              "version_major": 2,
              "version_minor": 0
            },
            "text/plain": [
              "Split strings:   0%|          | 0/1 [00:00<?, ?it/s]"
            ]
          },
          "metadata": {},
          "output_type": "display_data"
        },
        {
          "name": "stdout",
          "output_type": "stream",
          "text": [
            "⏳ Query feldolgozás: 72/98"
          ]
        },
        {
          "data": {
            "application/vnd.jupyter.widget-view+json": {
              "model_id": "cb1c04617442446aa28ee403a4636d73",
              "version_major": 2,
              "version_minor": 0
            },
            "text/plain": [
              "Split strings:   0%|          | 0/1 [00:00<?, ?it/s]"
            ]
          },
          "metadata": {},
          "output_type": "display_data"
        },
        {
          "name": "stdout",
          "output_type": "stream",
          "text": [
            "⏳ Query feldolgozás: 73/98"
          ]
        },
        {
          "data": {
            "application/vnd.jupyter.widget-view+json": {
              "model_id": "2bc15ae365fa4f83a2e8eb5f47f511d9",
              "version_major": 2,
              "version_minor": 0
            },
            "text/plain": [
              "Split strings:   0%|          | 0/1 [00:00<?, ?it/s]"
            ]
          },
          "metadata": {},
          "output_type": "display_data"
        },
        {
          "name": "stdout",
          "output_type": "stream",
          "text": [
            "⏳ Query feldolgozás: 74/98"
          ]
        },
        {
          "data": {
            "application/vnd.jupyter.widget-view+json": {
              "model_id": "190f68dcfb1f437bae19267c93f76af1",
              "version_major": 2,
              "version_minor": 0
            },
            "text/plain": [
              "Split strings:   0%|          | 0/1 [00:00<?, ?it/s]"
            ]
          },
          "metadata": {},
          "output_type": "display_data"
        },
        {
          "name": "stdout",
          "output_type": "stream",
          "text": [
            "⏳ Query feldolgozás: 75/98"
          ]
        },
        {
          "data": {
            "application/vnd.jupyter.widget-view+json": {
              "model_id": "d89d9151922547fc95168fdb3e834afe",
              "version_major": 2,
              "version_minor": 0
            },
            "text/plain": [
              "Split strings:   0%|          | 0/1 [00:00<?, ?it/s]"
            ]
          },
          "metadata": {},
          "output_type": "display_data"
        },
        {
          "name": "stdout",
          "output_type": "stream",
          "text": [
            "⏳ Query feldolgozás: 76/98"
          ]
        },
        {
          "data": {
            "application/vnd.jupyter.widget-view+json": {
              "model_id": "b8357bd625b645f994ddf77d141569c1",
              "version_major": 2,
              "version_minor": 0
            },
            "text/plain": [
              "Split strings:   0%|          | 0/1 [00:00<?, ?it/s]"
            ]
          },
          "metadata": {},
          "output_type": "display_data"
        },
        {
          "name": "stdout",
          "output_type": "stream",
          "text": [
            "⏳ Query feldolgozás: 77/98"
          ]
        },
        {
          "data": {
            "application/vnd.jupyter.widget-view+json": {
              "model_id": "b7987832760d48a78ed35ddd637f37c5",
              "version_major": 2,
              "version_minor": 0
            },
            "text/plain": [
              "Split strings:   0%|          | 0/1 [00:00<?, ?it/s]"
            ]
          },
          "metadata": {},
          "output_type": "display_data"
        },
        {
          "name": "stdout",
          "output_type": "stream",
          "text": [
            "⏳ Query feldolgozás: 78/98"
          ]
        },
        {
          "data": {
            "application/vnd.jupyter.widget-view+json": {
              "model_id": "8dcf35d17c5f4c1c9c712c7def2c2f3a",
              "version_major": 2,
              "version_minor": 0
            },
            "text/plain": [
              "Split strings:   0%|          | 0/1 [00:00<?, ?it/s]"
            ]
          },
          "metadata": {},
          "output_type": "display_data"
        },
        {
          "name": "stdout",
          "output_type": "stream",
          "text": [
            "⏳ Query feldolgozás: 79/98"
          ]
        },
        {
          "data": {
            "application/vnd.jupyter.widget-view+json": {
              "model_id": "22c334c18c6e4c5fad2b8425afcf87a0",
              "version_major": 2,
              "version_minor": 0
            },
            "text/plain": [
              "Split strings:   0%|          | 0/1 [00:00<?, ?it/s]"
            ]
          },
          "metadata": {},
          "output_type": "display_data"
        },
        {
          "name": "stdout",
          "output_type": "stream",
          "text": [
            "⏳ Query feldolgozás: 80/98"
          ]
        },
        {
          "data": {
            "application/vnd.jupyter.widget-view+json": {
              "model_id": "bc84d81e80164e2ca64342feee3dc0b6",
              "version_major": 2,
              "version_minor": 0
            },
            "text/plain": [
              "Split strings:   0%|          | 0/1 [00:00<?, ?it/s]"
            ]
          },
          "metadata": {},
          "output_type": "display_data"
        },
        {
          "name": "stdout",
          "output_type": "stream",
          "text": [
            "⏳ Query feldolgozás: 81/98"
          ]
        },
        {
          "data": {
            "application/vnd.jupyter.widget-view+json": {
              "model_id": "95a662db15c44fbcb7512e3becf91e10",
              "version_major": 2,
              "version_minor": 0
            },
            "text/plain": [
              "Split strings:   0%|          | 0/1 [00:00<?, ?it/s]"
            ]
          },
          "metadata": {},
          "output_type": "display_data"
        },
        {
          "name": "stdout",
          "output_type": "stream",
          "text": [
            "⏳ Query feldolgozás: 82/98"
          ]
        },
        {
          "data": {
            "application/vnd.jupyter.widget-view+json": {
              "model_id": "1120e5cbc52c4c58baee05b683cb06dd",
              "version_major": 2,
              "version_minor": 0
            },
            "text/plain": [
              "Split strings:   0%|          | 0/1 [00:00<?, ?it/s]"
            ]
          },
          "metadata": {},
          "output_type": "display_data"
        },
        {
          "name": "stdout",
          "output_type": "stream",
          "text": [
            "⏳ Query feldolgozás: 83/98"
          ]
        },
        {
          "data": {
            "application/vnd.jupyter.widget-view+json": {
              "model_id": "1e851c8d1edb4f97bca5d0631ed45af8",
              "version_major": 2,
              "version_minor": 0
            },
            "text/plain": [
              "Split strings:   0%|          | 0/1 [00:00<?, ?it/s]"
            ]
          },
          "metadata": {},
          "output_type": "display_data"
        },
        {
          "name": "stdout",
          "output_type": "stream",
          "text": [
            "⏳ Query feldolgozás: 84/98"
          ]
        },
        {
          "data": {
            "application/vnd.jupyter.widget-view+json": {
              "model_id": "d9ad46c1a7854cd6bf861f1e98be272d",
              "version_major": 2,
              "version_minor": 0
            },
            "text/plain": [
              "Split strings:   0%|          | 0/1 [00:00<?, ?it/s]"
            ]
          },
          "metadata": {},
          "output_type": "display_data"
        },
        {
          "name": "stdout",
          "output_type": "stream",
          "text": [
            "⏳ Query feldolgozás: 85/98"
          ]
        },
        {
          "data": {
            "application/vnd.jupyter.widget-view+json": {
              "model_id": "80c04fbc633e497f8dd7ebef768ad0b5",
              "version_major": 2,
              "version_minor": 0
            },
            "text/plain": [
              "Split strings:   0%|          | 0/1 [00:00<?, ?it/s]"
            ]
          },
          "metadata": {},
          "output_type": "display_data"
        },
        {
          "name": "stdout",
          "output_type": "stream",
          "text": [
            "⏳ Query feldolgozás: 86/98"
          ]
        },
        {
          "data": {
            "application/vnd.jupyter.widget-view+json": {
              "model_id": "ecd8e546e2e04efb8ba5142f85f554dd",
              "version_major": 2,
              "version_minor": 0
            },
            "text/plain": [
              "Split strings:   0%|          | 0/1 [00:00<?, ?it/s]"
            ]
          },
          "metadata": {},
          "output_type": "display_data"
        },
        {
          "name": "stdout",
          "output_type": "stream",
          "text": [
            "⏳ Query feldolgozás: 87/98"
          ]
        },
        {
          "data": {
            "application/vnd.jupyter.widget-view+json": {
              "model_id": "b62bbae360bb41f89c91a3cb6884c30a",
              "version_major": 2,
              "version_minor": 0
            },
            "text/plain": [
              "Split strings:   0%|          | 0/1 [00:00<?, ?it/s]"
            ]
          },
          "metadata": {},
          "output_type": "display_data"
        },
        {
          "name": "stdout",
          "output_type": "stream",
          "text": [
            "⏳ Query feldolgozás: 88/98"
          ]
        },
        {
          "data": {
            "application/vnd.jupyter.widget-view+json": {
              "model_id": "416c314d53724eb69df0adfe719f1b98",
              "version_major": 2,
              "version_minor": 0
            },
            "text/plain": [
              "Split strings:   0%|          | 0/1 [00:00<?, ?it/s]"
            ]
          },
          "metadata": {},
          "output_type": "display_data"
        },
        {
          "name": "stdout",
          "output_type": "stream",
          "text": [
            "⏳ Query feldolgozás: 89/98"
          ]
        },
        {
          "data": {
            "application/vnd.jupyter.widget-view+json": {
              "model_id": "7ae5120cfd824fb98ff5c23d6577f2a8",
              "version_major": 2,
              "version_minor": 0
            },
            "text/plain": [
              "Split strings:   0%|          | 0/1 [00:00<?, ?it/s]"
            ]
          },
          "metadata": {},
          "output_type": "display_data"
        },
        {
          "name": "stdout",
          "output_type": "stream",
          "text": [
            "⏳ Query feldolgozás: 90/98"
          ]
        },
        {
          "data": {
            "application/vnd.jupyter.widget-view+json": {
              "model_id": "129042dbdd994dce8c8330f36087a66c",
              "version_major": 2,
              "version_minor": 0
            },
            "text/plain": [
              "Split strings:   0%|          | 0/1 [00:00<?, ?it/s]"
            ]
          },
          "metadata": {},
          "output_type": "display_data"
        },
        {
          "name": "stdout",
          "output_type": "stream",
          "text": [
            "⏳ Query feldolgozás: 91/98"
          ]
        },
        {
          "data": {
            "application/vnd.jupyter.widget-view+json": {
              "model_id": "b014a535b3234037abb05be48b8eb6a6",
              "version_major": 2,
              "version_minor": 0
            },
            "text/plain": [
              "Split strings:   0%|          | 0/1 [00:00<?, ?it/s]"
            ]
          },
          "metadata": {},
          "output_type": "display_data"
        },
        {
          "name": "stdout",
          "output_type": "stream",
          "text": [
            "⏳ Query feldolgozás: 92/98"
          ]
        },
        {
          "data": {
            "application/vnd.jupyter.widget-view+json": {
              "model_id": "f666f8a52f0449b296ebd3676c758bb1",
              "version_major": 2,
              "version_minor": 0
            },
            "text/plain": [
              "Split strings:   0%|          | 0/1 [00:00<?, ?it/s]"
            ]
          },
          "metadata": {},
          "output_type": "display_data"
        },
        {
          "name": "stdout",
          "output_type": "stream",
          "text": [
            "⏳ Query feldolgozás: 93/98"
          ]
        },
        {
          "data": {
            "application/vnd.jupyter.widget-view+json": {
              "model_id": "dc9feef051174f04923ac85d777e5f6c",
              "version_major": 2,
              "version_minor": 0
            },
            "text/plain": [
              "Split strings:   0%|          | 0/1 [00:00<?, ?it/s]"
            ]
          },
          "metadata": {},
          "output_type": "display_data"
        },
        {
          "name": "stdout",
          "output_type": "stream",
          "text": [
            "⏳ Query feldolgozás: 94/98"
          ]
        },
        {
          "data": {
            "application/vnd.jupyter.widget-view+json": {
              "model_id": "fe54b2aac5894dde8deddcaa0539c7e0",
              "version_major": 2,
              "version_minor": 0
            },
            "text/plain": [
              "Split strings:   0%|          | 0/1 [00:00<?, ?it/s]"
            ]
          },
          "metadata": {},
          "output_type": "display_data"
        },
        {
          "name": "stdout",
          "output_type": "stream",
          "text": [
            "⏳ Query feldolgozás: 95/98"
          ]
        },
        {
          "data": {
            "application/vnd.jupyter.widget-view+json": {
              "model_id": "71e8f9c37563468b900d2e01fb421705",
              "version_major": 2,
              "version_minor": 0
            },
            "text/plain": [
              "Split strings:   0%|          | 0/1 [00:00<?, ?it/s]"
            ]
          },
          "metadata": {},
          "output_type": "display_data"
        },
        {
          "name": "stdout",
          "output_type": "stream",
          "text": [
            "⏳ Query feldolgozás: 96/98"
          ]
        },
        {
          "data": {
            "application/vnd.jupyter.widget-view+json": {
              "model_id": "a185909668b84fdba49488b83b0c3396",
              "version_major": 2,
              "version_minor": 0
            },
            "text/plain": [
              "Split strings:   0%|          | 0/1 [00:00<?, ?it/s]"
            ]
          },
          "metadata": {},
          "output_type": "display_data"
        },
        {
          "name": "stdout",
          "output_type": "stream",
          "text": [
            "⏳ Query feldolgozás: 97/98"
          ]
        },
        {
          "data": {
            "application/vnd.jupyter.widget-view+json": {
              "model_id": "a193bba456074be09371c18c83c56805",
              "version_major": 2,
              "version_minor": 0
            },
            "text/plain": [
              "Split strings:   0%|          | 0/1 [00:00<?, ?it/s]"
            ]
          },
          "metadata": {},
          "output_type": "display_data"
        },
        {
          "name": "stdout",
          "output_type": "stream",
          "text": [
            "⏳ Query feldolgozás: 98/98"
          ]
        },
        {
          "data": {
            "application/vnd.jupyter.widget-view+json": {
              "model_id": "5f7b7f3ec91c4fd881e3b63a4028abe9",
              "version_major": 2,
              "version_minor": 0
            },
            "text/plain": [
              "Split strings:   0%|          | 0/1 [00:00<?, ?it/s]"
            ]
          },
          "metadata": {},
          "output_type": "display_data"
        },
        {
          "name": "stdout",
          "output_type": "stream",
          "text": [
            "\n",
            "✅ Baseline eredmények generálva\n"
          ]
        }
      ],
      "source": [
        "def generate_baseline_results(\n",
        "    retriever: HybridRetriever,\n",
        "    queries: List[str],\n",
        "    top_k: int = 10,\n",
        "    fusion_method: str = \"rrf\"\n",
        ") -> Dict[str, List[str]]:\n",
        "    \"\"\"\n",
        "    Baseline találati listák generálása minden query-re.\n",
        "    \n",
        "    Returns:\n",
        "        Dict[query_id, List[doc_id]] rangsorrolt találati listák\n",
        "    \"\"\"\n",
        "    results = {}\n",
        "    \n",
        "    for i, query in enumerate(queries, 1):\n",
        "        print(f\"\\r⏳ Query feldolgozás: {i}/{len(queries)}\", end=\"\")\n",
        "        try:\n",
        "            doc_ids = retriever.retrieve(\n",
        "                query=query,\n",
        "                top_k=top_k,\n",
        "                fusion_method=fusion_method\n",
        "            )\n",
        "            results[query] = doc_ids\n",
        "        except Exception as e:\n",
        "            print(f\"\\n⚠️  Hiba query feldolgozáskor: {query[:50]}... - {e}\")\n",
        "            results[query] = []\n",
        "    \n",
        "    print(\"\\n✅ Baseline eredmények generálva\")\n",
        "    return results\n",
        "\n",
        "# Generálás\n",
        "if qrels:\n",
        "    queries = list(qrels.keys())\n",
        "    print(f\"\\n🔍 {len(queries)} query feldolgozása...\")\n",
        "    \n",
        "    baseline_results = generate_baseline_results(\n",
        "        retriever=retriever,\n",
        "        queries=queries,\n",
        "        top_k=config.TOP_K_RERANKED,\n",
        "        fusion_method=\"rrf\"\n",
        "    )\n",
        "else:\n",
        "    baseline_results = {}\n",
        "    print(\"⚠️  Nincs elérhető query\")\n"
      ]
    },
    {
      "cell_type": "markdown",
      "metadata": {},
      "source": [
        "## 4. Értékelési Metrikák Implementációja\n"
      ]
    },
    {
      "cell_type": "code",
      "execution_count": 5,
      "metadata": {},
      "outputs": [
        {
          "name": "stdout",
          "output_type": "stream",
          "text": [
            "✅ Metrika függvények definiálva\n"
          ]
        }
      ],
      "source": [
        "def dcg_at_k(relevances: List[int], k: int) -> float:\n",
        "    \"\"\"Discounted Cumulative Gain@K számítása.\"\"\"\n",
        "    relevances = relevances[:k]\n",
        "    if not relevances:\n",
        "        return 0.0\n",
        "    return float(np.sum([rel / np.log2(i + 2) for i, rel in enumerate(relevances)]))\n",
        "\n",
        "def ndcg_at_k(relevances: List[int], k: int) -> float:\n",
        "    \"\"\"Normalized Discounted Cumulative Gain@K számítása.\"\"\"\n",
        "    dcg = dcg_at_k(relevances, k)\n",
        "    ideal_relevances = sorted(relevances, reverse=True)\n",
        "    idcg = dcg_at_k(ideal_relevances, k)\n",
        "    if idcg == 0.0:\n",
        "        return 0.0\n",
        "    return dcg / idcg\n",
        "\n",
        "def precision_at_k(relevances: List[int], k: int) -> float:\n",
        "    \"\"\"Precision@K számítása.\"\"\"\n",
        "    relevances = relevances[:k]\n",
        "    if not relevances:\n",
        "        return 0.0\n",
        "    return float(np.mean([1 if rel > 0 else 0 for rel in relevances]))\n",
        "\n",
        "def recall_at_k(relevances: List[int], total_relevant: int, k: int) -> float:\n",
        "    \"\"\"Recall@K számítása.\"\"\"\n",
        "    if total_relevant == 0:\n",
        "        return 0.0\n",
        "    relevances = relevances[:k]\n",
        "    relevant_retrieved = sum(1 for rel in relevances if rel > 0)\n",
        "    return float(relevant_retrieved / total_relevant)\n",
        "\n",
        "def average_precision(relevances: List[int]) -> float:\n",
        "    \"\"\"Average Precision számítása egy query-re.\"\"\"\n",
        "    if not relevances:\n",
        "        return 0.0\n",
        "    \n",
        "    total_relevant = sum(1 for rel in relevances if rel > 0)\n",
        "    if total_relevant == 0:\n",
        "        return 0.0\n",
        "    \n",
        "    precisions = []\n",
        "    relevant_count = 0\n",
        "    \n",
        "    for i, rel in enumerate(relevances, 1):\n",
        "        if rel > 0:\n",
        "            relevant_count += 1\n",
        "            precisions.append(relevant_count / i)\n",
        "    \n",
        "    return float(np.mean(precisions)) if precisions else 0.0\n",
        "\n",
        "def reciprocal_rank(relevances: List[int]) -> float:\n",
        "    \"\"\"Reciprocal Rank számítása (első releváns dokumentum pozíciója).\"\"\"\n",
        "    for i, rel in enumerate(relevances, 1):\n",
        "        if rel > 0:\n",
        "            return 1.0 / i\n",
        "    return 0.0\n",
        "\n",
        "print(\"✅ Metrika függvények definiálva\")\n"
      ]
    },
    {
      "cell_type": "markdown",
      "metadata": {},
      "source": [
        "## 5. Baseline Teljesítmény Kiértékelése\n"
      ]
    },
    {
      "cell_type": "markdown",
      "metadata": {},
      "source": []
    },
    {
      "cell_type": "code",
      "execution_count": 6,
      "metadata": {},
      "outputs": [
        {
          "name": "stdout",
          "output_type": "stream",
          "text": [
            "\n",
            "📊 Baseline kiértékelése...\n",
            "\n",
            "✅ Kiértékelés kész\n",
            "   98 query értékelve\n"
          ]
        }
      ],
      "source": [
        "def evaluate_results(\n",
        "    results: Dict[str, List[str]],\n",
        "    qrels: Dict[str, Dict[str, int]],\n",
        "    k_values: List[int] = [5, 10, 20]\n",
        ") -> Tuple[pd.DataFrame, Dict[str, float]]:\n",
        "    \"\"\"\n",
        "    Találati listák kiértékelése qrels alapján.\n",
        "    \n",
        "    Returns:\n",
        "        - Query-szintű metrikák DataFrame\n",
        "        - Aggregált metrikák Dictionary\n",
        "    \"\"\"\n",
        "    query_metrics = []\n",
        "    \n",
        "    for query_id, retrieved_docs in results.items():\n",
        "        if query_id not in qrels:\n",
        "            continue\n",
        "        \n",
        "        query_qrels = qrels[query_id]\n",
        "        total_relevant = sum(1 for rel in query_qrels.values() if rel > 0)\n",
        "        \n",
        "        # Relevancia értékek a visszaadott sorrendben\n",
        "        relevances = [query_qrels.get(doc_id, 0) for doc_id in retrieved_docs]\n",
        "        \n",
        "        # Metrikák számítása\n",
        "        metrics = {\n",
        "            \"query_id\": query_id,\n",
        "            \"total_relevant\": total_relevant,\n",
        "            \"retrieved\": len(retrieved_docs),\n",
        "        }\n",
        "        \n",
        "        for k in k_values:\n",
        "            metrics[f\"ndcg@{k}\"] = ndcg_at_k(relevances, k)\n",
        "            metrics[f\"precision@{k}\"] = precision_at_k(relevances, k)\n",
        "            metrics[f\"recall@{k}\"] = recall_at_k(relevances, total_relevant, k)\n",
        "        \n",
        "        metrics[\"map\"] = average_precision(relevances)\n",
        "        metrics[\"mrr\"] = reciprocal_rank(relevances)\n",
        "        \n",
        "        query_metrics.append(metrics)\n",
        "    \n",
        "    # DataFrame készítése\n",
        "    df = pd.DataFrame(query_metrics)\n",
        "    \n",
        "    # Aggregált metrikák\n",
        "    aggregated = {}\n",
        "    for col in df.columns:\n",
        "        if col not in [\"query_id\", \"total_relevant\", \"retrieved\"]:\n",
        "            aggregated[col] = float(df[col].mean())\n",
        "    \n",
        "    aggregated[\"num_queries\"] = len(df)\n",
        "    aggregated[\"total_relevant_docs\"] = int(df[\"total_relevant\"].sum())\n",
        "    \n",
        "    return df, aggregated\n",
        "\n",
        "# Kiértékelés\n",
        "if baseline_results and qrels:\n",
        "    print(\"\\n📊 Baseline kiértékelése...\")\n",
        "    query_metrics_df, aggregated_metrics = evaluate_results(\n",
        "        results=baseline_results,\n",
        "        qrels=qrels,\n",
        "        k_values=[5, 10, 20]\n",
        "    )\n",
        "    \n",
        "    print(\"\\n✅ Kiértékelés kész\")\n",
        "    print(f\"   {aggregated_metrics['num_queries']} query értékelve\")\n",
        "else:\n",
        "    print(\"⚠️  Nincs adat a kiértékeléshez\")\n",
        "    query_metrics_df = pd.DataFrame()\n",
        "    aggregated_metrics = {}\n"
      ]
    },
    {
      "cell_type": "markdown",
      "metadata": {},
      "source": [
        "## 6. Aggregált Eredmények Megjelenítése\n"
      ]
    },
    {
      "cell_type": "code",
      "execution_count": 7,
      "metadata": {},
      "outputs": [
        {
          "name": "stdout",
          "output_type": "stream",
          "text": [
            "\n",
            "============================================================\n",
            "🎯 BASELINE TELJESÍTMÉNY (Aggregált Metrikák)\n",
            "============================================================\n",
            "\n",
            "📈 Általános statisztikák:\n",
            "  • Értékelt query-k száma: 98\n",
            "  • Összes releváns dokumentum: 0\n",
            "\n",
            "🎯 Főbb metrikák:\n",
            "  • nDCG@10:     0.0000\n",
            "  • MAP:         0.0000\n",
            "  • MRR:         0.0000\n",
            "\n",
            "📊 nDCG különböző K értékeken:\n",
            "  • nDCG@5:  0.0000\n",
            "  • nDCG@10:  0.0000\n",
            "  • nDCG@20:  0.0000\n",
            "\n",
            "🎯 Precision különböző K értékeken:\n",
            "  • P@5:     0.0000\n",
            "  • P@10:     0.0000\n",
            "  • P@20:     0.0000\n",
            "\n",
            "📈 Recall különböző K értékeken:\n",
            "  • R@5:     0.0000\n",
            "  • R@10:     0.0000\n",
            "  • R@20:     0.0000\n",
            "\n",
            "============================================================\n"
          ]
        }
      ],
      "source": [
        "if aggregated_metrics:\n",
        "    print(\"\\n\" + \"=\"*60)\n",
        "    print(\"🎯 BASELINE TELJESÍTMÉNY (Aggregált Metrikák)\")\n",
        "    print(\"=\"*60)\n",
        "    \n",
        "    print(f\"\\n📈 Általános statisztikák:\")\n",
        "    print(f\"  • Értékelt query-k száma: {aggregated_metrics['num_queries']}\")\n",
        "    print(f\"  • Összes releváns dokumentum: {aggregated_metrics['total_relevant_docs']}\")\n",
        "    \n",
        "    print(f\"\\n🎯 Főbb metrikák:\")\n",
        "    print(f\"  • nDCG@10:     {aggregated_metrics.get('ndcg@10', 0.0):.4f}\")\n",
        "    print(f\"  • MAP:         {aggregated_metrics.get('map', 0.0):.4f}\")\n",
        "    print(f\"  • MRR:         {aggregated_metrics.get('mrr', 0.0):.4f}\")\n",
        "    \n",
        "    print(f\"\\n📊 nDCG különböző K értékeken:\")\n",
        "    for k in [5, 10, 20]:\n",
        "        key = f\"ndcg@{k}\"\n",
        "        if key in aggregated_metrics:\n",
        "            print(f\"  • nDCG@{k}:  {aggregated_metrics[key]:.4f}\")\n",
        "    \n",
        "    print(f\"\\n🎯 Precision különböző K értékeken:\")\n",
        "    for k in [5, 10, 20]:\n",
        "        key = f\"precision@{k}\"\n",
        "        if key in aggregated_metrics:\n",
        "            print(f\"  • P@{k}:     {aggregated_metrics[key]:.4f}\")\n",
        "    \n",
        "    print(f\"\\n📈 Recall különböző K értékeken:\")\n",
        "    for k in [5, 10, 20]:\n",
        "        key = f\"recall@{k}\"\n",
        "        if key in aggregated_metrics:\n",
        "            print(f\"  • R@{k}:     {aggregated_metrics[key]:.4f}\")\n",
        "    \n",
        "    print(\"\\n\" + \"=\"*60)\n"
      ]
    },
    {
      "cell_type": "markdown",
      "metadata": {},
      "source": [
        "## 7. Query-szintű Eredmények\n"
      ]
    },
    {
      "cell_type": "code",
      "execution_count": 8,
      "metadata": {},
      "outputs": [
        {
          "name": "stdout",
          "output_type": "stream",
          "text": [
            "\n",
            "📋 Top 10 legjobb teljesítményű query (nDCG@10 alapján):\n"
          ]
        },
        {
          "data": {
            "text/html": [
              "<div>\n",
              "<style scoped>\n",
              "    .dataframe tbody tr th:only-of-type {\n",
              "        vertical-align: middle;\n",
              "    }\n",
              "\n",
              "    .dataframe tbody tr th {\n",
              "        vertical-align: top;\n",
              "    }\n",
              "\n",
              "    .dataframe thead th {\n",
              "        text-align: right;\n",
              "    }\n",
              "</style>\n",
              "<table border=\"1\" class=\"dataframe\">\n",
              "  <thead>\n",
              "    <tr style=\"text-align: right;\">\n",
              "      <th></th>\n",
              "      <th>query_id</th>\n",
              "      <th>ndcg@10</th>\n",
              "      <th>map</th>\n",
              "      <th>mrr</th>\n",
              "      <th>precision@10</th>\n",
              "      <th>recall@10</th>\n",
              "    </tr>\n",
              "  </thead>\n",
              "  <tbody>\n",
              "    <tr>\n",
              "      <th>0</th>\n",
              "      <td>adásvételi szerződés módosítása</td>\n",
              "      <td>0.0</td>\n",
              "      <td>0.0</td>\n",
              "      <td>0.0</td>\n",
              "      <td>0.0</td>\n",
              "      <td>0.0</td>\n",
              "    </tr>\n",
              "    <tr>\n",
              "      <th>1</th>\n",
              "      <td>adásvételi szerződés érvénytelensége</td>\n",
              "      <td>0.0</td>\n",
              "      <td>0.0</td>\n",
              "      <td>0.0</td>\n",
              "      <td>0.0</td>\n",
              "      <td>0.0</td>\n",
              "    </tr>\n",
              "    <tr>\n",
              "      <th>2</th>\n",
              "      <td>adóhatósági végrehajtás</td>\n",
              "      <td>0.0</td>\n",
              "      <td>0.0</td>\n",
              "      <td>0.0</td>\n",
              "      <td>0.0</td>\n",
              "      <td>0.0</td>\n",
              "    </tr>\n",
              "    <tr>\n",
              "      <th>3</th>\n",
              "      <td>adóköteles tevékenység</td>\n",
              "      <td>0.0</td>\n",
              "      <td>0.0</td>\n",
              "      <td>0.0</td>\n",
              "      <td>0.0</td>\n",
              "      <td>0.0</td>\n",
              "    </tr>\n",
              "    <tr>\n",
              "      <th>4</th>\n",
              "      <td>adótartozás behajtás</td>\n",
              "      <td>0.0</td>\n",
              "      <td>0.0</td>\n",
              "      <td>0.0</td>\n",
              "      <td>0.0</td>\n",
              "      <td>0.0</td>\n",
              "    </tr>\n",
              "    <tr>\n",
              "      <th>5</th>\n",
              "      <td>albérlet engedélyezése</td>\n",
              "      <td>0.0</td>\n",
              "      <td>0.0</td>\n",
              "      <td>0.0</td>\n",
              "      <td>0.0</td>\n",
              "      <td>0.0</td>\n",
              "    </tr>\n",
              "    <tr>\n",
              "      <th>6</th>\n",
              "      <td>becsületsértés</td>\n",
              "      <td>0.0</td>\n",
              "      <td>0.0</td>\n",
              "      <td>0.0</td>\n",
              "      <td>0.0</td>\n",
              "      <td>0.0</td>\n",
              "    </tr>\n",
              "    <tr>\n",
              "      <th>7</th>\n",
              "      <td>birtokvédelem</td>\n",
              "      <td>0.0</td>\n",
              "      <td>0.0</td>\n",
              "      <td>0.0</td>\n",
              "      <td>0.0</td>\n",
              "      <td>0.0</td>\n",
              "    </tr>\n",
              "    <tr>\n",
              "      <th>8</th>\n",
              "      <td>biztosítási csalás</td>\n",
              "      <td>0.0</td>\n",
              "      <td>0.0</td>\n",
              "      <td>0.0</td>\n",
              "      <td>0.0</td>\n",
              "      <td>0.0</td>\n",
              "    </tr>\n",
              "    <tr>\n",
              "      <th>9</th>\n",
              "      <td>biztosítási szerződés</td>\n",
              "      <td>0.0</td>\n",
              "      <td>0.0</td>\n",
              "      <td>0.0</td>\n",
              "      <td>0.0</td>\n",
              "      <td>0.0</td>\n",
              "    </tr>\n",
              "  </tbody>\n",
              "</table>\n",
              "</div>"
            ],
            "text/plain": [
              "                               query_id  ndcg@10  map  mrr  precision@10  \\\n",
              "0       adásvételi szerződés módosítása      0.0  0.0  0.0           0.0   \n",
              "1  adásvételi szerződés érvénytelensége      0.0  0.0  0.0           0.0   \n",
              "2               adóhatósági végrehajtás      0.0  0.0  0.0           0.0   \n",
              "3                adóköteles tevékenység      0.0  0.0  0.0           0.0   \n",
              "4                  adótartozás behajtás      0.0  0.0  0.0           0.0   \n",
              "5                albérlet engedélyezése      0.0  0.0  0.0           0.0   \n",
              "6                        becsületsértés      0.0  0.0  0.0           0.0   \n",
              "7                         birtokvédelem      0.0  0.0  0.0           0.0   \n",
              "8                    biztosítási csalás      0.0  0.0  0.0           0.0   \n",
              "9                 biztosítási szerződés      0.0  0.0  0.0           0.0   \n",
              "\n",
              "   recall@10  \n",
              "0        0.0  \n",
              "1        0.0  \n",
              "2        0.0  \n",
              "3        0.0  \n",
              "4        0.0  \n",
              "5        0.0  \n",
              "6        0.0  \n",
              "7        0.0  \n",
              "8        0.0  \n",
              "9        0.0  "
            ]
          },
          "metadata": {},
          "output_type": "display_data"
        },
        {
          "name": "stdout",
          "output_type": "stream",
          "text": [
            "\n",
            "📋 Top 10 leggyengébb teljesítményű query (nDCG@10 alapján):\n"
          ]
        },
        {
          "data": {
            "text/html": [
              "<div>\n",
              "<style scoped>\n",
              "    .dataframe tbody tr th:only-of-type {\n",
              "        vertical-align: middle;\n",
              "    }\n",
              "\n",
              "    .dataframe tbody tr th {\n",
              "        vertical-align: top;\n",
              "    }\n",
              "\n",
              "    .dataframe thead th {\n",
              "        text-align: right;\n",
              "    }\n",
              "</style>\n",
              "<table border=\"1\" class=\"dataframe\">\n",
              "  <thead>\n",
              "    <tr style=\"text-align: right;\">\n",
              "      <th></th>\n",
              "      <th>query_id</th>\n",
              "      <th>ndcg@10</th>\n",
              "      <th>map</th>\n",
              "      <th>mrr</th>\n",
              "      <th>precision@10</th>\n",
              "      <th>recall@10</th>\n",
              "    </tr>\n",
              "  </thead>\n",
              "  <tbody>\n",
              "    <tr>\n",
              "      <th>0</th>\n",
              "      <td>adásvételi szerződés módosítása</td>\n",
              "      <td>0.0</td>\n",
              "      <td>0.0</td>\n",
              "      <td>0.0</td>\n",
              "      <td>0.0</td>\n",
              "      <td>0.0</td>\n",
              "    </tr>\n",
              "    <tr>\n",
              "      <th>1</th>\n",
              "      <td>adásvételi szerződés érvénytelensége</td>\n",
              "      <td>0.0</td>\n",
              "      <td>0.0</td>\n",
              "      <td>0.0</td>\n",
              "      <td>0.0</td>\n",
              "      <td>0.0</td>\n",
              "    </tr>\n",
              "    <tr>\n",
              "      <th>2</th>\n",
              "      <td>adóhatósági végrehajtás</td>\n",
              "      <td>0.0</td>\n",
              "      <td>0.0</td>\n",
              "      <td>0.0</td>\n",
              "      <td>0.0</td>\n",
              "      <td>0.0</td>\n",
              "    </tr>\n",
              "    <tr>\n",
              "      <th>3</th>\n",
              "      <td>adóköteles tevékenység</td>\n",
              "      <td>0.0</td>\n",
              "      <td>0.0</td>\n",
              "      <td>0.0</td>\n",
              "      <td>0.0</td>\n",
              "      <td>0.0</td>\n",
              "    </tr>\n",
              "    <tr>\n",
              "      <th>4</th>\n",
              "      <td>adótartozás behajtás</td>\n",
              "      <td>0.0</td>\n",
              "      <td>0.0</td>\n",
              "      <td>0.0</td>\n",
              "      <td>0.0</td>\n",
              "      <td>0.0</td>\n",
              "    </tr>\n",
              "    <tr>\n",
              "      <th>5</th>\n",
              "      <td>albérlet engedélyezése</td>\n",
              "      <td>0.0</td>\n",
              "      <td>0.0</td>\n",
              "      <td>0.0</td>\n",
              "      <td>0.0</td>\n",
              "      <td>0.0</td>\n",
              "    </tr>\n",
              "    <tr>\n",
              "      <th>6</th>\n",
              "      <td>becsületsértés</td>\n",
              "      <td>0.0</td>\n",
              "      <td>0.0</td>\n",
              "      <td>0.0</td>\n",
              "      <td>0.0</td>\n",
              "      <td>0.0</td>\n",
              "    </tr>\n",
              "    <tr>\n",
              "      <th>7</th>\n",
              "      <td>birtokvédelem</td>\n",
              "      <td>0.0</td>\n",
              "      <td>0.0</td>\n",
              "      <td>0.0</td>\n",
              "      <td>0.0</td>\n",
              "      <td>0.0</td>\n",
              "    </tr>\n",
              "    <tr>\n",
              "      <th>8</th>\n",
              "      <td>biztosítási csalás</td>\n",
              "      <td>0.0</td>\n",
              "      <td>0.0</td>\n",
              "      <td>0.0</td>\n",
              "      <td>0.0</td>\n",
              "      <td>0.0</td>\n",
              "    </tr>\n",
              "    <tr>\n",
              "      <th>9</th>\n",
              "      <td>biztosítási szerződés</td>\n",
              "      <td>0.0</td>\n",
              "      <td>0.0</td>\n",
              "      <td>0.0</td>\n",
              "      <td>0.0</td>\n",
              "      <td>0.0</td>\n",
              "    </tr>\n",
              "  </tbody>\n",
              "</table>\n",
              "</div>"
            ],
            "text/plain": [
              "                               query_id  ndcg@10  map  mrr  precision@10  \\\n",
              "0       adásvételi szerződés módosítása      0.0  0.0  0.0           0.0   \n",
              "1  adásvételi szerződés érvénytelensége      0.0  0.0  0.0           0.0   \n",
              "2               adóhatósági végrehajtás      0.0  0.0  0.0           0.0   \n",
              "3                adóköteles tevékenység      0.0  0.0  0.0           0.0   \n",
              "4                  adótartozás behajtás      0.0  0.0  0.0           0.0   \n",
              "5                albérlet engedélyezése      0.0  0.0  0.0           0.0   \n",
              "6                        becsületsértés      0.0  0.0  0.0           0.0   \n",
              "7                         birtokvédelem      0.0  0.0  0.0           0.0   \n",
              "8                    biztosítási csalás      0.0  0.0  0.0           0.0   \n",
              "9                 biztosítási szerződés      0.0  0.0  0.0           0.0   \n",
              "\n",
              "   recall@10  \n",
              "0        0.0  \n",
              "1        0.0  \n",
              "2        0.0  \n",
              "3        0.0  \n",
              "4        0.0  \n",
              "5        0.0  \n",
              "6        0.0  \n",
              "7        0.0  \n",
              "8        0.0  \n",
              "9        0.0  "
            ]
          },
          "metadata": {},
          "output_type": "display_data"
        }
      ],
      "source": [
        "if not query_metrics_df.empty:\n",
        "    print(\"\\n📋 Top 10 legjobb teljesítményű query (nDCG@10 alapján):\")\n",
        "    display(query_metrics_df.nlargest(10, \"ndcg@10\")[[\"query_id\", \"ndcg@10\", \"map\", \"mrr\", \"precision@10\", \"recall@10\"]])\n",
        "    \n",
        "    print(\"\\n📋 Top 10 leggyengébb teljesítményű query (nDCG@10 alapján):\")\n",
        "    display(query_metrics_df.nsmallest(10, \"ndcg@10\")[[\"query_id\", \"ndcg@10\", \"map\", \"mrr\", \"precision@10\", \"recall@10\"]])\n"
      ]
    },
    {
      "cell_type": "markdown",
      "metadata": {},
      "source": [
        "## 8. Vizualizációk\n"
      ]
    },
    {
      "cell_type": "code",
      "execution_count": 9,
      "metadata": {},
      "outputs": [
        {
          "data": {
            "image/png": "[encoded data removed]",
            "text/plain": [
              "<Figure size 1400x1000 with 4 Axes>"
            ]
          },
          "metadata": {},
          "output_type": "display_data"
        },
        {
          "name": "stdout",
          "output_type": "stream",
          "text": [
            "✅ Vizualizációk generálva\n"
          ]
        }
      ],
      "source": [
        "if not query_metrics_df.empty:\n",
        "    # Stílus beállítása\n",
        "    sns.set_style(\"whitegrid\")\n",
        "    plt.rcParams['figure.figsize'] = (14, 10)\n",
        "    \n",
        "    fig, axes = plt.subplots(2, 2, figsize=(14, 10))\n",
        "    \n",
        "    # 1. nDCG@K eloszlás\n",
        "    ax1 = axes[0, 0]\n",
        "    ndcg_cols = [col for col in query_metrics_df.columns if col.startswith('ndcg@')]\n",
        "    query_metrics_df[ndcg_cols].boxplot(ax=ax1)\n",
        "    ax1.set_title('nDCG eloszlás különböző K értékeken', fontsize=12, fontweight='bold')\n",
        "    ax1.set_ylabel('nDCG érték')\n",
        "    ax1.set_xlabel('Metrika')\n",
        "    ax1.grid(True, alpha=0.3)\n",
        "    \n",
        "    # 2. MAP vs MRR\n",
        "    ax2 = axes[0, 1]\n",
        "    ax2.scatter(query_metrics_df['map'], query_metrics_df['mrr'], alpha=0.6)\n",
        "    ax2.set_title('MAP vs MRR korreláció', fontsize=12, fontweight='bold')\n",
        "    ax2.set_xlabel('MAP')\n",
        "    ax2.set_ylabel('MRR')\n",
        "    ax2.grid(True, alpha=0.3)\n",
        "    \n",
        "    # 3. Precision@K eloszlás\n",
        "    ax3 = axes[1, 0]\n",
        "    prec_cols = [col for col in query_metrics_df.columns if col.startswith('precision@')]\n",
        "    query_metrics_df[prec_cols].boxplot(ax=ax3)\n",
        "    ax3.set_title('Precision eloszlás különböző K értékeken', fontsize=12, fontweight='bold')\n",
        "    ax3.set_ylabel('Precision érték')\n",
        "    ax3.set_xlabel('Metrika')\n",
        "    ax3.grid(True, alpha=0.3)\n",
        "    \n",
        "    # 4. Recall@K eloszlás\n",
        "    ax4 = axes[1, 1]\n",
        "    recall_cols = [col for col in query_metrics_df.columns if col.startswith('recall@')]\n",
        "    query_metrics_df[recall_cols].boxplot(ax=ax4)\n",
        "    ax4.set_title('Recall eloszlás különböző K értékeken', fontsize=12, fontweight='bold')\n",
        "    ax4.set_ylabel('Recall érték')\n",
        "    ax4.set_xlabel('Metrika')\n",
        "    ax4.grid(True, alpha=0.3)\n",
        "    \n",
        "    plt.tight_layout()\n",
        "    plt.show()\n",
        "    \n",
        "    print(\"✅ Vizualizációk generálva\")\n"
      ]
    },
    {
      "cell_type": "markdown",
      "metadata": {},
      "source": [
        "## 9. nDCG@10 Részletes Eloszlás\n"
      ]
    },
    {
      "cell_type": "code",
      "execution_count": 10,
      "metadata": {},
      "outputs": [
        {
          "data": {
            "image/png": "[encoded data removed]",
            "text/plain": [
              "<Figure size 1200x500 with 2 Axes>"
            ]
          },
          "metadata": {},
          "output_type": "display_data"
        },
        {
          "name": "stdout",
          "output_type": "stream",
          "text": [
            "\n",
            "📊 nDCG@10 Percentilisek:\n",
            "  • 10. percentilis: 0.0000\n",
            "  • 25. percentilis: 0.0000\n",
            "  • 50. percentilis: 0.0000\n",
            "  • 75. percentilis: 0.0000\n",
            "  • 90. percentilis: 0.0000\n"
          ]
        }
      ],
      "source": [
        "if not query_metrics_df.empty and 'ndcg@10' in query_metrics_df.columns:\n",
        "    plt.figure(figsize=(12, 5))\n",
        "    \n",
        "    # Hisztogram\n",
        "    plt.subplot(1, 2, 1)\n",
        "    plt.hist(query_metrics_df['ndcg@10'], bins=20, alpha=0.7, edgecolor='black')\n",
        "    plt.axvline(aggregated_metrics['ndcg@10'], color='red', linestyle='--', linewidth=2, label=f'Átlag: {aggregated_metrics[\"ndcg@10\"]:.4f}')\n",
        "    plt.title('nDCG@10 Eloszlás', fontsize=12, fontweight='bold')\n",
        "    plt.xlabel('nDCG@10 érték')\n",
        "    plt.ylabel('Query-k száma')\n",
        "    plt.legend()\n",
        "    plt.grid(True, alpha=0.3)\n",
        "    \n",
        "    # Kumulatív eloszlás\n",
        "    plt.subplot(1, 2, 2)\n",
        "    sorted_ndcg = np.sort(query_metrics_df['ndcg@10'])\n",
        "    cumulative = np.arange(1, len(sorted_ndcg) + 1) / len(sorted_ndcg)\n",
        "    plt.plot(sorted_ndcg, cumulative, linewidth=2)\n",
        "    plt.axvline(aggregated_metrics['ndcg@10'], color='red', linestyle='--', linewidth=2, label=f'Átlag: {aggregated_metrics[\"ndcg@10\"]:.4f}')\n",
        "    plt.title('nDCG@10 Kumulatív Eloszlás', fontsize=12, fontweight='bold')\n",
        "    plt.xlabel('nDCG@10 érték')\n",
        "    plt.ylabel('Kumulatív arány')\n",
        "    plt.legend()\n",
        "    plt.grid(True, alpha=0.3)\n",
        "    \n",
        "    plt.tight_layout()\n",
        "    plt.show()\n",
        "    \n",
        "    # Percentilisek\n",
        "    percentiles = [10, 25, 50, 75, 90]\n",
        "    print(\"\\n📊 nDCG@10 Percentilisek:\")\n",
        "    for p in percentiles:\n",
        "        value = np.percentile(query_metrics_df['ndcg@10'], p)\n",
        "        print(f\"  • {p}. percentilis: {value:.4f}\")\n"
      ]
    },
    {
      "cell_type": "markdown",
      "metadata": {},
      "source": [
        "## 10. Eredmények Mentése\n"
      ]
    },
    {
      "cell_type": "code",
      "execution_count": 11,
      "metadata": {},
      "outputs": [
        {
          "name": "stdout",
          "output_type": "stream",
          "text": [
            "✅ Aggregált metrikák mentve: /Users/zelenyianszkimate/Documents/CourtRankRL/data/models/grpo_policy/baseline_metrics.json\n",
            "✅ Query-szintű metrikák mentve: /Users/zelenyianszkimate/Documents/CourtRankRL/data/models/grpo_policy/baseline_query_metrics.csv\n",
            "✅ Baseline találati listák mentve: /Users/zelenyianszkimate/Documents/CourtRankRL/data/models/grpo_policy/baseline_results.jsonl\n",
            "\n",
            "🎉 Minden eredmény sikeresen mentve!\n"
          ]
        }
      ],
      "source": [
        "# Mentési útvonalak\n",
        "output_dir = project_root / \"data\" / \"models\" / \"grpo_policy\"\n",
        "output_dir.mkdir(parents=True, exist_ok=True)\n",
        "\n",
        "# 1. Aggregált metrikák JSON-ba\n",
        "if aggregated_metrics:\n",
        "    baseline_metrics_path = output_dir / \"baseline_metrics.json\"\n",
        "    with open(baseline_metrics_path, 'w', encoding='utf-8') as f:\n",
        "        json.dump(aggregated_metrics, f, indent=2, ensure_ascii=False)\n",
        "    print(f\"✅ Aggregált metrikák mentve: {baseline_metrics_path}\")\n",
        "\n",
        "# 2. Query-szintű eredmények CSV-be\n",
        "if not query_metrics_df.empty:\n",
        "    query_metrics_path = output_dir / \"baseline_query_metrics.csv\"\n",
        "    query_metrics_df.to_csv(query_metrics_path, index=False, encoding='utf-8')\n",
        "    print(f\"✅ Query-szintű metrikák mentve: {query_metrics_path}\")\n",
        "\n",
        "# 3. Baseline találati listák JSONL-be (GRPO training inputhoz)\n",
        "if baseline_results:\n",
        "    baseline_results_path = output_dir / \"baseline_results.jsonl\"\n",
        "    with open(baseline_results_path, 'w', encoding='utf-8') as f:\n",
        "        for query_id, doc_ids in baseline_results.items():\n",
        "            result_obj = {\n",
        "                \"query_id\": query_id,\n",
        "                \"doc_ids\": doc_ids,\n",
        "                \"num_results\": len(doc_ids)\n",
        "            }\n",
        "            f.write(json.dumps(result_obj, ensure_ascii=False) + '\\n')\n",
        "    print(f\"✅ Baseline találati listák mentve: {baseline_results_path}\")\n",
        "\n",
        "print(\"\\n🎉 Minden eredmény sikeresen mentve!\")\n"
      ]
    },
    {
      "cell_type": "markdown",
      "metadata": {},
      "source": [
        "## 11. Összefoglalás és Következő Lépések\n"
      ]
    },
    {
      "cell_type": "code",
      "execution_count": 12,
      "metadata": {},
      "outputs": [
        {
          "name": "stdout",
          "output_type": "stream",
          "text": [
            "\n",
            "============================================================\n",
            "📝 ÖSSZEFOGLALÁS\n",
            "============================================================\n",
            "\n",
            "✅ Baseline értékelés sikeres:\n",
            "   • nDCG@10: 0.0000\n",
            "   • MAP:     0.0000\n",
            "   • MRR:     0.0000\n",
            "\n",
            "📊 Cél a GRPO reranking után:\n",
            "   • Elvárt nDCG@10 javulás: ≥0.03\n",
            "   • Célérték: ≥0.0300\n",
            "   • Javulást elérő query-k aránya: ≥60%\n",
            "\n",
            "🚀 Következő lépések:\n",
            "   1. GRPO training notebook (grpo_train_runpod.ipynb) futtatása\n",
            "   2. LoRA adapter training cloud környezetben\n",
            "   3. Reranked eredmények kiértékelése\n",
            "   4. Baseline vs. GRPO összehasonlítás\n",
            "\n",
            "============================================================\n"
          ]
        }
      ],
      "source": [
        "print(\"\\n\" + \"=\"*60)\n",
        "print(\"📝 ÖSSZEFOGLALÁS\")\n",
        "print(\"=\"*60)\n",
        "\n",
        "if aggregated_metrics:\n",
        "    print(f\"\\n✅ Baseline értékelés sikeres:\")\n",
        "    print(f\"   • nDCG@10: {aggregated_metrics.get('ndcg@10', 0.0):.4f}\")\n",
        "    print(f\"   • MAP:     {aggregated_metrics.get('map', 0.0):.4f}\")\n",
        "    print(f\"   • MRR:     {aggregated_metrics.get('mrr', 0.0):.4f}\")\n",
        "    \n",
        "    print(f\"\\n📊 Cél a GRPO reranking után:\")\n",
        "    target_ndcg = aggregated_metrics.get('ndcg@10', 0.0) + 0.03\n",
        "    print(f\"   • Elvárt nDCG@10 javulás: ≥0.03\")\n",
        "    print(f\"   • Célérték: ≥{target_ndcg:.4f}\")\n",
        "    print(f\"   • Javulást elérő query-k aránya: ≥60%\")\n",
        "    \n",
        "    print(f\"\\n🚀 Következő lépések:\")\n",
        "    print(f\"   1. GRPO training notebook (grpo_train_runpod.ipynb) futtatása\")\n",
        "    print(f\"   2. LoRA adapter training cloud környezetben\")\n",
        "    print(f\"   3. Reranked eredmények kiértékelése\")\n",
        "    print(f\"   4. Baseline vs. GRPO összehasonlítás\")\n",
        "else:\n",
        "    print(\"\\n⚠️  Nincs elérhető baseline eredmény\")\n",
        "    print(\"   Ellenőrizd a qrels fájlt és a hybrid_search komponenseket\")\n",
        "\n",
        "print(\"\\n\" + \"=\"*60)\n"
      ]
    }
  ],
  "metadata": {
    "kernelspec": {
      "display_name": ".venv",
      "language": "python",
      "name": "python3"
    },
    "language_info": {
      "codemirror_mode": {
        "name": "ipython",
        "version": 3
      },
      "file_extension": ".py",
      "mimetype": "text/x-python",
      "name": "python",
      "nbconvert_exporter": "python",
      "pygments_lexer": "ipython3",
      "version": "3.11.13"
    }
  },
  "nbformat": 4,
  "nbformat_minor": 2
}
