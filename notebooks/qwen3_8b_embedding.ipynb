{
  "cells": [
    {
      "cell_type": "raw",
      "metadata": {
        "vscode": {
          "languageId": "raw"
        }
      },
      "source": [
        "# 🏛️ Magyar Bírósági Határozatok - Embedding Generálás\n",
        "\n",
        "**Qwen/Qwen3-Embedding-8B modell használata A100 80GB GPU-n**\n",
        "\n",
        "---\n",
        "\n",
        "## 📋 Projekt Információk\n",
        "\n",
        "- **Embedding Modell**: Qwen/Qwen3-Embedding-8B\n",
        "- **Embedding Dimenzió**: 8192\n",
        "- **Ajánlott Hardver**: A100 80GB GPU (RunPod/Vast.ai)\n",
        "- **Becsült Futásidő**: 14-16 óra (~213k dokumentum)\n",
        "- **Kimeneti Formátum**: Parquet (8192 dimenziós embedding vektorok)\n",
        "\n",
        "---\n"
      ]
    },
    {
      "cell_type": "code",
      "execution_count": null,
      "metadata": {},
      "outputs": [],
      "source": [
        "#@title 📦 Könyvtárak telepítése\n",
        "!pip install -U torch sentence-transformers accelerate pyarrow pandas tqdm transformers\n",
        "print(\"✅ Könyvtárak telepítve\")\n"
      ]
    },
    {
      "cell_type": "code",
      "execution_count": null,
      "metadata": {},
      "outputs": [],
      "source": [
        "#@title 🚀 Qwen/Qwen3-Embedding-8B Script - Nagy Teljesítmény\n",
        "import pandas as pd\n",
        "import numpy as np\n",
        "import gc\n",
        "import json\n",
        "import pyarrow as pa\n",
        "import pyarrow.parquet as pq\n",
        "from sentence_transformers import SentenceTransformer\n",
        "import torch\n",
        "import tqdm\n",
        "import time\n",
        "import logging\n",
        "\n",
        "# ============================================================\n",
        "# KONFIGURÁLÁS - NAGY TELJESÍTMÉNY\n",
        "# ============================================================\n",
        "\n",
        "INPUT_CSV = \"cleaned_data_for_embedding.csv\"\n",
        "OUTPUT_PARQUET = \"processed_documents_with_embeddings.parquet\"\n",
        "MODEL_NAME = \"Qwen/Qwen3-Embedding-8B\"  # Pontos modellnév\n",
        "\n",
        "# Optimalizált paraméterek tisztított szövegekhez\n",
        "CHUNKSIZE = 5000\n",
        "BATCH_SIZE = 8\n",
        "MAX_TOKEN_LENGTH = 8192\n",
        "\n",
        "# GPU optimalizáció\n",
        "torch.backends.cudnn.benchmark = True\n",
        "torch.backends.cudnn.deterministic = False\n",
        "\n",
        "logging.basicConfig(level=logging.INFO, format='%(asctime)s - %(levelname)s - %(message)s')\n",
        "logger = logging.getLogger(__name__)\n",
        "\n",
        "print(\"🏛️ EMBEDDING GENERÁTOR\")\n",
        "print(\"=\" * 60)\n",
        "print(f\"Embedding Modell: {MODEL_NAME}\")\n",
        "print(f\"Embedding Dimenzió: 8192\")\n",
        "print(f\"Teljesítmény: Nagy\")\n",
        "print(\"=\" * 60)\n"
      ]
    }
  ],
  "metadata": {
    "language_info": {
      "name": "python"
    }
  },
  "nbformat": 4,
  "nbformat_minor": 2
}
